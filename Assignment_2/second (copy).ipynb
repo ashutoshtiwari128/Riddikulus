{
 "cells": [
  {
   "cell_type": "code",
   "execution_count": 1,
   "metadata": {},
   "outputs": [],
   "source": [
    "import numpy as np\n",
    "import pandas as pd\n",
    "import matplotlib.pyplot as plt\n",
    "from keras.utils import to_categorical\n",
    "from sklearn.model_selection import train_test_split\n",
    "from sklearn.metrics import auc, accuracy_score, confusion_matrix, mean_squared_error\n",
    "import xgboost as xgb"
   ]
  },
  {
   "cell_type": "code",
   "execution_count": 2,
   "metadata": {},
   "outputs": [
    {
     "data": {
      "text/html": [
       "<div>\n",
       "<style scoped>\n",
       "    .dataframe tbody tr th:only-of-type {\n",
       "        vertical-align: middle;\n",
       "    }\n",
       "\n",
       "    .dataframe tbody tr th {\n",
       "        vertical-align: top;\n",
       "    }\n",
       "\n",
       "    .dataframe thead th {\n",
       "        text-align: right;\n",
       "    }\n",
       "</style>\n",
       "<table border=\"1\" class=\"dataframe\">\n",
       "  <thead>\n",
       "    <tr style=\"text-align: right;\">\n",
       "      <th></th>\n",
       "      <th>Feature 1 (Discrete)</th>\n",
       "      <th>Feature 2 (Discrete)</th>\n",
       "      <th>Feature 3 (Discrete)</th>\n",
       "      <th>Feature 4 (Discrete)</th>\n",
       "      <th>Feature 5 (Discrete)</th>\n",
       "      <th>Feature 6 (Discrete)</th>\n",
       "      <th>Feature 7 (Discrete)</th>\n",
       "      <th>Feature 8 (Discrete)</th>\n",
       "      <th>Feature 9</th>\n",
       "      <th>Feature 10</th>\n",
       "      <th>...</th>\n",
       "      <th>Feature 16</th>\n",
       "      <th>Feature 17</th>\n",
       "      <th>Feature 18</th>\n",
       "      <th>Feature 19 (Discrete)</th>\n",
       "      <th>Feature 20 (Discrete)</th>\n",
       "      <th>Feature 21 (Discrete)</th>\n",
       "      <th>Feature 22 (Discrete)</th>\n",
       "      <th>Feature 23 (Discrete)</th>\n",
       "      <th>Feature 24</th>\n",
       "      <th>Target Variable (Discrete)</th>\n",
       "    </tr>\n",
       "  </thead>\n",
       "  <tbody>\n",
       "    <tr>\n",
       "      <th>0</th>\n",
       "      <td>1404</td>\n",
       "      <td>12</td>\n",
       "      <td>64</td>\n",
       "      <td>14</td>\n",
       "      <td>3</td>\n",
       "      <td>1</td>\n",
       "      <td>1</td>\n",
       "      <td>1</td>\n",
       "      <td>110.502</td>\n",
       "      <td>35775.2</td>\n",
       "      <td>...</td>\n",
       "      <td>NaN</td>\n",
       "      <td>NaN</td>\n",
       "      <td>15.04</td>\n",
       "      <td>104</td>\n",
       "      <td>12</td>\n",
       "      <td>2</td>\n",
       "      <td>32</td>\n",
       "      <td>1409</td>\n",
       "      <td>37677.1</td>\n",
       "      <td>1</td>\n",
       "    </tr>\n",
       "    <tr>\n",
       "      <th>1</th>\n",
       "      <td>909</td>\n",
       "      <td>0</td>\n",
       "      <td>235</td>\n",
       "      <td>32</td>\n",
       "      <td>1</td>\n",
       "      <td>1</td>\n",
       "      <td>1</td>\n",
       "      <td>1</td>\n",
       "      <td>-40.448</td>\n",
       "      <td>35779.4</td>\n",
       "      <td>...</td>\n",
       "      <td>2200.3</td>\n",
       "      <td>4900.005</td>\n",
       "      <td>12.03</td>\n",
       "      <td>20</td>\n",
       "      <td>1</td>\n",
       "      <td>0</td>\n",
       "      <td>13</td>\n",
       "      <td>909</td>\n",
       "      <td>25239.1</td>\n",
       "      <td>1</td>\n",
       "    </tr>\n",
       "    <tr>\n",
       "      <th>2</th>\n",
       "      <td>654</td>\n",
       "      <td>3</td>\n",
       "      <td>175</td>\n",
       "      <td>2</td>\n",
       "      <td>1</td>\n",
       "      <td>1</td>\n",
       "      <td>1</td>\n",
       "      <td>1</td>\n",
       "      <td>-27.445</td>\n",
       "      <td>35770.4</td>\n",
       "      <td>...</td>\n",
       "      <td>1973.3</td>\n",
       "      <td>10000.004</td>\n",
       "      <td>13.01</td>\n",
       "      <td>1</td>\n",
       "      <td>1</td>\n",
       "      <td>0</td>\n",
       "      <td>13</td>\n",
       "      <td>654</td>\n",
       "      <td>27683.5</td>\n",
       "      <td>1</td>\n",
       "    </tr>\n",
       "    <tr>\n",
       "      <th>3</th>\n",
       "      <td>1372</td>\n",
       "      <td>12</td>\n",
       "      <td>382</td>\n",
       "      <td>14</td>\n",
       "      <td>2</td>\n",
       "      <td>0</td>\n",
       "      <td>1</td>\n",
       "      <td>0</td>\n",
       "      <td>0.001</td>\n",
       "      <td>509.2</td>\n",
       "      <td>...</td>\n",
       "      <td>NaN</td>\n",
       "      <td>NaN</td>\n",
       "      <td>NaN</td>\n",
       "      <td>313</td>\n",
       "      <td>12</td>\n",
       "      <td>10</td>\n",
       "      <td>54</td>\n",
       "      <td>1377</td>\n",
       "      <td>39363.2</td>\n",
       "      <td>0</td>\n",
       "    </tr>\n",
       "    <tr>\n",
       "      <th>4</th>\n",
       "      <td>786</td>\n",
       "      <td>3</td>\n",
       "      <td>199</td>\n",
       "      <td>2</td>\n",
       "      <td>1</td>\n",
       "      <td>0</td>\n",
       "      <td>1</td>\n",
       "      <td>0</td>\n",
       "      <td>0.001</td>\n",
       "      <td>612.1</td>\n",
       "      <td>...</td>\n",
       "      <td>NaN</td>\n",
       "      <td>NaN</td>\n",
       "      <td>NaN</td>\n",
       "      <td>171</td>\n",
       "      <td>1</td>\n",
       "      <td>5</td>\n",
       "      <td>11</td>\n",
       "      <td>786</td>\n",
       "      <td>40044.4</td>\n",
       "      <td>2</td>\n",
       "    </tr>\n",
       "  </tbody>\n",
       "</table>\n",
       "<p>5 rows × 25 columns</p>\n",
       "</div>"
      ],
      "text/plain": [
       "   Feature 1 (Discrete)  Feature 2 (Discrete)  Feature 3 (Discrete)  \\\n",
       "0                  1404                    12                    64   \n",
       "1                   909                     0                   235   \n",
       "2                   654                     3                   175   \n",
       "3                  1372                    12                   382   \n",
       "4                   786                     3                   199   \n",
       "\n",
       "   Feature 4 (Discrete)  Feature 5 (Discrete)  Feature 6 (Discrete)  \\\n",
       "0                    14                     3                     1   \n",
       "1                    32                     1                     1   \n",
       "2                     2                     1                     1   \n",
       "3                    14                     2                     0   \n",
       "4                     2                     1                     0   \n",
       "\n",
       "   Feature 7 (Discrete)  Feature 8 (Discrete)  Feature 9  Feature 10  ...  \\\n",
       "0                     1                     1    110.502     35775.2  ...   \n",
       "1                     1                     1    -40.448     35779.4  ...   \n",
       "2                     1                     1    -27.445     35770.4  ...   \n",
       "3                     1                     0      0.001       509.2  ...   \n",
       "4                     1                     0      0.001       612.1  ...   \n",
       "\n",
       "   Feature 16  Feature 17  Feature 18  Feature 19 (Discrete)  \\\n",
       "0         NaN         NaN       15.04                    104   \n",
       "1      2200.3    4900.005       12.03                     20   \n",
       "2      1973.3   10000.004       13.01                      1   \n",
       "3         NaN         NaN         NaN                    313   \n",
       "4         NaN         NaN         NaN                    171   \n",
       "\n",
       "   Feature 20 (Discrete)  Feature 21 (Discrete)  Feature 22 (Discrete)  \\\n",
       "0                     12                      2                     32   \n",
       "1                      1                      0                     13   \n",
       "2                      1                      0                     13   \n",
       "3                     12                     10                     54   \n",
       "4                      1                      5                     11   \n",
       "\n",
       "   Feature 23 (Discrete)  Feature 24  Target Variable (Discrete)  \n",
       "0                   1409     37677.1                           1  \n",
       "1                    909     25239.1                           1  \n",
       "2                    654     27683.5                           1  \n",
       "3                   1377     39363.2                           0  \n",
       "4                    786     40044.4                           2  \n",
       "\n",
       "[5 rows x 25 columns]"
      ]
     },
     "execution_count": 2,
     "metadata": {},
     "output_type": "execute_result"
    }
   ],
   "source": [
    "df = pd.read_csv('iith_foml_2020_train.csv')\n",
    "df.head()"
   ]
  },
  {
   "cell_type": "code",
   "execution_count": 3,
   "metadata": {},
   "outputs": [
    {
     "name": "stdout",
     "output_type": "stream",
     "text": [
      "Feature 1 (Discrete) 989\n",
      "Feature 2 (Discrete) 40\n",
      "Feature 3 (Discrete) 303\n",
      "Feature 4 (Discrete) 65\n",
      "Feature 5 (Discrete) 14\n",
      "Feature 6 (Discrete) 5\n",
      "Feature 7 (Discrete) 20\n",
      "Feature 8 (Discrete) 8\n",
      "Feature 9 346\n",
      "Feature 10 684\n",
      "Feature 11 687\n",
      "Feature 12 704\n",
      "Feature 13 523\n",
      "Feature 14 608\n",
      "Feature 15 673\n",
      "Feature 16 886\n",
      "Feature 17 797\n",
      "Feature 18 435\n",
      "Feature 19 (Discrete) 259\n",
      "Feature 20 (Discrete) 52\n",
      "Feature 21 (Discrete) 23\n",
      "Feature 22 (Discrete) 137\n",
      "Feature 23 (Discrete) 994\n",
      "Feature 24 994\n",
      "Target Variable (Discrete) 18\n"
     ]
    }
   ],
   "source": [
    "for col in df.columns:\n",
    "    print(col, np.unique(df[col]).shape[0])"
   ]
  },
  {
   "cell_type": "code",
   "execution_count": 4,
   "metadata": {},
   "outputs": [
    {
     "data": {
      "text/plain": [
       "Feature 1 (Discrete)           0.000000\n",
       "Feature 2 (Discrete)           0.000000\n",
       "Feature 3 (Discrete)           0.000000\n",
       "Feature 4 (Discrete)           0.000000\n",
       "Feature 5 (Discrete)           0.000000\n",
       "Feature 6 (Discrete)           0.000000\n",
       "Feature 7 (Discrete)           0.000000\n",
       "Feature 8 (Discrete)           0.000000\n",
       "Feature 9                      1.408451\n",
       "Feature 10                     0.100604\n",
       "Feature 11                     0.100604\n",
       "Feature 12                     0.100604\n",
       "Feature 13                     0.100604\n",
       "Feature 14                     0.100604\n",
       "Feature 15                     7.243461\n",
       "Feature 16                    67.303823\n",
       "Feature 17                    54.929577\n",
       "Feature 18                    33.199195\n",
       "Feature 19 (Discrete)          0.000000\n",
       "Feature 20 (Discrete)          0.000000\n",
       "Feature 21 (Discrete)          0.000000\n",
       "Feature 22 (Discrete)          0.000000\n",
       "Feature 23 (Discrete)          0.000000\n",
       "Feature 24                     0.100604\n",
       "Target Variable (Discrete)     0.000000\n",
       "dtype: float64"
      ]
     },
     "execution_count": 4,
     "metadata": {},
     "output_type": "execute_result"
    }
   ],
   "source": [
    "df.isna().sum()*100/994"
   ]
  },
  {
   "cell_type": "code",
   "execution_count": 5,
   "metadata": {},
   "outputs": [
    {
     "data": {
      "text/html": [
       "<div>\n",
       "<style scoped>\n",
       "    .dataframe tbody tr th:only-of-type {\n",
       "        vertical-align: middle;\n",
       "    }\n",
       "\n",
       "    .dataframe tbody tr th {\n",
       "        vertical-align: top;\n",
       "    }\n",
       "\n",
       "    .dataframe thead th {\n",
       "        text-align: right;\n",
       "    }\n",
       "</style>\n",
       "<table border=\"1\" class=\"dataframe\">\n",
       "  <thead>\n",
       "    <tr style=\"text-align: right;\">\n",
       "      <th></th>\n",
       "      <th>Feature 1 (Discrete)</th>\n",
       "      <th>Feature 2 (Discrete)</th>\n",
       "      <th>Feature 3 (Discrete)</th>\n",
       "      <th>Feature 4 (Discrete)</th>\n",
       "      <th>Feature 5 (Discrete)</th>\n",
       "      <th>Feature 6 (Discrete)</th>\n",
       "      <th>Feature 7 (Discrete)</th>\n",
       "      <th>Feature 8 (Discrete)</th>\n",
       "      <th>Feature 9</th>\n",
       "      <th>Feature 10</th>\n",
       "      <th>...</th>\n",
       "      <th>Feature 13</th>\n",
       "      <th>Feature 14</th>\n",
       "      <th>Feature 15</th>\n",
       "      <th>Feature 18</th>\n",
       "      <th>Feature 19 (Discrete)</th>\n",
       "      <th>Feature 20 (Discrete)</th>\n",
       "      <th>Feature 21 (Discrete)</th>\n",
       "      <th>Feature 22 (Discrete)</th>\n",
       "      <th>Feature 24</th>\n",
       "      <th>Target Variable (Discrete)</th>\n",
       "    </tr>\n",
       "  </thead>\n",
       "  <tbody>\n",
       "    <tr>\n",
       "      <th>0</th>\n",
       "      <td>1404</td>\n",
       "      <td>12</td>\n",
       "      <td>64</td>\n",
       "      <td>14</td>\n",
       "      <td>3</td>\n",
       "      <td>1</td>\n",
       "      <td>1</td>\n",
       "      <td>1</td>\n",
       "      <td>110.502</td>\n",
       "      <td>35775.2</td>\n",
       "      <td>...</td>\n",
       "      <td>0.172</td>\n",
       "      <td>1436.052</td>\n",
       "      <td>5000.5</td>\n",
       "      <td>15.04</td>\n",
       "      <td>104</td>\n",
       "      <td>12</td>\n",
       "      <td>2</td>\n",
       "      <td>32</td>\n",
       "      <td>37677.1</td>\n",
       "      <td>1</td>\n",
       "    </tr>\n",
       "    <tr>\n",
       "      <th>1</th>\n",
       "      <td>909</td>\n",
       "      <td>0</td>\n",
       "      <td>235</td>\n",
       "      <td>32</td>\n",
       "      <td>1</td>\n",
       "      <td>1</td>\n",
       "      <td>1</td>\n",
       "      <td>1</td>\n",
       "      <td>-40.448</td>\n",
       "      <td>35779.4</td>\n",
       "      <td>...</td>\n",
       "      <td>0.032</td>\n",
       "      <td>1436.111</td>\n",
       "      <td>3720.5</td>\n",
       "      <td>12.03</td>\n",
       "      <td>20</td>\n",
       "      <td>1</td>\n",
       "      <td>0</td>\n",
       "      <td>13</td>\n",
       "      <td>25239.1</td>\n",
       "      <td>1</td>\n",
       "    </tr>\n",
       "    <tr>\n",
       "      <th>2</th>\n",
       "      <td>654</td>\n",
       "      <td>3</td>\n",
       "      <td>175</td>\n",
       "      <td>2</td>\n",
       "      <td>1</td>\n",
       "      <td>1</td>\n",
       "      <td>1</td>\n",
       "      <td>1</td>\n",
       "      <td>-27.445</td>\n",
       "      <td>35770.4</td>\n",
       "      <td>...</td>\n",
       "      <td>0.021</td>\n",
       "      <td>1436.103</td>\n",
       "      <td>4685.4</td>\n",
       "      <td>13.01</td>\n",
       "      <td>1</td>\n",
       "      <td>1</td>\n",
       "      <td>0</td>\n",
       "      <td>13</td>\n",
       "      <td>27683.5</td>\n",
       "      <td>1</td>\n",
       "    </tr>\n",
       "    <tr>\n",
       "      <th>3</th>\n",
       "      <td>1372</td>\n",
       "      <td>12</td>\n",
       "      <td>382</td>\n",
       "      <td>14</td>\n",
       "      <td>2</td>\n",
       "      <td>0</td>\n",
       "      <td>1</td>\n",
       "      <td>0</td>\n",
       "      <td>0.001</td>\n",
       "      <td>509.2</td>\n",
       "      <td>...</td>\n",
       "      <td>97.541</td>\n",
       "      <td>94.844</td>\n",
       "      <td>NaN</td>\n",
       "      <td>NaN</td>\n",
       "      <td>313</td>\n",
       "      <td>12</td>\n",
       "      <td>10</td>\n",
       "      <td>54</td>\n",
       "      <td>39363.2</td>\n",
       "      <td>0</td>\n",
       "    </tr>\n",
       "    <tr>\n",
       "      <th>4</th>\n",
       "      <td>786</td>\n",
       "      <td>3</td>\n",
       "      <td>199</td>\n",
       "      <td>2</td>\n",
       "      <td>1</td>\n",
       "      <td>0</td>\n",
       "      <td>1</td>\n",
       "      <td>0</td>\n",
       "      <td>0.001</td>\n",
       "      <td>612.1</td>\n",
       "      <td>...</td>\n",
       "      <td>97.981</td>\n",
       "      <td>97.823</td>\n",
       "      <td>4.1</td>\n",
       "      <td>NaN</td>\n",
       "      <td>171</td>\n",
       "      <td>1</td>\n",
       "      <td>5</td>\n",
       "      <td>11</td>\n",
       "      <td>40044.4</td>\n",
       "      <td>2</td>\n",
       "    </tr>\n",
       "  </tbody>\n",
       "</table>\n",
       "<p>5 rows × 22 columns</p>\n",
       "</div>"
      ],
      "text/plain": [
       "   Feature 1 (Discrete)  Feature 2 (Discrete)  Feature 3 (Discrete)  \\\n",
       "0                  1404                    12                    64   \n",
       "1                   909                     0                   235   \n",
       "2                   654                     3                   175   \n",
       "3                  1372                    12                   382   \n",
       "4                   786                     3                   199   \n",
       "\n",
       "   Feature 4 (Discrete)  Feature 5 (Discrete)  Feature 6 (Discrete)  \\\n",
       "0                    14                     3                     1   \n",
       "1                    32                     1                     1   \n",
       "2                     2                     1                     1   \n",
       "3                    14                     2                     0   \n",
       "4                     2                     1                     0   \n",
       "\n",
       "   Feature 7 (Discrete)  Feature 8 (Discrete)  Feature 9  Feature 10  ...  \\\n",
       "0                     1                     1    110.502     35775.2  ...   \n",
       "1                     1                     1    -40.448     35779.4  ...   \n",
       "2                     1                     1    -27.445     35770.4  ...   \n",
       "3                     1                     0      0.001       509.2  ...   \n",
       "4                     1                     0      0.001       612.1  ...   \n",
       "\n",
       "   Feature 13  Feature 14  Feature 15  Feature 18  Feature 19 (Discrete)  \\\n",
       "0       0.172    1436.052      5000.5       15.04                    104   \n",
       "1       0.032    1436.111      3720.5       12.03                     20   \n",
       "2       0.021    1436.103      4685.4       13.01                      1   \n",
       "3      97.541      94.844         NaN         NaN                    313   \n",
       "4      97.981      97.823         4.1         NaN                    171   \n",
       "\n",
       "   Feature 20 (Discrete)  Feature 21 (Discrete)  Feature 22 (Discrete)  \\\n",
       "0                     12                      2                     32   \n",
       "1                      1                      0                     13   \n",
       "2                      1                      0                     13   \n",
       "3                     12                     10                     54   \n",
       "4                      1                      5                     11   \n",
       "\n",
       "   Feature 24  Target Variable (Discrete)  \n",
       "0     37677.1                           1  \n",
       "1     25239.1                           1  \n",
       "2     27683.5                           1  \n",
       "3     39363.2                           0  \n",
       "4     40044.4                           2  \n",
       "\n",
       "[5 rows x 22 columns]"
      ]
     },
     "execution_count": 5,
     "metadata": {},
     "output_type": "execute_result"
    }
   ],
   "source": [
    "#drop Feature 16, 17, 23\n",
    "#Elsewhere replace nan with median\n",
    "df.drop(columns = ['Feature 16', 'Feature 17','Feature 23 (Discrete)'], inplace = True)\n",
    "df.head()"
   ]
  },
  {
   "cell_type": "code",
   "execution_count": 6,
   "metadata": {},
   "outputs": [
    {
     "data": {
      "text/plain": [
       "Feature 1 (Discrete)          0.0\n",
       "Feature 2 (Discrete)          0.0\n",
       "Feature 3 (Discrete)          0.0\n",
       "Feature 4 (Discrete)          0.0\n",
       "Feature 5 (Discrete)          0.0\n",
       "Feature 6 (Discrete)          0.0\n",
       "Feature 7 (Discrete)          0.0\n",
       "Feature 8 (Discrete)          0.0\n",
       "Feature 9                     0.0\n",
       "Feature 10                    0.0\n",
       "Feature 11                    0.0\n",
       "Feature 12                    0.0\n",
       "Feature 13                    0.0\n",
       "Feature 14                    0.0\n",
       "Feature 15                    0.0\n",
       "Feature 18                    0.0\n",
       "Feature 19 (Discrete)         0.0\n",
       "Feature 20 (Discrete)         0.0\n",
       "Feature 21 (Discrete)         0.0\n",
       "Feature 22 (Discrete)         0.0\n",
       "Feature 24                    0.0\n",
       "Target Variable (Discrete)    0.0\n",
       "dtype: float64"
      ]
     },
     "execution_count": 6,
     "metadata": {},
     "output_type": "execute_result"
    }
   ],
   "source": [
    "for i in range(21):\n",
    "    df[df.columns[i]].fillna(df[df.columns[i]].median(), inplace = True)\n",
    "df.isna().sum()*100/994"
   ]
  },
  {
   "cell_type": "code",
   "execution_count": 7,
   "metadata": {},
   "outputs": [
    {
     "data": {
      "text/plain": [
       "(974, 22)"
      ]
     },
     "execution_count": 7,
     "metadata": {},
     "output_type": "execute_result"
    }
   ],
   "source": [
    "labels = df['Target Variable (Discrete)'].value_counts()[df['Target Variable (Discrete)'].value_counts()<5]\n",
    "for i in range(len(labels.index)):\n",
    "    df.drop(index = df[df['Target Variable (Discrete)']==labels.index[i]].index.values, inplace = True)\n",
    "df.shape"
   ]
  },
  {
   "cell_type": "code",
   "execution_count": 8,
   "metadata": {},
   "outputs": [
    {
     "data": {
      "text/plain": [
       "1     488\n",
       "0     249\n",
       "2     109\n",
       "6      70\n",
       "5      41\n",
       "8       7\n",
       "14      5\n",
       "7       5\n",
       "Name: Target Variable (Discrete), dtype: int64"
      ]
     },
     "execution_count": 8,
     "metadata": {},
     "output_type": "execute_result"
    }
   ],
   "source": [
    "df['Target Variable (Discrete)'].value_counts()"
   ]
  },
  {
   "cell_type": "code",
   "execution_count": null,
   "metadata": {},
   "outputs": [],
   "source": []
  },
  {
   "cell_type": "code",
   "execution_count": 9,
   "metadata": {},
   "outputs": [
    {
     "data": {
      "text/html": [
       "<div>\n",
       "<style scoped>\n",
       "    .dataframe tbody tr th:only-of-type {\n",
       "        vertical-align: middle;\n",
       "    }\n",
       "\n",
       "    .dataframe tbody tr th {\n",
       "        vertical-align: top;\n",
       "    }\n",
       "\n",
       "    .dataframe thead th {\n",
       "        text-align: right;\n",
       "    }\n",
       "</style>\n",
       "<table border=\"1\" class=\"dataframe\">\n",
       "  <thead>\n",
       "    <tr style=\"text-align: right;\">\n",
       "      <th></th>\n",
       "      <th>Feature 1 (Discrete)</th>\n",
       "      <th>Feature 2 (Discrete)</th>\n",
       "      <th>Feature 3 (Discrete)</th>\n",
       "      <th>Feature 4 (Discrete)</th>\n",
       "      <th>Feature 5 (Discrete)</th>\n",
       "      <th>Feature 6 (Discrete)</th>\n",
       "      <th>Feature 7 (Discrete)</th>\n",
       "      <th>Feature 8 (Discrete)</th>\n",
       "      <th>Feature 9</th>\n",
       "      <th>Feature 10</th>\n",
       "      <th>...</th>\n",
       "      <th>Feature 15</th>\n",
       "      <th>Feature 16</th>\n",
       "      <th>Feature 17</th>\n",
       "      <th>Feature 18</th>\n",
       "      <th>Feature 19 (Discrete)</th>\n",
       "      <th>Feature 20 (Discrete)</th>\n",
       "      <th>Feature 21 (Discrete)</th>\n",
       "      <th>Feature 22 (Discrete)</th>\n",
       "      <th>Feature 23 (Discrete)</th>\n",
       "      <th>Feature 24</th>\n",
       "    </tr>\n",
       "  </thead>\n",
       "  <tbody>\n",
       "    <tr>\n",
       "      <th>0</th>\n",
       "      <td>146</td>\n",
       "      <td>12</td>\n",
       "      <td>42</td>\n",
       "      <td>14</td>\n",
       "      <td>7</td>\n",
       "      <td>1</td>\n",
       "      <td>1</td>\n",
       "      <td>1</td>\n",
       "      <td>118.004</td>\n",
       "      <td>35693.5</td>\n",
       "      <td>...</td>\n",
       "      <td>4200.3</td>\n",
       "      <td>1900.1</td>\n",
       "      <td>NaN</td>\n",
       "      <td>NaN</td>\n",
       "      <td>44</td>\n",
       "      <td>12</td>\n",
       "      <td>2</td>\n",
       "      <td>42</td>\n",
       "      <td>146</td>\n",
       "      <td>37384.5</td>\n",
       "    </tr>\n",
       "    <tr>\n",
       "      <th>1</th>\n",
       "      <td>35</td>\n",
       "      <td>0</td>\n",
       "      <td>12</td>\n",
       "      <td>5</td>\n",
       "      <td>0</td>\n",
       "      <td>0</td>\n",
       "      <td>1</td>\n",
       "      <td>0</td>\n",
       "      <td>0.001</td>\n",
       "      <td>471.5</td>\n",
       "      <td>...</td>\n",
       "      <td>531.4</td>\n",
       "      <td>NaN</td>\n",
       "      <td>NaN</td>\n",
       "      <td>NaN</td>\n",
       "      <td>17</td>\n",
       "      <td>6</td>\n",
       "      <td>8</td>\n",
       "      <td>0</td>\n",
       "      <td>35</td>\n",
       "      <td>41465.1</td>\n",
       "    </tr>\n",
       "    <tr>\n",
       "      <th>2</th>\n",
       "      <td>1018</td>\n",
       "      <td>8</td>\n",
       "      <td>259</td>\n",
       "      <td>2</td>\n",
       "      <td>1</td>\n",
       "      <td>1</td>\n",
       "      <td>1</td>\n",
       "      <td>1</td>\n",
       "      <td>NaN</td>\n",
       "      <td>35774.5</td>\n",
       "      <td>...</td>\n",
       "      <td>5514.2</td>\n",
       "      <td>NaN</td>\n",
       "      <td>NaN</td>\n",
       "      <td>15.04</td>\n",
       "      <td>1</td>\n",
       "      <td>1</td>\n",
       "      <td>3</td>\n",
       "      <td>20</td>\n",
       "      <td>1018</td>\n",
       "      <td>37826.2</td>\n",
       "    </tr>\n",
       "    <tr>\n",
       "      <th>3</th>\n",
       "      <td>383</td>\n",
       "      <td>7</td>\n",
       "      <td>117</td>\n",
       "      <td>5</td>\n",
       "      <td>1</td>\n",
       "      <td>1</td>\n",
       "      <td>1</td>\n",
       "      <td>1</td>\n",
       "      <td>53.002</td>\n",
       "      <td>34094.1</td>\n",
       "      <td>...</td>\n",
       "      <td>3358.4</td>\n",
       "      <td>1100.2</td>\n",
       "      <td>14000.001</td>\n",
       "      <td>15.04</td>\n",
       "      <td>101</td>\n",
       "      <td>6</td>\n",
       "      <td>3</td>\n",
       "      <td>20</td>\n",
       "      <td>383</td>\n",
       "      <td>40277.3</td>\n",
       "    </tr>\n",
       "    <tr>\n",
       "      <th>4</th>\n",
       "      <td>1216</td>\n",
       "      <td>7</td>\n",
       "      <td>40</td>\n",
       "      <td>5</td>\n",
       "      <td>2</td>\n",
       "      <td>0</td>\n",
       "      <td>1</td>\n",
       "      <td>4</td>\n",
       "      <td>0.005</td>\n",
       "      <td>1471.3</td>\n",
       "      <td>...</td>\n",
       "      <td>225.1</td>\n",
       "      <td>NaN</td>\n",
       "      <td>NaN</td>\n",
       "      <td>3.02</td>\n",
       "      <td>276</td>\n",
       "      <td>6</td>\n",
       "      <td>7</td>\n",
       "      <td>43</td>\n",
       "      <td>1221</td>\n",
       "      <td>28419.5</td>\n",
       "    </tr>\n",
       "  </tbody>\n",
       "</table>\n",
       "<p>5 rows × 24 columns</p>\n",
       "</div>"
      ],
      "text/plain": [
       "   Feature 1 (Discrete)  Feature 2 (Discrete)  Feature 3 (Discrete)  \\\n",
       "0                   146                    12                    42   \n",
       "1                    35                     0                    12   \n",
       "2                  1018                     8                   259   \n",
       "3                   383                     7                   117   \n",
       "4                  1216                     7                    40   \n",
       "\n",
       "   Feature 4 (Discrete)  Feature 5 (Discrete)  Feature 6 (Discrete)  \\\n",
       "0                    14                     7                     1   \n",
       "1                     5                     0                     0   \n",
       "2                     2                     1                     1   \n",
       "3                     5                     1                     1   \n",
       "4                     5                     2                     0   \n",
       "\n",
       "   Feature 7 (Discrete)  Feature 8 (Discrete)  Feature 9  Feature 10  ...  \\\n",
       "0                     1                     1    118.004     35693.5  ...   \n",
       "1                     1                     0      0.001       471.5  ...   \n",
       "2                     1                     1        NaN     35774.5  ...   \n",
       "3                     1                     1     53.002     34094.1  ...   \n",
       "4                     1                     4      0.005      1471.3  ...   \n",
       "\n",
       "   Feature 15  Feature 16  Feature 17  Feature 18  Feature 19 (Discrete)  \\\n",
       "0      4200.3      1900.1         NaN         NaN                     44   \n",
       "1       531.4         NaN         NaN         NaN                     17   \n",
       "2      5514.2         NaN         NaN       15.04                      1   \n",
       "3      3358.4      1100.2   14000.001       15.04                    101   \n",
       "4       225.1         NaN         NaN        3.02                    276   \n",
       "\n",
       "   Feature 20 (Discrete)  Feature 21 (Discrete)  Feature 22 (Discrete)  \\\n",
       "0                     12                      2                     42   \n",
       "1                      6                      8                      0   \n",
       "2                      1                      3                     20   \n",
       "3                      6                      3                     20   \n",
       "4                      6                      7                     43   \n",
       "\n",
       "   Feature 23 (Discrete)  Feature 24  \n",
       "0                    146     37384.5  \n",
       "1                     35     41465.1  \n",
       "2                   1018     37826.2  \n",
       "3                    383     40277.3  \n",
       "4                   1221     28419.5  \n",
       "\n",
       "[5 rows x 24 columns]"
      ]
     },
     "execution_count": 9,
     "metadata": {},
     "output_type": "execute_result"
    }
   ],
   "source": [
    "df_tst = pd.read_csv('iith_foml_2020_test.csv')\n",
    "df_tst.head()"
   ]
  },
  {
   "cell_type": "code",
   "execution_count": 10,
   "metadata": {},
   "outputs": [
    {
     "data": {
      "text/html": [
       "<div>\n",
       "<style scoped>\n",
       "    .dataframe tbody tr th:only-of-type {\n",
       "        vertical-align: middle;\n",
       "    }\n",
       "\n",
       "    .dataframe tbody tr th {\n",
       "        vertical-align: top;\n",
       "    }\n",
       "\n",
       "    .dataframe thead th {\n",
       "        text-align: right;\n",
       "    }\n",
       "</style>\n",
       "<table border=\"1\" class=\"dataframe\">\n",
       "  <thead>\n",
       "    <tr style=\"text-align: right;\">\n",
       "      <th></th>\n",
       "      <th>Feature 1 (Discrete)</th>\n",
       "      <th>Feature 2 (Discrete)</th>\n",
       "      <th>Feature 3 (Discrete)</th>\n",
       "      <th>Feature 4 (Discrete)</th>\n",
       "      <th>Feature 5 (Discrete)</th>\n",
       "      <th>Feature 6 (Discrete)</th>\n",
       "      <th>Feature 7 (Discrete)</th>\n",
       "      <th>Feature 8 (Discrete)</th>\n",
       "      <th>Feature 9</th>\n",
       "      <th>Feature 10</th>\n",
       "      <th>...</th>\n",
       "      <th>Feature 12</th>\n",
       "      <th>Feature 13</th>\n",
       "      <th>Feature 14</th>\n",
       "      <th>Feature 15</th>\n",
       "      <th>Feature 18</th>\n",
       "      <th>Feature 19 (Discrete)</th>\n",
       "      <th>Feature 20 (Discrete)</th>\n",
       "      <th>Feature 21 (Discrete)</th>\n",
       "      <th>Feature 22 (Discrete)</th>\n",
       "      <th>Feature 24</th>\n",
       "    </tr>\n",
       "  </thead>\n",
       "  <tbody>\n",
       "    <tr>\n",
       "      <th>0</th>\n",
       "      <td>146</td>\n",
       "      <td>12</td>\n",
       "      <td>42</td>\n",
       "      <td>14</td>\n",
       "      <td>7</td>\n",
       "      <td>1</td>\n",
       "      <td>1</td>\n",
       "      <td>1</td>\n",
       "      <td>118.004</td>\n",
       "      <td>35693.5</td>\n",
       "      <td>...</td>\n",
       "      <td>0.025200</td>\n",
       "      <td>96.405</td>\n",
       "      <td>1435.935</td>\n",
       "      <td>4200.3</td>\n",
       "      <td>NaN</td>\n",
       "      <td>44</td>\n",
       "      <td>12</td>\n",
       "      <td>2</td>\n",
       "      <td>42</td>\n",
       "      <td>37384.5</td>\n",
       "    </tr>\n",
       "    <tr>\n",
       "      <th>1</th>\n",
       "      <td>35</td>\n",
       "      <td>0</td>\n",
       "      <td>12</td>\n",
       "      <td>5</td>\n",
       "      <td>0</td>\n",
       "      <td>0</td>\n",
       "      <td>1</td>\n",
       "      <td>0</td>\n",
       "      <td>0.001</td>\n",
       "      <td>471.5</td>\n",
       "      <td>...</td>\n",
       "      <td>0.001100</td>\n",
       "      <td>97.285</td>\n",
       "      <td>94.181</td>\n",
       "      <td>531.4</td>\n",
       "      <td>NaN</td>\n",
       "      <td>17</td>\n",
       "      <td>6</td>\n",
       "      <td>8</td>\n",
       "      <td>0</td>\n",
       "      <td>41465.1</td>\n",
       "    </tr>\n",
       "    <tr>\n",
       "      <th>2</th>\n",
       "      <td>1018</td>\n",
       "      <td>8</td>\n",
       "      <td>259</td>\n",
       "      <td>2</td>\n",
       "      <td>1</td>\n",
       "      <td>1</td>\n",
       "      <td>1</td>\n",
       "      <td>1</td>\n",
       "      <td>NaN</td>\n",
       "      <td>35774.5</td>\n",
       "      <td>...</td>\n",
       "      <td>0.000285</td>\n",
       "      <td>0.023</td>\n",
       "      <td>1436.092</td>\n",
       "      <td>5514.2</td>\n",
       "      <td>15.04</td>\n",
       "      <td>1</td>\n",
       "      <td>1</td>\n",
       "      <td>3</td>\n",
       "      <td>20</td>\n",
       "      <td>37826.2</td>\n",
       "    </tr>\n",
       "    <tr>\n",
       "      <th>3</th>\n",
       "      <td>383</td>\n",
       "      <td>7</td>\n",
       "      <td>117</td>\n",
       "      <td>5</td>\n",
       "      <td>1</td>\n",
       "      <td>1</td>\n",
       "      <td>1</td>\n",
       "      <td>1</td>\n",
       "      <td>53.002</td>\n",
       "      <td>34094.1</td>\n",
       "      <td>...</td>\n",
       "      <td>0.041900</td>\n",
       "      <td>0.531</td>\n",
       "      <td>1440.095</td>\n",
       "      <td>3358.4</td>\n",
       "      <td>15.04</td>\n",
       "      <td>101</td>\n",
       "      <td>6</td>\n",
       "      <td>3</td>\n",
       "      <td>20</td>\n",
       "      <td>40277.3</td>\n",
       "    </tr>\n",
       "    <tr>\n",
       "      <th>4</th>\n",
       "      <td>1216</td>\n",
       "      <td>7</td>\n",
       "      <td>40</td>\n",
       "      <td>5</td>\n",
       "      <td>2</td>\n",
       "      <td>0</td>\n",
       "      <td>1</td>\n",
       "      <td>4</td>\n",
       "      <td>0.005</td>\n",
       "      <td>1471.3</td>\n",
       "      <td>...</td>\n",
       "      <td>0.001530</td>\n",
       "      <td>82.502</td>\n",
       "      <td>115.504</td>\n",
       "      <td>225.1</td>\n",
       "      <td>3.02</td>\n",
       "      <td>276</td>\n",
       "      <td>6</td>\n",
       "      <td>7</td>\n",
       "      <td>43</td>\n",
       "      <td>28419.5</td>\n",
       "    </tr>\n",
       "  </tbody>\n",
       "</table>\n",
       "<p>5 rows × 21 columns</p>\n",
       "</div>"
      ],
      "text/plain": [
       "   Feature 1 (Discrete)  Feature 2 (Discrete)  Feature 3 (Discrete)  \\\n",
       "0                   146                    12                    42   \n",
       "1                    35                     0                    12   \n",
       "2                  1018                     8                   259   \n",
       "3                   383                     7                   117   \n",
       "4                  1216                     7                    40   \n",
       "\n",
       "   Feature 4 (Discrete)  Feature 5 (Discrete)  Feature 6 (Discrete)  \\\n",
       "0                    14                     7                     1   \n",
       "1                     5                     0                     0   \n",
       "2                     2                     1                     1   \n",
       "3                     5                     1                     1   \n",
       "4                     5                     2                     0   \n",
       "\n",
       "   Feature 7 (Discrete)  Feature 8 (Discrete)  Feature 9  Feature 10  ...  \\\n",
       "0                     1                     1    118.004     35693.5  ...   \n",
       "1                     1                     0      0.001       471.5  ...   \n",
       "2                     1                     1        NaN     35774.5  ...   \n",
       "3                     1                     1     53.002     34094.1  ...   \n",
       "4                     1                     4      0.005      1471.3  ...   \n",
       "\n",
       "   Feature 12  Feature 13  Feature 14  Feature 15  Feature 18  \\\n",
       "0    0.025200      96.405    1435.935      4200.3         NaN   \n",
       "1    0.001100      97.285      94.181       531.4         NaN   \n",
       "2    0.000285       0.023    1436.092      5514.2       15.04   \n",
       "3    0.041900       0.531    1440.095      3358.4       15.04   \n",
       "4    0.001530      82.502     115.504       225.1        3.02   \n",
       "\n",
       "   Feature 19 (Discrete)  Feature 20 (Discrete)  Feature 21 (Discrete)  \\\n",
       "0                     44                     12                      2   \n",
       "1                     17                      6                      8   \n",
       "2                      1                      1                      3   \n",
       "3                    101                      6                      3   \n",
       "4                    276                      6                      7   \n",
       "\n",
       "   Feature 22 (Discrete)  Feature 24  \n",
       "0                     42     37384.5  \n",
       "1                      0     41465.1  \n",
       "2                     20     37826.2  \n",
       "3                     20     40277.3  \n",
       "4                     43     28419.5  \n",
       "\n",
       "[5 rows x 21 columns]"
      ]
     },
     "execution_count": 10,
     "metadata": {},
     "output_type": "execute_result"
    }
   ],
   "source": [
    "df_tst.drop(columns = ['Feature 16', 'Feature 17', 'Feature 23 (Discrete)'], inplace = True)\n",
    "df_tst.head()"
   ]
  },
  {
   "cell_type": "code",
   "execution_count": 11,
   "metadata": {},
   "outputs": [
    {
     "data": {
      "text/html": [
       "<div>\n",
       "<style scoped>\n",
       "    .dataframe tbody tr th:only-of-type {\n",
       "        vertical-align: middle;\n",
       "    }\n",
       "\n",
       "    .dataframe tbody tr th {\n",
       "        vertical-align: top;\n",
       "    }\n",
       "\n",
       "    .dataframe thead th {\n",
       "        text-align: right;\n",
       "    }\n",
       "</style>\n",
       "<table border=\"1\" class=\"dataframe\">\n",
       "  <thead>\n",
       "    <tr style=\"text-align: right;\">\n",
       "      <th></th>\n",
       "      <th>Feature 1 (Discrete)</th>\n",
       "      <th>Feature 2 (Discrete)</th>\n",
       "      <th>Feature 3 (Discrete)</th>\n",
       "      <th>Feature 4 (Discrete)</th>\n",
       "      <th>Feature 5 (Discrete)</th>\n",
       "      <th>Feature 6 (Discrete)</th>\n",
       "      <th>Feature 7 (Discrete)</th>\n",
       "      <th>Feature 8 (Discrete)</th>\n",
       "      <th>Feature 9</th>\n",
       "      <th>Feature 10</th>\n",
       "      <th>...</th>\n",
       "      <th>Feature 12</th>\n",
       "      <th>Feature 13</th>\n",
       "      <th>Feature 14</th>\n",
       "      <th>Feature 15</th>\n",
       "      <th>Feature 18</th>\n",
       "      <th>Feature 19 (Discrete)</th>\n",
       "      <th>Feature 20 (Discrete)</th>\n",
       "      <th>Feature 21 (Discrete)</th>\n",
       "      <th>Feature 22 (Discrete)</th>\n",
       "      <th>Feature 24</th>\n",
       "    </tr>\n",
       "  </thead>\n",
       "  <tbody>\n",
       "    <tr>\n",
       "      <th>0</th>\n",
       "      <td>146</td>\n",
       "      <td>12</td>\n",
       "      <td>42</td>\n",
       "      <td>14</td>\n",
       "      <td>7</td>\n",
       "      <td>1</td>\n",
       "      <td>1</td>\n",
       "      <td>1</td>\n",
       "      <td>118.004</td>\n",
       "      <td>35693.5</td>\n",
       "      <td>...</td>\n",
       "      <td>0.025200</td>\n",
       "      <td>96.405</td>\n",
       "      <td>1435.935</td>\n",
       "      <td>4200.3</td>\n",
       "      <td>10.05</td>\n",
       "      <td>44</td>\n",
       "      <td>12</td>\n",
       "      <td>2</td>\n",
       "      <td>42</td>\n",
       "      <td>37384.5</td>\n",
       "    </tr>\n",
       "    <tr>\n",
       "      <th>1</th>\n",
       "      <td>35</td>\n",
       "      <td>0</td>\n",
       "      <td>12</td>\n",
       "      <td>5</td>\n",
       "      <td>0</td>\n",
       "      <td>0</td>\n",
       "      <td>1</td>\n",
       "      <td>0</td>\n",
       "      <td>0.001</td>\n",
       "      <td>471.5</td>\n",
       "      <td>...</td>\n",
       "      <td>0.001100</td>\n",
       "      <td>97.285</td>\n",
       "      <td>94.181</td>\n",
       "      <td>531.4</td>\n",
       "      <td>10.05</td>\n",
       "      <td>17</td>\n",
       "      <td>6</td>\n",
       "      <td>8</td>\n",
       "      <td>0</td>\n",
       "      <td>41465.1</td>\n",
       "    </tr>\n",
       "    <tr>\n",
       "      <th>2</th>\n",
       "      <td>1018</td>\n",
       "      <td>8</td>\n",
       "      <td>259</td>\n",
       "      <td>2</td>\n",
       "      <td>1</td>\n",
       "      <td>1</td>\n",
       "      <td>1</td>\n",
       "      <td>1</td>\n",
       "      <td>0.003</td>\n",
       "      <td>35774.5</td>\n",
       "      <td>...</td>\n",
       "      <td>0.000285</td>\n",
       "      <td>0.023</td>\n",
       "      <td>1436.092</td>\n",
       "      <td>5514.2</td>\n",
       "      <td>15.04</td>\n",
       "      <td>1</td>\n",
       "      <td>1</td>\n",
       "      <td>3</td>\n",
       "      <td>20</td>\n",
       "      <td>37826.2</td>\n",
       "    </tr>\n",
       "    <tr>\n",
       "      <th>3</th>\n",
       "      <td>383</td>\n",
       "      <td>7</td>\n",
       "      <td>117</td>\n",
       "      <td>5</td>\n",
       "      <td>1</td>\n",
       "      <td>1</td>\n",
       "      <td>1</td>\n",
       "      <td>1</td>\n",
       "      <td>53.002</td>\n",
       "      <td>34094.1</td>\n",
       "      <td>...</td>\n",
       "      <td>0.041900</td>\n",
       "      <td>0.531</td>\n",
       "      <td>1440.095</td>\n",
       "      <td>3358.4</td>\n",
       "      <td>15.04</td>\n",
       "      <td>101</td>\n",
       "      <td>6</td>\n",
       "      <td>3</td>\n",
       "      <td>20</td>\n",
       "      <td>40277.3</td>\n",
       "    </tr>\n",
       "    <tr>\n",
       "      <th>4</th>\n",
       "      <td>1216</td>\n",
       "      <td>7</td>\n",
       "      <td>40</td>\n",
       "      <td>5</td>\n",
       "      <td>2</td>\n",
       "      <td>0</td>\n",
       "      <td>1</td>\n",
       "      <td>4</td>\n",
       "      <td>0.005</td>\n",
       "      <td>1471.3</td>\n",
       "      <td>...</td>\n",
       "      <td>0.001530</td>\n",
       "      <td>82.502</td>\n",
       "      <td>115.504</td>\n",
       "      <td>225.1</td>\n",
       "      <td>3.02</td>\n",
       "      <td>276</td>\n",
       "      <td>6</td>\n",
       "      <td>7</td>\n",
       "      <td>43</td>\n",
       "      <td>28419.5</td>\n",
       "    </tr>\n",
       "  </tbody>\n",
       "</table>\n",
       "<p>5 rows × 21 columns</p>\n",
       "</div>"
      ],
      "text/plain": [
       "   Feature 1 (Discrete)  Feature 2 (Discrete)  Feature 3 (Discrete)  \\\n",
       "0                   146                    12                    42   \n",
       "1                    35                     0                    12   \n",
       "2                  1018                     8                   259   \n",
       "3                   383                     7                   117   \n",
       "4                  1216                     7                    40   \n",
       "\n",
       "   Feature 4 (Discrete)  Feature 5 (Discrete)  Feature 6 (Discrete)  \\\n",
       "0                    14                     7                     1   \n",
       "1                     5                     0                     0   \n",
       "2                     2                     1                     1   \n",
       "3                     5                     1                     1   \n",
       "4                     5                     2                     0   \n",
       "\n",
       "   Feature 7 (Discrete)  Feature 8 (Discrete)  Feature 9  Feature 10  ...  \\\n",
       "0                     1                     1    118.004     35693.5  ...   \n",
       "1                     1                     0      0.001       471.5  ...   \n",
       "2                     1                     1      0.003     35774.5  ...   \n",
       "3                     1                     1     53.002     34094.1  ...   \n",
       "4                     1                     4      0.005      1471.3  ...   \n",
       "\n",
       "   Feature 12  Feature 13  Feature 14  Feature 15  Feature 18  \\\n",
       "0    0.025200      96.405    1435.935      4200.3       10.05   \n",
       "1    0.001100      97.285      94.181       531.4       10.05   \n",
       "2    0.000285       0.023    1436.092      5514.2       15.04   \n",
       "3    0.041900       0.531    1440.095      3358.4       15.04   \n",
       "4    0.001530      82.502     115.504       225.1        3.02   \n",
       "\n",
       "   Feature 19 (Discrete)  Feature 20 (Discrete)  Feature 21 (Discrete)  \\\n",
       "0                     44                     12                      2   \n",
       "1                     17                      6                      8   \n",
       "2                      1                      1                      3   \n",
       "3                    101                      6                      3   \n",
       "4                    276                      6                      7   \n",
       "\n",
       "   Feature 22 (Discrete)  Feature 24  \n",
       "0                     42     37384.5  \n",
       "1                      0     41465.1  \n",
       "2                     20     37826.2  \n",
       "3                     20     40277.3  \n",
       "4                     43     28419.5  \n",
       "\n",
       "[5 rows x 21 columns]"
      ]
     },
     "execution_count": 11,
     "metadata": {},
     "output_type": "execute_result"
    }
   ],
   "source": [
    "for i in range(21):\n",
    "    df_tst[df_tst.columns[i]].fillna(df[df.columns[i]].median(), inplace = True)\n",
    "df_tst.head()"
   ]
  },
  {
   "cell_type": "code",
   "execution_count": 12,
   "metadata": {},
   "outputs": [
    {
     "data": {
      "text/plain": [
       "Feature 1 (Discrete)     0\n",
       "Feature 2 (Discrete)     0\n",
       "Feature 3 (Discrete)     0\n",
       "Feature 4 (Discrete)     0\n",
       "Feature 5 (Discrete)     0\n",
       "Feature 6 (Discrete)     0\n",
       "Feature 7 (Discrete)     0\n",
       "Feature 8 (Discrete)     0\n",
       "Feature 9                0\n",
       "Feature 10               0\n",
       "Feature 11               0\n",
       "Feature 12               0\n",
       "Feature 13               0\n",
       "Feature 14               0\n",
       "Feature 15               0\n",
       "Feature 18               0\n",
       "Feature 19 (Discrete)    0\n",
       "Feature 20 (Discrete)    0\n",
       "Feature 21 (Discrete)    0\n",
       "Feature 22 (Discrete)    0\n",
       "Feature 24               0\n",
       "dtype: int64"
      ]
     },
     "execution_count": 12,
     "metadata": {},
     "output_type": "execute_result"
    }
   ],
   "source": [
    "df_tst.isna().sum()"
   ]
  },
  {
   "cell_type": "code",
   "execution_count": 13,
   "metadata": {},
   "outputs": [
    {
     "data": {
      "text/plain": [
       "(426, 21)"
      ]
     },
     "execution_count": 13,
     "metadata": {},
     "output_type": "execute_result"
    }
   ],
   "source": [
    "df_tst.shape"
   ]
  },
  {
   "cell_type": "code",
   "execution_count": null,
   "metadata": {},
   "outputs": [],
   "source": [
    "Target Variable (Discrete)"
   ]
  },
  {
   "cell_type": "code",
   "execution_count": 14,
   "metadata": {},
   "outputs": [
    {
     "data": {
      "text/plain": [
       "0      1\n",
       "1      1\n",
       "2      1\n",
       "3      0\n",
       "4      2\n",
       "      ..\n",
       "989    0\n",
       "990    2\n",
       "991    6\n",
       "992    0\n",
       "993    2\n",
       "Name: Target Variable (Discrete), Length: 974, dtype: int64"
      ]
     },
     "execution_count": 14,
     "metadata": {},
     "output_type": "execute_result"
    }
   ],
   "source": [
    "df_tgt = df['Target Variable (Discrete)']\n",
    "df_tgt"
   ]
  },
  {
   "cell_type": "code",
   "execution_count": 21,
   "metadata": {},
   "outputs": [
    {
     "data": {
      "text/plain": [
       "(974, 21)"
      ]
     },
     "execution_count": 21,
     "metadata": {},
     "output_type": "execute_result"
    }
   ],
   "source": [
    "df.drop(columns = 'Target Variable (Discrete)', inplace = True)\n",
    "df.shape"
   ]
  },
  {
   "cell_type": "code",
   "execution_count": 22,
   "metadata": {},
   "outputs": [
    {
     "data": {
      "text/plain": [
       "(1400, 21)"
      ]
     },
     "execution_count": 22,
     "metadata": {},
     "output_type": "execute_result"
    }
   ],
   "source": [
    "df_combined = df.append(df_tst)\n",
    "df_combined.shape"
   ]
  },
  {
   "cell_type": "code",
   "execution_count": 23,
   "metadata": {},
   "outputs": [
    {
     "data": {
      "text/plain": [
       "Index(['Feature 1 (Discrete)', 'Feature 2 (Discrete)', 'Feature 3 (Discrete)',\n",
       "       'Feature 4 (Discrete)', 'Feature 5 (Discrete)', 'Feature 6 (Discrete)',\n",
       "       'Feature 7 (Discrete)', 'Feature 8 (Discrete)', 'Feature 9',\n",
       "       'Feature 10', 'Feature 11', 'Feature 12', 'Feature 13', 'Feature 14',\n",
       "       'Feature 15', 'Feature 18', 'Feature 19 (Discrete)',\n",
       "       'Feature 20 (Discrete)', 'Feature 21 (Discrete)',\n",
       "       'Feature 22 (Discrete)', 'Feature 24'],\n",
       "      dtype='object')"
      ]
     },
     "execution_count": 23,
     "metadata": {},
     "output_type": "execute_result"
    }
   ],
   "source": [
    "df_combined.columns"
   ]
  },
  {
   "cell_type": "code",
   "execution_count": 24,
   "metadata": {},
   "outputs": [
    {
     "data": {
      "text/plain": [
       "(1400, 9)"
      ]
     },
     "execution_count": 24,
     "metadata": {},
     "output_type": "execute_result"
    }
   ],
   "source": [
    "to_categorical(df_combined['Feature 8 (Discrete)']).shape"
   ]
  },
  {
   "cell_type": "code",
   "execution_count": 35,
   "metadata": {},
   "outputs": [
    {
     "data": {
      "text/plain": [
       "(1400, 86)"
      ]
     },
     "execution_count": 35,
     "metadata": {},
     "output_type": "execute_result"
    }
   ],
   "source": [
    "encd = []\n",
    "\n",
    "#First 8 discrete features\n",
    "df_final = df_combined['Feature 1 (Discrete)']\n",
    "\n",
    "for i in range(1, 8):\n",
    "    if(df_combined[df_combined.columns[i]].unique().size < 25):\n",
    "        df_final = pd.concat([df_final, pd.get_dummies(df_combined[df_combined.columns[i]], prefix = df_combined.columns[i])], axis = 1)\n",
    "        #df_combined.drop(columns = df_combined.columns[i])\n",
    "        encd.append(i)\n",
    "    else:\n",
    "        df_final = pd.concat([df_final, df_combined[df_combined.columns[i]]], axis = 1)\n",
    "        \n",
    "for i in range(8, 16):\n",
    "    df_final = pd.concat([df_final, df_combined[df_combined.columns[i]]], axis = 1)\n",
    "    \n",
    "for i in range(16, 20):\n",
    "    if(df_combined[df_combined.columns[i]].unique().size < 25):\n",
    "        df_final = pd.concat([df_final, pd.get_dummies(df_combined[df_combined.columns[i]], prefix = df_combined.columns[i])], axis = 1)\n",
    "        #df_combined.drop(columns = df_combined.columns[i])\n",
    "        encd.append(i)\n",
    "    else:\n",
    "        df_final = pd.concat([df_final, df_combined[df_combined.columns[i]]], axis = 1)\n",
    "\n",
    "df_final = pd.concat([df_final, df_combined[df_combined.columns[20]]], axis = 1)\n",
    "\n",
    "df_final.shape"
   ]
  },
  {
   "cell_type": "code",
   "execution_count": 30,
   "metadata": {},
   "outputs": [
    {
     "data": {
      "text/plain": [
       "[4, 5, 6, 7, -3]"
      ]
     },
     "execution_count": 30,
     "metadata": {},
     "output_type": "execute_result"
    }
   ],
   "source": [
    "encd"
   ]
  },
  {
   "cell_type": "code",
   "execution_count": 31,
   "metadata": {},
   "outputs": [
    {
     "data": {
      "text/plain": [
       "Index(['Feature 1 (Discrete)', 'Feature 2 (Discrete)', 'Feature 3 (Discrete)',\n",
       "       'Feature 4 (Discrete)', 'Feature 5 (Discrete)_0',\n",
       "       'Feature 5 (Discrete)_1', 'Feature 5 (Discrete)_2',\n",
       "       'Feature 5 (Discrete)_3', 'Feature 5 (Discrete)_4',\n",
       "       'Feature 5 (Discrete)_5', 'Feature 5 (Discrete)_6',\n",
       "       'Feature 5 (Discrete)_7', 'Feature 5 (Discrete)_8',\n",
       "       'Feature 5 (Discrete)_9', 'Feature 5 (Discrete)_10',\n",
       "       'Feature 5 (Discrete)_11', 'Feature 5 (Discrete)_12',\n",
       "       'Feature 5 (Discrete)_14', 'Feature 6 (Discrete)_0',\n",
       "       'Feature 6 (Discrete)_1', 'Feature 6 (Discrete)_2',\n",
       "       'Feature 6 (Discrete)_3', 'Feature 7 (Discrete)_0',\n",
       "       'Feature 7 (Discrete)_1', 'Feature 7 (Discrete)_2',\n",
       "       'Feature 7 (Discrete)_3', 'Feature 7 (Discrete)_4',\n",
       "       'Feature 7 (Discrete)_5', 'Feature 7 (Discrete)_6',\n",
       "       'Feature 7 (Discrete)_8', 'Feature 7 (Discrete)_9',\n",
       "       'Feature 7 (Discrete)_10', 'Feature 7 (Discrete)_11',\n",
       "       'Feature 7 (Discrete)_12', 'Feature 7 (Discrete)_13',\n",
       "       'Feature 7 (Discrete)_14', 'Feature 7 (Discrete)_15',\n",
       "       'Feature 7 (Discrete)_16', 'Feature 7 (Discrete)_18',\n",
       "       'Feature 7 (Discrete)_19', 'Feature 7 (Discrete)_20',\n",
       "       'Feature 8 (Discrete)_0', 'Feature 8 (Discrete)_1',\n",
       "       'Feature 8 (Discrete)_2', 'Feature 8 (Discrete)_3',\n",
       "       'Feature 8 (Discrete)_4', 'Feature 8 (Discrete)_5',\n",
       "       'Feature 8 (Discrete)_6', 'Feature 8 (Discrete)_7',\n",
       "       'Feature 8 (Discrete)_8', 'Feature 19 (Discrete)',\n",
       "       'Feature 20 (Discrete)', 'Feature 21 (Discrete)_0',\n",
       "       'Feature 21 (Discrete)_1', 'Feature 21 (Discrete)_2',\n",
       "       'Feature 21 (Discrete)_3', 'Feature 21 (Discrete)_4',\n",
       "       'Feature 21 (Discrete)_5', 'Feature 21 (Discrete)_6',\n",
       "       'Feature 21 (Discrete)_7', 'Feature 21 (Discrete)_8',\n",
       "       'Feature 21 (Discrete)_9', 'Feature 21 (Discrete)_10',\n",
       "       'Feature 21 (Discrete)_11', 'Feature 21 (Discrete)_12',\n",
       "       'Feature 21 (Discrete)_13', 'Feature 21 (Discrete)_14',\n",
       "       'Feature 21 (Discrete)_15', 'Feature 21 (Discrete)_16',\n",
       "       'Feature 21 (Discrete)_17', 'Feature 21 (Discrete)_18',\n",
       "       'Feature 21 (Discrete)_19', 'Feature 21 (Discrete)_20',\n",
       "       'Feature 21 (Discrete)_21', 'Feature 21 (Discrete)_23',\n",
       "       'Feature 21 (Discrete)_24', 'Feature 22 (Discrete)'],\n",
       "      dtype='object')"
      ]
     },
     "execution_count": 31,
     "metadata": {},
     "output_type": "execute_result"
    }
   ],
   "source": [
    "df_final.columns"
   ]
  },
  {
   "cell_type": "code",
   "execution_count": 32,
   "metadata": {},
   "outputs": [
    {
     "data": {
      "text/plain": [
       "(974, 21)"
      ]
     },
     "execution_count": 32,
     "metadata": {},
     "output_type": "execute_result"
    }
   ],
   "source": [
    "df.shape"
   ]
  },
  {
   "cell_type": "code",
   "execution_count": 36,
   "metadata": {},
   "outputs": [
    {
     "name": "stdout",
     "output_type": "stream",
     "text": [
      "(974, 86)\n",
      "(426, 86)\n"
     ]
    }
   ],
   "source": [
    "X_trn = df_final.iloc[:974, :]\n",
    "X_tst = df_final.iloc[974:, :]\n",
    "\n",
    "print(X_trn.shape)\n",
    "print(X_tst.shape)"
   ]
  },
  {
   "cell_type": "code",
   "execution_count": 38,
   "metadata": {},
   "outputs": [
    {
     "data": {
      "text/plain": [
       "(974,)"
      ]
     },
     "execution_count": 38,
     "metadata": {},
     "output_type": "execute_result"
    }
   ],
   "source": [
    "Y = df_tgt.values\n",
    "Y.shape"
   ]
  },
  {
   "cell_type": "code",
   "execution_count": 40,
   "metadata": {},
   "outputs": [
    {
     "name": "stdout",
     "output_type": "stream",
     "text": [
      "(779, 86)\n",
      "(195, 86)\n",
      "(779,)\n",
      "(195,)\n"
     ]
    }
   ],
   "source": [
    "x_trn, x_tst, y_trn, y_tst = train_test_split(X_trn, Y, test_size = 0.2, stratify = Y, random_state = 28)\n",
    "\n",
    "print(x_trn.shape)\n",
    "print(x_tst.shape)\n",
    "print(y_trn.shape)\n",
    "print(y_tst.shape)"
   ]
  },
  {
   "cell_type": "code",
   "execution_count": 183,
   "metadata": {},
   "outputs": [],
   "source": [
    "xgb_model = xgb.XGBClassifier(objective='multi:softprob', n_estimators = 25, max_depth=7,\n",
    "                              subsample = 0.7)"
   ]
  },
  {
   "cell_type": "code",
   "execution_count": 184,
   "metadata": {},
   "outputs": [
    {
     "name": "stderr",
     "output_type": "stream",
     "text": [
      "/home/ashutosh/.local/lib/python3.8/site-packages/xgboost/sklearn.py:888: UserWarning: The use of label encoder in XGBClassifier is deprecated and will be removed in a future release. To remove this warning, do the following: 1) Pass option use_label_encoder=False when constructing XGBClassifier object; and 2) Encode your labels (y) as integers starting with 0, i.e. 0, 1, 2, ..., [num_class - 1].\n",
      "  warnings.warn(label_encoder_deprecation_msg, UserWarning)\n"
     ]
    },
    {
     "name": "stdout",
     "output_type": "stream",
     "text": [
      "[17:32:55] WARNING: ../src/learner.cc:1061: Starting in XGBoost 1.3.0, the default evaluation metric used with the objective 'multi:softprob' was changed from 'merror' to 'mlogloss'. Explicitly set eval_metric if you'd like to restore the old behavior.\n"
     ]
    },
    {
     "data": {
      "text/plain": [
       "0.6205128205128205"
      ]
     },
     "execution_count": 184,
     "metadata": {},
     "output_type": "execute_result"
    }
   ],
   "source": [
    "xgb_model.fit(x_trn, y_trn)\n",
    "y_pred = xgb_model.predict(x_tst)\n",
    "\n",
    "mean_squared_error(y_tst, y_pred)"
   ]
  },
  {
   "cell_type": "code",
   "execution_count": 185,
   "metadata": {},
   "outputs": [
    {
     "data": {
      "text/plain": [
       "0.9282051282051282"
      ]
     },
     "execution_count": 185,
     "metadata": {},
     "output_type": "execute_result"
    }
   ],
   "source": [
    "accuracy_score(y_tst, y_pred)"
   ]
  },
  {
   "cell_type": "code",
   "execution_count": 186,
   "metadata": {},
   "outputs": [
    {
     "data": {
      "text/plain": [
       "1.0"
      ]
     },
     "execution_count": 186,
     "metadata": {},
     "output_type": "execute_result"
    }
   ],
   "source": [
    "accuracy_score(y_trn, xgb_model.predict(x_trn))"
   ]
  },
  {
   "cell_type": "code",
   "execution_count": 187,
   "metadata": {},
   "outputs": [
    {
     "data": {
      "text/plain": [
       "(426,)"
      ]
     },
     "execution_count": 187,
     "metadata": {},
     "output_type": "execute_result"
    }
   ],
   "source": [
    "submit = xgb_model.predict(X_tst).astype('int')\n",
    "submit.shape"
   ]
  },
  {
   "cell_type": "code",
   "execution_count": 188,
   "metadata": {},
   "outputs": [
    {
     "data": {
      "text/plain": [
       "(array([ 0,  1,  2,  5,  6,  7,  8, 14]),\n",
       " array([108, 222,  48,  17,  27,   1,   1,   2]))"
      ]
     },
     "execution_count": 188,
     "metadata": {},
     "output_type": "execute_result"
    }
   ],
   "source": [
    "np.unique(submit, return_counts=True)"
   ]
  },
  {
   "cell_type": "code",
   "execution_count": 189,
   "metadata": {},
   "outputs": [],
   "source": [
    "df_tst['Category'] = submit\n",
    "df_tst['Id'] = df_tst.index + 1"
   ]
  },
  {
   "cell_type": "code",
   "execution_count": 190,
   "metadata": {},
   "outputs": [],
   "source": [
    "df_tst[['Id', 'Category']].to_csv(\"XGBClassifier1.csv\", index = False)"
   ]
  },
  {
   "cell_type": "code",
   "execution_count": null,
   "metadata": {},
   "outputs": [],
   "source": []
  }
 ],
 "metadata": {
  "kernelspec": {
   "display_name": "Python 3",
   "language": "python",
   "name": "python3"
  },
  "language_info": {
   "codemirror_mode": {
    "name": "ipython",
    "version": 3
   },
   "file_extension": ".py",
   "mimetype": "text/x-python",
   "name": "python",
   "nbconvert_exporter": "python",
   "pygments_lexer": "ipython3",
   "version": "3.8.5"
  }
 },
 "nbformat": 4,
 "nbformat_minor": 4
}
