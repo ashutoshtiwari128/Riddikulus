{
 "cells": [
  {
   "cell_type": "code",
   "execution_count": 1,
   "metadata": {},
   "outputs": [],
   "source": [
    "import numpy as np\n",
    "import pandas as pd\n",
    "import matplotlib.pyplot as plt\n",
    "from keras.utils import to_categorical\n",
    "from sklearn.model_selection import train_test_split\n",
    "from sklearn.metrics import auc, accuracy_score, confusion_matrix, mean_squared_error\n",
    "import xgboost as xgb"
   ]
  },
  {
   "cell_type": "code",
   "execution_count": 2,
   "metadata": {},
   "outputs": [
    {
     "data": {
      "text/html": [
       "<div>\n",
       "<style scoped>\n",
       "    .dataframe tbody tr th:only-of-type {\n",
       "        vertical-align: middle;\n",
       "    }\n",
       "\n",
       "    .dataframe tbody tr th {\n",
       "        vertical-align: top;\n",
       "    }\n",
       "\n",
       "    .dataframe thead th {\n",
       "        text-align: right;\n",
       "    }\n",
       "</style>\n",
       "<table border=\"1\" class=\"dataframe\">\n",
       "  <thead>\n",
       "    <tr style=\"text-align: right;\">\n",
       "      <th></th>\n",
       "      <th>Feature 1 (Discrete)</th>\n",
       "      <th>Feature 2 (Discrete)</th>\n",
       "      <th>Feature 3 (Discrete)</th>\n",
       "      <th>Feature 4 (Discrete)</th>\n",
       "      <th>Feature 5 (Discrete)</th>\n",
       "      <th>Feature 6 (Discrete)</th>\n",
       "      <th>Feature 7 (Discrete)</th>\n",
       "      <th>Feature 8 (Discrete)</th>\n",
       "      <th>Feature 9</th>\n",
       "      <th>Feature 10</th>\n",
       "      <th>...</th>\n",
       "      <th>Feature 16</th>\n",
       "      <th>Feature 17</th>\n",
       "      <th>Feature 18</th>\n",
       "      <th>Feature 19 (Discrete)</th>\n",
       "      <th>Feature 20 (Discrete)</th>\n",
       "      <th>Feature 21 (Discrete)</th>\n",
       "      <th>Feature 22 (Discrete)</th>\n",
       "      <th>Feature 23 (Discrete)</th>\n",
       "      <th>Feature 24</th>\n",
       "      <th>Target Variable (Discrete)</th>\n",
       "    </tr>\n",
       "  </thead>\n",
       "  <tbody>\n",
       "    <tr>\n",
       "      <th>0</th>\n",
       "      <td>1404</td>\n",
       "      <td>12</td>\n",
       "      <td>64</td>\n",
       "      <td>14</td>\n",
       "      <td>3</td>\n",
       "      <td>1</td>\n",
       "      <td>1</td>\n",
       "      <td>1</td>\n",
       "      <td>110.502</td>\n",
       "      <td>35775.2</td>\n",
       "      <td>...</td>\n",
       "      <td>NaN</td>\n",
       "      <td>NaN</td>\n",
       "      <td>15.04</td>\n",
       "      <td>104</td>\n",
       "      <td>12</td>\n",
       "      <td>2</td>\n",
       "      <td>32</td>\n",
       "      <td>1409</td>\n",
       "      <td>37677.1</td>\n",
       "      <td>1</td>\n",
       "    </tr>\n",
       "    <tr>\n",
       "      <th>1</th>\n",
       "      <td>909</td>\n",
       "      <td>0</td>\n",
       "      <td>235</td>\n",
       "      <td>32</td>\n",
       "      <td>1</td>\n",
       "      <td>1</td>\n",
       "      <td>1</td>\n",
       "      <td>1</td>\n",
       "      <td>-40.448</td>\n",
       "      <td>35779.4</td>\n",
       "      <td>...</td>\n",
       "      <td>2200.3</td>\n",
       "      <td>4900.005</td>\n",
       "      <td>12.03</td>\n",
       "      <td>20</td>\n",
       "      <td>1</td>\n",
       "      <td>0</td>\n",
       "      <td>13</td>\n",
       "      <td>909</td>\n",
       "      <td>25239.1</td>\n",
       "      <td>1</td>\n",
       "    </tr>\n",
       "    <tr>\n",
       "      <th>2</th>\n",
       "      <td>654</td>\n",
       "      <td>3</td>\n",
       "      <td>175</td>\n",
       "      <td>2</td>\n",
       "      <td>1</td>\n",
       "      <td>1</td>\n",
       "      <td>1</td>\n",
       "      <td>1</td>\n",
       "      <td>-27.445</td>\n",
       "      <td>35770.4</td>\n",
       "      <td>...</td>\n",
       "      <td>1973.3</td>\n",
       "      <td>10000.004</td>\n",
       "      <td>13.01</td>\n",
       "      <td>1</td>\n",
       "      <td>1</td>\n",
       "      <td>0</td>\n",
       "      <td>13</td>\n",
       "      <td>654</td>\n",
       "      <td>27683.5</td>\n",
       "      <td>1</td>\n",
       "    </tr>\n",
       "    <tr>\n",
       "      <th>3</th>\n",
       "      <td>1372</td>\n",
       "      <td>12</td>\n",
       "      <td>382</td>\n",
       "      <td>14</td>\n",
       "      <td>2</td>\n",
       "      <td>0</td>\n",
       "      <td>1</td>\n",
       "      <td>0</td>\n",
       "      <td>0.001</td>\n",
       "      <td>509.2</td>\n",
       "      <td>...</td>\n",
       "      <td>NaN</td>\n",
       "      <td>NaN</td>\n",
       "      <td>NaN</td>\n",
       "      <td>313</td>\n",
       "      <td>12</td>\n",
       "      <td>10</td>\n",
       "      <td>54</td>\n",
       "      <td>1377</td>\n",
       "      <td>39363.2</td>\n",
       "      <td>0</td>\n",
       "    </tr>\n",
       "    <tr>\n",
       "      <th>4</th>\n",
       "      <td>786</td>\n",
       "      <td>3</td>\n",
       "      <td>199</td>\n",
       "      <td>2</td>\n",
       "      <td>1</td>\n",
       "      <td>0</td>\n",
       "      <td>1</td>\n",
       "      <td>0</td>\n",
       "      <td>0.001</td>\n",
       "      <td>612.1</td>\n",
       "      <td>...</td>\n",
       "      <td>NaN</td>\n",
       "      <td>NaN</td>\n",
       "      <td>NaN</td>\n",
       "      <td>171</td>\n",
       "      <td>1</td>\n",
       "      <td>5</td>\n",
       "      <td>11</td>\n",
       "      <td>786</td>\n",
       "      <td>40044.4</td>\n",
       "      <td>2</td>\n",
       "    </tr>\n",
       "  </tbody>\n",
       "</table>\n",
       "<p>5 rows × 25 columns</p>\n",
       "</div>"
      ],
      "text/plain": [
       "   Feature 1 (Discrete)  Feature 2 (Discrete)  Feature 3 (Discrete)  \\\n",
       "0                  1404                    12                    64   \n",
       "1                   909                     0                   235   \n",
       "2                   654                     3                   175   \n",
       "3                  1372                    12                   382   \n",
       "4                   786                     3                   199   \n",
       "\n",
       "   Feature 4 (Discrete)  Feature 5 (Discrete)  Feature 6 (Discrete)  \\\n",
       "0                    14                     3                     1   \n",
       "1                    32                     1                     1   \n",
       "2                     2                     1                     1   \n",
       "3                    14                     2                     0   \n",
       "4                     2                     1                     0   \n",
       "\n",
       "   Feature 7 (Discrete)  Feature 8 (Discrete)  Feature 9  Feature 10  ...  \\\n",
       "0                     1                     1    110.502     35775.2  ...   \n",
       "1                     1                     1    -40.448     35779.4  ...   \n",
       "2                     1                     1    -27.445     35770.4  ...   \n",
       "3                     1                     0      0.001       509.2  ...   \n",
       "4                     1                     0      0.001       612.1  ...   \n",
       "\n",
       "   Feature 16  Feature 17  Feature 18  Feature 19 (Discrete)  \\\n",
       "0         NaN         NaN       15.04                    104   \n",
       "1      2200.3    4900.005       12.03                     20   \n",
       "2      1973.3   10000.004       13.01                      1   \n",
       "3         NaN         NaN         NaN                    313   \n",
       "4         NaN         NaN         NaN                    171   \n",
       "\n",
       "   Feature 20 (Discrete)  Feature 21 (Discrete)  Feature 22 (Discrete)  \\\n",
       "0                     12                      2                     32   \n",
       "1                      1                      0                     13   \n",
       "2                      1                      0                     13   \n",
       "3                     12                     10                     54   \n",
       "4                      1                      5                     11   \n",
       "\n",
       "   Feature 23 (Discrete)  Feature 24  Target Variable (Discrete)  \n",
       "0                   1409     37677.1                           1  \n",
       "1                    909     25239.1                           1  \n",
       "2                    654     27683.5                           1  \n",
       "3                   1377     39363.2                           0  \n",
       "4                    786     40044.4                           2  \n",
       "\n",
       "[5 rows x 25 columns]"
      ]
     },
     "execution_count": 2,
     "metadata": {},
     "output_type": "execute_result"
    }
   ],
   "source": [
    "df = pd.read_csv('iith_foml_2020_train.csv')\n",
    "df.head()"
   ]
  },
  {
   "cell_type": "code",
   "execution_count": 28,
   "metadata": {},
   "outputs": [
    {
     "data": {
      "text/html": [
       "<div>\n",
       "<style scoped>\n",
       "    .dataframe tbody tr th:only-of-type {\n",
       "        vertical-align: middle;\n",
       "    }\n",
       "\n",
       "    .dataframe tbody tr th {\n",
       "        vertical-align: top;\n",
       "    }\n",
       "\n",
       "    .dataframe thead th {\n",
       "        text-align: right;\n",
       "    }\n",
       "</style>\n",
       "<table border=\"1\" class=\"dataframe\">\n",
       "  <thead>\n",
       "    <tr style=\"text-align: right;\">\n",
       "      <th></th>\n",
       "      <th>Feature 1 (Discrete)</th>\n",
       "      <th>Feature 2 (Discrete)</th>\n",
       "      <th>Feature 3 (Discrete)</th>\n",
       "      <th>Feature 4 (Discrete)</th>\n",
       "      <th>Feature 5 (Discrete)</th>\n",
       "      <th>Feature 6 (Discrete)</th>\n",
       "      <th>Feature 7 (Discrete)</th>\n",
       "      <th>Feature 8 (Discrete)</th>\n",
       "      <th>Feature 9</th>\n",
       "      <th>Feature 10</th>\n",
       "      <th>...</th>\n",
       "      <th>Feature 15</th>\n",
       "      <th>Feature 16</th>\n",
       "      <th>Feature 17</th>\n",
       "      <th>Feature 18</th>\n",
       "      <th>Feature 19 (Discrete)</th>\n",
       "      <th>Feature 20 (Discrete)</th>\n",
       "      <th>Feature 21 (Discrete)</th>\n",
       "      <th>Feature 22 (Discrete)</th>\n",
       "      <th>Feature 23 (Discrete)</th>\n",
       "      <th>Feature 24</th>\n",
       "    </tr>\n",
       "  </thead>\n",
       "  <tbody>\n",
       "    <tr>\n",
       "      <th>0</th>\n",
       "      <td>146</td>\n",
       "      <td>12</td>\n",
       "      <td>42</td>\n",
       "      <td>14</td>\n",
       "      <td>7</td>\n",
       "      <td>1</td>\n",
       "      <td>1</td>\n",
       "      <td>1</td>\n",
       "      <td>118.004</td>\n",
       "      <td>35693.5</td>\n",
       "      <td>...</td>\n",
       "      <td>4200.3</td>\n",
       "      <td>1900.1</td>\n",
       "      <td>NaN</td>\n",
       "      <td>NaN</td>\n",
       "      <td>44</td>\n",
       "      <td>12</td>\n",
       "      <td>2</td>\n",
       "      <td>42</td>\n",
       "      <td>146</td>\n",
       "      <td>37384.5</td>\n",
       "    </tr>\n",
       "    <tr>\n",
       "      <th>1</th>\n",
       "      <td>35</td>\n",
       "      <td>0</td>\n",
       "      <td>12</td>\n",
       "      <td>5</td>\n",
       "      <td>0</td>\n",
       "      <td>0</td>\n",
       "      <td>1</td>\n",
       "      <td>0</td>\n",
       "      <td>0.001</td>\n",
       "      <td>471.5</td>\n",
       "      <td>...</td>\n",
       "      <td>531.4</td>\n",
       "      <td>NaN</td>\n",
       "      <td>NaN</td>\n",
       "      <td>NaN</td>\n",
       "      <td>17</td>\n",
       "      <td>6</td>\n",
       "      <td>8</td>\n",
       "      <td>0</td>\n",
       "      <td>35</td>\n",
       "      <td>41465.1</td>\n",
       "    </tr>\n",
       "    <tr>\n",
       "      <th>2</th>\n",
       "      <td>1018</td>\n",
       "      <td>8</td>\n",
       "      <td>259</td>\n",
       "      <td>2</td>\n",
       "      <td>1</td>\n",
       "      <td>1</td>\n",
       "      <td>1</td>\n",
       "      <td>1</td>\n",
       "      <td>NaN</td>\n",
       "      <td>35774.5</td>\n",
       "      <td>...</td>\n",
       "      <td>5514.2</td>\n",
       "      <td>NaN</td>\n",
       "      <td>NaN</td>\n",
       "      <td>15.04</td>\n",
       "      <td>1</td>\n",
       "      <td>1</td>\n",
       "      <td>3</td>\n",
       "      <td>20</td>\n",
       "      <td>1018</td>\n",
       "      <td>37826.2</td>\n",
       "    </tr>\n",
       "    <tr>\n",
       "      <th>3</th>\n",
       "      <td>383</td>\n",
       "      <td>7</td>\n",
       "      <td>117</td>\n",
       "      <td>5</td>\n",
       "      <td>1</td>\n",
       "      <td>1</td>\n",
       "      <td>1</td>\n",
       "      <td>1</td>\n",
       "      <td>53.002</td>\n",
       "      <td>34094.1</td>\n",
       "      <td>...</td>\n",
       "      <td>3358.4</td>\n",
       "      <td>1100.2</td>\n",
       "      <td>14000.001</td>\n",
       "      <td>15.04</td>\n",
       "      <td>101</td>\n",
       "      <td>6</td>\n",
       "      <td>3</td>\n",
       "      <td>20</td>\n",
       "      <td>383</td>\n",
       "      <td>40277.3</td>\n",
       "    </tr>\n",
       "    <tr>\n",
       "      <th>4</th>\n",
       "      <td>1216</td>\n",
       "      <td>7</td>\n",
       "      <td>40</td>\n",
       "      <td>5</td>\n",
       "      <td>2</td>\n",
       "      <td>0</td>\n",
       "      <td>1</td>\n",
       "      <td>4</td>\n",
       "      <td>0.005</td>\n",
       "      <td>1471.3</td>\n",
       "      <td>...</td>\n",
       "      <td>225.1</td>\n",
       "      <td>NaN</td>\n",
       "      <td>NaN</td>\n",
       "      <td>3.02</td>\n",
       "      <td>276</td>\n",
       "      <td>6</td>\n",
       "      <td>7</td>\n",
       "      <td>43</td>\n",
       "      <td>1221</td>\n",
       "      <td>28419.5</td>\n",
       "    </tr>\n",
       "  </tbody>\n",
       "</table>\n",
       "<p>5 rows × 24 columns</p>\n",
       "</div>"
      ],
      "text/plain": [
       "   Feature 1 (Discrete)  Feature 2 (Discrete)  Feature 3 (Discrete)  \\\n",
       "0                   146                    12                    42   \n",
       "1                    35                     0                    12   \n",
       "2                  1018                     8                   259   \n",
       "3                   383                     7                   117   \n",
       "4                  1216                     7                    40   \n",
       "\n",
       "   Feature 4 (Discrete)  Feature 5 (Discrete)  Feature 6 (Discrete)  \\\n",
       "0                    14                     7                     1   \n",
       "1                     5                     0                     0   \n",
       "2                     2                     1                     1   \n",
       "3                     5                     1                     1   \n",
       "4                     5                     2                     0   \n",
       "\n",
       "   Feature 7 (Discrete)  Feature 8 (Discrete)  Feature 9  Feature 10  ...  \\\n",
       "0                     1                     1    118.004     35693.5  ...   \n",
       "1                     1                     0      0.001       471.5  ...   \n",
       "2                     1                     1        NaN     35774.5  ...   \n",
       "3                     1                     1     53.002     34094.1  ...   \n",
       "4                     1                     4      0.005      1471.3  ...   \n",
       "\n",
       "   Feature 15  Feature 16  Feature 17  Feature 18  Feature 19 (Discrete)  \\\n",
       "0      4200.3      1900.1         NaN         NaN                     44   \n",
       "1       531.4         NaN         NaN         NaN                     17   \n",
       "2      5514.2         NaN         NaN       15.04                      1   \n",
       "3      3358.4      1100.2   14000.001       15.04                    101   \n",
       "4       225.1         NaN         NaN        3.02                    276   \n",
       "\n",
       "   Feature 20 (Discrete)  Feature 21 (Discrete)  Feature 22 (Discrete)  \\\n",
       "0                     12                      2                     42   \n",
       "1                      6                      8                      0   \n",
       "2                      1                      3                     20   \n",
       "3                      6                      3                     20   \n",
       "4                      6                      7                     43   \n",
       "\n",
       "   Feature 23 (Discrete)  Feature 24  \n",
       "0                    146     37384.5  \n",
       "1                     35     41465.1  \n",
       "2                   1018     37826.2  \n",
       "3                    383     40277.3  \n",
       "4                   1221     28419.5  \n",
       "\n",
       "[5 rows x 24 columns]"
      ]
     },
     "execution_count": 28,
     "metadata": {},
     "output_type": "execute_result"
    }
   ],
   "source": [
    "df_tst = pd.read_csv('iith_foml_2020_test.csv')\n",
    "df_tst.head()"
   ]
  },
  {
   "cell_type": "code",
   "execution_count": 4,
   "metadata": {},
   "outputs": [
    {
     "data": {
      "text/plain": [
       "(994,)"
      ]
     },
     "execution_count": 4,
     "metadata": {},
     "output_type": "execute_result"
    }
   ],
   "source": [
    "Y = df['Target Variable (Discrete)'].values\n",
    "Y.shape"
   ]
  },
  {
   "cell_type": "code",
   "execution_count": 5,
   "metadata": {},
   "outputs": [],
   "source": [
    "df.drop(columns = 'Target Variable (Discrete)', inplace = True)"
   ]
  },
  {
   "cell_type": "code",
   "execution_count": 7,
   "metadata": {},
   "outputs": [
    {
     "data": {
      "text/plain": [
       "(994, 24)"
      ]
     },
     "execution_count": 7,
     "metadata": {},
     "output_type": "execute_result"
    }
   ],
   "source": [
    "df.shape"
   ]
  },
  {
   "cell_type": "code",
   "execution_count": 8,
   "metadata": {},
   "outputs": [],
   "source": [
    "#Here  we are\n",
    "#Train basic. Accuracy : 0.94366\n",
    "xgb_model = xgb.XGBClassifier(objective='multi:softprob', n_estimators = 25)"
   ]
  },
  {
   "cell_type": "code",
   "execution_count": 10,
   "metadata": {},
   "outputs": [
    {
     "name": "stderr",
     "output_type": "stream",
     "text": [
      "/home/ashutosh/.local/lib/python3.8/site-packages/xgboost/sklearn.py:888: UserWarning: The use of label encoder in XGBClassifier is deprecated and will be removed in a future release. To remove this warning, do the following: 1) Pass option use_label_encoder=False when constructing XGBClassifier object; and 2) Encode your labels (y) as integers starting with 0, i.e. 0, 1, 2, ..., [num_class - 1].\n",
      "  warnings.warn(label_encoder_deprecation_msg, UserWarning)\n"
     ]
    },
    {
     "name": "stdout",
     "output_type": "stream",
     "text": [
      "[18:47:07] WARNING: ../src/learner.cc:1061: Starting in XGBoost 1.3.0, the default evaluation metric used with the objective 'multi:softprob' was changed from 'merror' to 'mlogloss'. Explicitly set eval_metric if you'd like to restore the old behavior.\n"
     ]
    },
    {
     "data": {
      "text/plain": [
       "XGBClassifier(base_score=0.5, booster='gbtree', colsample_bylevel=1,\n",
       "              colsample_bynode=1, colsample_bytree=1, gamma=0, gpu_id=-1,\n",
       "              importance_type='gain', interaction_constraints='',\n",
       "              learning_rate=0.300000012, max_delta_step=0, max_depth=6,\n",
       "              min_child_weight=1, missing=nan, monotone_constraints='()',\n",
       "              n_estimators=25, n_jobs=8, num_parallel_tree=1,\n",
       "              objective='multi:softprob', random_state=0, reg_alpha=0,\n",
       "              reg_lambda=1, scale_pos_weight=None, subsample=1,\n",
       "              tree_method='exact', validate_parameters=1, verbosity=None)"
      ]
     },
     "execution_count": 10,
     "metadata": {},
     "output_type": "execute_result"
    }
   ],
   "source": [
    "xgb_model.fit(df.values, Y)"
   ]
  },
  {
   "cell_type": "code",
   "execution_count": 12,
   "metadata": {},
   "outputs": [
    {
     "data": {
      "text/plain": [
       "0.9989939637826962"
      ]
     },
     "execution_count": 12,
     "metadata": {},
     "output_type": "execute_result"
    }
   ],
   "source": [
    "accuracy_score(Y, xgb_model.predict(df.values))"
   ]
  },
  {
   "cell_type": "code",
   "execution_count": 15,
   "metadata": {},
   "outputs": [
    {
     "data": {
      "text/plain": [
       "(426,)"
      ]
     },
     "execution_count": 15,
     "metadata": {},
     "output_type": "execute_result"
    }
   ],
   "source": [
    "basic = xgb_model.predict(df_tst.values)\n",
    "basic.shape"
   ]
  },
  {
   "cell_type": "code",
   "execution_count": 16,
   "metadata": {},
   "outputs": [],
   "source": [
    "df_tst['Category'] = basic\n",
    "df_tst['Id'] = df_tst.index + 1"
   ]
  },
  {
   "cell_type": "code",
   "execution_count": 17,
   "metadata": {},
   "outputs": [],
   "source": [
    "df_tst[['Id', 'Category']].to_csv(\"basic.csv\", index = False)"
   ]
  },
  {
   "cell_type": "code",
   "execution_count": 20,
   "metadata": {},
   "outputs": [
    {
     "data": {
      "text/plain": [
       "(array([ 0,  1,  2,  4,  5,  6, 14, 15]),\n",
       " array([108, 225,  43,   3,  17,  27,   2,   1]))"
      ]
     },
     "execution_count": 20,
     "metadata": {},
     "output_type": "execute_result"
    }
   ],
   "source": [
    "np.unique(df_tst['Category'].values, return_counts=True)"
   ]
  },
  {
   "cell_type": "code",
   "execution_count": null,
   "metadata": {},
   "outputs": [],
   "source": []
  },
  {
   "cell_type": "code",
   "execution_count": 30,
   "metadata": {},
   "outputs": [],
   "source": [
    "#Now trying softmax\n",
    "#Train basic. Accuracy : \n",
    "xgb_model = xgb.XGBClassifier(objective='multi:softmax', n_estimators = 25)"
   ]
  },
  {
   "cell_type": "code",
   "execution_count": 31,
   "metadata": {},
   "outputs": [
    {
     "name": "stderr",
     "output_type": "stream",
     "text": [
      "/home/ashutosh/.local/lib/python3.8/site-packages/xgboost/sklearn.py:888: UserWarning: The use of label encoder in XGBClassifier is deprecated and will be removed in a future release. To remove this warning, do the following: 1) Pass option use_label_encoder=False when constructing XGBClassifier object; and 2) Encode your labels (y) as integers starting with 0, i.e. 0, 1, 2, ..., [num_class - 1].\n",
      "  warnings.warn(label_encoder_deprecation_msg, UserWarning)\n"
     ]
    },
    {
     "name": "stdout",
     "output_type": "stream",
     "text": [
      "[19:09:31] WARNING: ../src/learner.cc:1061: Starting in XGBoost 1.3.0, the default evaluation metric used with the objective 'multi:softprob' was changed from 'merror' to 'mlogloss'. Explicitly set eval_metric if you'd like to restore the old behavior.\n"
     ]
    },
    {
     "data": {
      "text/plain": [
       "XGBClassifier(base_score=0.5, booster='gbtree', colsample_bylevel=1,\n",
       "              colsample_bynode=1, colsample_bytree=1, gamma=0, gpu_id=-1,\n",
       "              importance_type='gain', interaction_constraints='',\n",
       "              learning_rate=0.300000012, max_delta_step=0, max_depth=6,\n",
       "              min_child_weight=1, missing=nan, monotone_constraints='()',\n",
       "              n_estimators=25, n_jobs=8, num_parallel_tree=1,\n",
       "              objective='multi:softprob', random_state=0, reg_alpha=0,\n",
       "              reg_lambda=1, scale_pos_weight=None, subsample=1,\n",
       "              tree_method='exact', validate_parameters=1, verbosity=None)"
      ]
     },
     "execution_count": 31,
     "metadata": {},
     "output_type": "execute_result"
    }
   ],
   "source": [
    "xgb_model.fit(df.values, Y)"
   ]
  },
  {
   "cell_type": "code",
   "execution_count": 32,
   "metadata": {},
   "outputs": [
    {
     "data": {
      "text/plain": [
       "0.9989939637826962"
      ]
     },
     "execution_count": 32,
     "metadata": {},
     "output_type": "execute_result"
    }
   ],
   "source": [
    "accuracy_score(Y, xgb_model.predict(df.values))"
   ]
  },
  {
   "cell_type": "code",
   "execution_count": 33,
   "metadata": {},
   "outputs": [
    {
     "data": {
      "text/plain": [
       "(426,)"
      ]
     },
     "execution_count": 33,
     "metadata": {},
     "output_type": "execute_result"
    }
   ],
   "source": [
    "basic_softmax = xgb_model.predict(df_tst.values)\n",
    "basic_softmax.shape"
   ]
  },
  {
   "cell_type": "code",
   "execution_count": 34,
   "metadata": {},
   "outputs": [],
   "source": [
    "df_tst['Category'] = basic_softmax\n",
    "df_tst['Id'] = df_tst.index + 1"
   ]
  },
  {
   "cell_type": "code",
   "execution_count": 35,
   "metadata": {},
   "outputs": [],
   "source": [
    "df_tst[['Id', 'Category']].to_csv(\"basic_softmax.csv\", index = False)"
   ]
  },
  {
   "cell_type": "code",
   "execution_count": null,
   "metadata": {},
   "outputs": [],
   "source": []
  }
 ],
 "metadata": {
  "kernelspec": {
   "display_name": "Python 3",
   "language": "python",
   "name": "python3"
  },
  "language_info": {
   "codemirror_mode": {
    "name": "ipython",
    "version": 3
   },
   "file_extension": ".py",
   "mimetype": "text/x-python",
   "name": "python",
   "nbconvert_exporter": "python",
   "pygments_lexer": "ipython3",
   "version": "3.8.5"
  }
 },
 "nbformat": 4,
 "nbformat_minor": 4
}
