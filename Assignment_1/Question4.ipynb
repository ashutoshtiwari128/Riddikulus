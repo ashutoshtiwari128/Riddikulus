{
 "cells": [
  {
   "cell_type": "code",
   "execution_count": 1,
   "metadata": {},
   "outputs": [],
   "source": [
    "import numpy as np\n",
    "import matplotlib.pyplot as plt\n",
    "import pandas as pd"
   ]
  },
  {
   "cell_type": "code",
   "execution_count": 2,
   "metadata": {
    "scrolled": true
   },
   "outputs": [
    {
     "data": {
      "text/html": [
       "<div>\n",
       "<style scoped>\n",
       "    .dataframe tbody tr th:only-of-type {\n",
       "        vertical-align: middle;\n",
       "    }\n",
       "\n",
       "    .dataframe tbody tr th {\n",
       "        vertical-align: top;\n",
       "    }\n",
       "\n",
       "    .dataframe thead th {\n",
       "        text-align: right;\n",
       "    }\n",
       "</style>\n",
       "<table border=\"1\" class=\"dataframe\">\n",
       "  <thead>\n",
       "    <tr style=\"text-align: right;\">\n",
       "      <th></th>\n",
       "      <th>instant</th>\n",
       "      <th>dteday</th>\n",
       "      <th>season</th>\n",
       "      <th>yr</th>\n",
       "      <th>mnth</th>\n",
       "      <th>hr</th>\n",
       "      <th>holiday</th>\n",
       "      <th>weekday</th>\n",
       "      <th>workingday</th>\n",
       "      <th>weathersit</th>\n",
       "      <th>temp</th>\n",
       "      <th>atemp</th>\n",
       "      <th>hum</th>\n",
       "      <th>windspeed</th>\n",
       "      <th>casual</th>\n",
       "      <th>registered</th>\n",
       "      <th>cnt</th>\n",
       "    </tr>\n",
       "  </thead>\n",
       "  <tbody>\n",
       "    <tr>\n",
       "      <th>0</th>\n",
       "      <td>1</td>\n",
       "      <td>2011-01-01</td>\n",
       "      <td>1</td>\n",
       "      <td>0</td>\n",
       "      <td>1</td>\n",
       "      <td>0</td>\n",
       "      <td>0</td>\n",
       "      <td>6</td>\n",
       "      <td>0</td>\n",
       "      <td>1</td>\n",
       "      <td>0.24</td>\n",
       "      <td>0.2879</td>\n",
       "      <td>0.81</td>\n",
       "      <td>0.0</td>\n",
       "      <td>3</td>\n",
       "      <td>13</td>\n",
       "      <td>16</td>\n",
       "    </tr>\n",
       "    <tr>\n",
       "      <th>1</th>\n",
       "      <td>2</td>\n",
       "      <td>2011-01-01</td>\n",
       "      <td>1</td>\n",
       "      <td>0</td>\n",
       "      <td>1</td>\n",
       "      <td>1</td>\n",
       "      <td>0</td>\n",
       "      <td>6</td>\n",
       "      <td>0</td>\n",
       "      <td>1</td>\n",
       "      <td>0.22</td>\n",
       "      <td>0.2727</td>\n",
       "      <td>0.80</td>\n",
       "      <td>0.0</td>\n",
       "      <td>8</td>\n",
       "      <td>32</td>\n",
       "      <td>40</td>\n",
       "    </tr>\n",
       "    <tr>\n",
       "      <th>2</th>\n",
       "      <td>3</td>\n",
       "      <td>2011-01-01</td>\n",
       "      <td>1</td>\n",
       "      <td>0</td>\n",
       "      <td>1</td>\n",
       "      <td>2</td>\n",
       "      <td>0</td>\n",
       "      <td>6</td>\n",
       "      <td>0</td>\n",
       "      <td>1</td>\n",
       "      <td>0.22</td>\n",
       "      <td>0.2727</td>\n",
       "      <td>0.80</td>\n",
       "      <td>0.0</td>\n",
       "      <td>5</td>\n",
       "      <td>27</td>\n",
       "      <td>32</td>\n",
       "    </tr>\n",
       "    <tr>\n",
       "      <th>3</th>\n",
       "      <td>4</td>\n",
       "      <td>2011-01-01</td>\n",
       "      <td>1</td>\n",
       "      <td>0</td>\n",
       "      <td>1</td>\n",
       "      <td>3</td>\n",
       "      <td>0</td>\n",
       "      <td>6</td>\n",
       "      <td>0</td>\n",
       "      <td>1</td>\n",
       "      <td>0.24</td>\n",
       "      <td>0.2879</td>\n",
       "      <td>0.75</td>\n",
       "      <td>0.0</td>\n",
       "      <td>3</td>\n",
       "      <td>10</td>\n",
       "      <td>13</td>\n",
       "    </tr>\n",
       "    <tr>\n",
       "      <th>4</th>\n",
       "      <td>5</td>\n",
       "      <td>2011-01-01</td>\n",
       "      <td>1</td>\n",
       "      <td>0</td>\n",
       "      <td>1</td>\n",
       "      <td>4</td>\n",
       "      <td>0</td>\n",
       "      <td>6</td>\n",
       "      <td>0</td>\n",
       "      <td>1</td>\n",
       "      <td>0.24</td>\n",
       "      <td>0.2879</td>\n",
       "      <td>0.75</td>\n",
       "      <td>0.0</td>\n",
       "      <td>0</td>\n",
       "      <td>1</td>\n",
       "      <td>1</td>\n",
       "    </tr>\n",
       "  </tbody>\n",
       "</table>\n",
       "</div>"
      ],
      "text/plain": [
       "   instant      dteday  season  yr  mnth  hr  holiday  weekday  workingday  \\\n",
       "0        1  2011-01-01       1   0     1   0        0        6           0   \n",
       "1        2  2011-01-01       1   0     1   1        0        6           0   \n",
       "2        3  2011-01-01       1   0     1   2        0        6           0   \n",
       "3        4  2011-01-01       1   0     1   3        0        6           0   \n",
       "4        5  2011-01-01       1   0     1   4        0        6           0   \n",
       "\n",
       "   weathersit  temp   atemp   hum  windspeed  casual  registered  cnt  \n",
       "0           1  0.24  0.2879  0.81        0.0       3          13   16  \n",
       "1           1  0.22  0.2727  0.80        0.0       8          32   40  \n",
       "2           1  0.22  0.2727  0.80        0.0       5          27   32  \n",
       "3           1  0.24  0.2879  0.75        0.0       3          10   13  \n",
       "4           1  0.24  0.2879  0.75        0.0       0           1    1  "
      ]
     },
     "execution_count": 2,
     "metadata": {},
     "output_type": "execute_result"
    }
   ],
   "source": [
    "#Loading the dataset\n",
    "df = pd.read_csv('hour.csv')\n",
    "df.shape\n",
    "df.head()"
   ]
  },
  {
   "cell_type": "code",
   "execution_count": 3,
   "metadata": {},
   "outputs": [
    {
     "data": {
      "text/html": [
       "<div>\n",
       "<style scoped>\n",
       "    .dataframe tbody tr th:only-of-type {\n",
       "        vertical-align: middle;\n",
       "    }\n",
       "\n",
       "    .dataframe tbody tr th {\n",
       "        vertical-align: top;\n",
       "    }\n",
       "\n",
       "    .dataframe thead th {\n",
       "        text-align: right;\n",
       "    }\n",
       "</style>\n",
       "<table border=\"1\" class=\"dataframe\">\n",
       "  <thead>\n",
       "    <tr style=\"text-align: right;\">\n",
       "      <th></th>\n",
       "      <th>dteday</th>\n",
       "      <th>season</th>\n",
       "      <th>yr</th>\n",
       "      <th>mnth</th>\n",
       "      <th>hr</th>\n",
       "      <th>holiday</th>\n",
       "      <th>weekday</th>\n",
       "      <th>workingday</th>\n",
       "      <th>weathersit</th>\n",
       "      <th>temp</th>\n",
       "      <th>atemp</th>\n",
       "      <th>hum</th>\n",
       "      <th>windspeed</th>\n",
       "      <th>cnt</th>\n",
       "    </tr>\n",
       "  </thead>\n",
       "  <tbody>\n",
       "    <tr>\n",
       "      <th>0</th>\n",
       "      <td>2011-01-01</td>\n",
       "      <td>1</td>\n",
       "      <td>0</td>\n",
       "      <td>1</td>\n",
       "      <td>0</td>\n",
       "      <td>0</td>\n",
       "      <td>6</td>\n",
       "      <td>0</td>\n",
       "      <td>1</td>\n",
       "      <td>0.24</td>\n",
       "      <td>0.2879</td>\n",
       "      <td>0.81</td>\n",
       "      <td>0.0</td>\n",
       "      <td>16</td>\n",
       "    </tr>\n",
       "    <tr>\n",
       "      <th>1</th>\n",
       "      <td>2011-01-01</td>\n",
       "      <td>1</td>\n",
       "      <td>0</td>\n",
       "      <td>1</td>\n",
       "      <td>1</td>\n",
       "      <td>0</td>\n",
       "      <td>6</td>\n",
       "      <td>0</td>\n",
       "      <td>1</td>\n",
       "      <td>0.22</td>\n",
       "      <td>0.2727</td>\n",
       "      <td>0.80</td>\n",
       "      <td>0.0</td>\n",
       "      <td>40</td>\n",
       "    </tr>\n",
       "    <tr>\n",
       "      <th>2</th>\n",
       "      <td>2011-01-01</td>\n",
       "      <td>1</td>\n",
       "      <td>0</td>\n",
       "      <td>1</td>\n",
       "      <td>2</td>\n",
       "      <td>0</td>\n",
       "      <td>6</td>\n",
       "      <td>0</td>\n",
       "      <td>1</td>\n",
       "      <td>0.22</td>\n",
       "      <td>0.2727</td>\n",
       "      <td>0.80</td>\n",
       "      <td>0.0</td>\n",
       "      <td>32</td>\n",
       "    </tr>\n",
       "    <tr>\n",
       "      <th>3</th>\n",
       "      <td>2011-01-01</td>\n",
       "      <td>1</td>\n",
       "      <td>0</td>\n",
       "      <td>1</td>\n",
       "      <td>3</td>\n",
       "      <td>0</td>\n",
       "      <td>6</td>\n",
       "      <td>0</td>\n",
       "      <td>1</td>\n",
       "      <td>0.24</td>\n",
       "      <td>0.2879</td>\n",
       "      <td>0.75</td>\n",
       "      <td>0.0</td>\n",
       "      <td>13</td>\n",
       "    </tr>\n",
       "    <tr>\n",
       "      <th>4</th>\n",
       "      <td>2011-01-01</td>\n",
       "      <td>1</td>\n",
       "      <td>0</td>\n",
       "      <td>1</td>\n",
       "      <td>4</td>\n",
       "      <td>0</td>\n",
       "      <td>6</td>\n",
       "      <td>0</td>\n",
       "      <td>1</td>\n",
       "      <td>0.24</td>\n",
       "      <td>0.2879</td>\n",
       "      <td>0.75</td>\n",
       "      <td>0.0</td>\n",
       "      <td>1</td>\n",
       "    </tr>\n",
       "  </tbody>\n",
       "</table>\n",
       "</div>"
      ],
      "text/plain": [
       "       dteday  season  yr  mnth  hr  holiday  weekday  workingday  weathersit  \\\n",
       "0  2011-01-01       1   0     1   0        0        6           0           1   \n",
       "1  2011-01-01       1   0     1   1        0        6           0           1   \n",
       "2  2011-01-01       1   0     1   2        0        6           0           1   \n",
       "3  2011-01-01       1   0     1   3        0        6           0           1   \n",
       "4  2011-01-01       1   0     1   4        0        6           0           1   \n",
       "\n",
       "   temp   atemp   hum  windspeed  cnt  \n",
       "0  0.24  0.2879  0.81        0.0   16  \n",
       "1  0.22  0.2727  0.80        0.0   40  \n",
       "2  0.22  0.2727  0.80        0.0   32  \n",
       "3  0.24  0.2879  0.75        0.0   13  \n",
       "4  0.24  0.2879  0.75        0.0    1  "
      ]
     },
     "execution_count": 3,
     "metadata": {},
     "output_type": "execute_result"
    }
   ],
   "source": [
    "#Dropping features with are not necessary\n",
    "df.drop(columns = ['instant', 'casual', 'registered'], inplace = True)\n",
    "df.head()"
   ]
  },
  {
   "cell_type": "markdown",
   "metadata": {},
   "source": [
    "### Statistics of features"
   ]
  },
  {
   "cell_type": "code",
   "execution_count": 4,
   "metadata": {},
   "outputs": [
    {
     "name": "stdout",
     "output_type": "stream",
     "text": [
      "Mean count per Season 1 = 111.114569\n",
      "Mean count per Season 2 = 208.344069\n",
      "Mean count per Season 3 = 236.016237\n",
      "Mean count per Season 4 = 198.868856\n"
     ]
    }
   ],
   "source": [
    "xs = pd.unique(df['season'])\n",
    "ys = []\n",
    "for i in range(len(xs)):\n",
    "    n = df.loc[df['season'] == xs[i], 'cnt'].sum()\n",
    "    d = df.loc[df['season'] == xs[i], 'season'].count()\n",
    "    \n",
    "    ys.append(float(n)/float(d))\n",
    "    \n",
    "for i in range(len(xs)):\n",
    "    print('Mean count per Season %d = %f' %(xs[i], ys[i]))"
   ]
  },
  {
   "cell_type": "code",
   "execution_count": 5,
   "metadata": {},
   "outputs": [
    {
     "name": "stdout",
     "output_type": "stream",
     "text": [
      "Mean count per Year 0 = 143.794448\n",
      "Mean count per Year 1 = 234.666361\n"
     ]
    }
   ],
   "source": [
    "xs = pd.unique(df['yr'])\n",
    "ys = []\n",
    "for i in range(len(xs)):\n",
    "    n = df.loc[df['yr'] == xs[i], 'cnt'].sum()\n",
    "    d = df.loc[df['yr'] == xs[i], 'yr'].count()\n",
    "    \n",
    "    ys.append(float(n)/float(d))\n",
    "    \n",
    "for i in range(len(xs)):\n",
    "    print('Mean count per Year %d = %f' %(xs[i], ys[i]))"
   ]
  },
  {
   "cell_type": "code",
   "execution_count": 6,
   "metadata": {},
   "outputs": [
    {
     "name": "stdout",
     "output_type": "stream",
     "text": [
      "Mean count per Month 1 = 94.424773\n",
      "Mean count per Month 2 = 112.865026\n",
      "Mean count per Month 3 = 155.410726\n",
      "Mean count per Month 4 = 187.260960\n",
      "Mean count per Month 5 = 222.907258\n",
      "Mean count per Month 6 = 240.515278\n",
      "Mean count per Month 7 = 231.819892\n",
      "Mean count per Month 8 = 238.097627\n",
      "Mean count per Month 9 = 240.773138\n",
      "Mean count per Month 10 = 222.158511\n",
      "Mean count per Month 11 = 177.335421\n",
      "Mean count per Month 12 = 142.303439\n"
     ]
    }
   ],
   "source": [
    "xs = pd.unique(df['mnth'])\n",
    "ys = []\n",
    "for i in range(len(xs)):\n",
    "    n = df.loc[df['mnth'] == xs[i], 'cnt'].sum()\n",
    "    d = df.loc[df['mnth'] == xs[i], 'mnth'].count()\n",
    "    \n",
    "    ys.append(float(n)/float(d))\n",
    "    \n",
    "for i in range(len(xs)):\n",
    "    print('Mean count per Month %d = %f' %(xs[i], ys[i]))"
   ]
  },
  {
   "cell_type": "code",
   "execution_count": 7,
   "metadata": {},
   "outputs": [
    {
     "name": "stdout",
     "output_type": "stream",
     "text": [
      "Mean count per Weather_Situation 1 = 204.869272\n",
      "Mean count per Weather_Situation 2 = 175.165493\n",
      "Mean count per Weather_Situation 3 = 111.579281\n",
      "Mean count per Weather_Situation 4 = 74.333333\n"
     ]
    }
   ],
   "source": [
    "xs = pd.unique(df['weathersit'])\n",
    "ys = []\n",
    "for i in range(len(xs)):\n",
    "    n = df.loc[df['weathersit'] == xs[i], 'cnt'].sum()\n",
    "    d = df.loc[df['weathersit'] == xs[i], 'weathersit'].count()\n",
    "    \n",
    "    ys.append(float(n)/float(d))\n",
    "    \n",
    "for i in range(len(xs)):\n",
    "    print('Mean count per Weather_Situation %d = %f' %(xs[i], ys[i]))"
   ]
  },
  {
   "cell_type": "code",
   "execution_count": 8,
   "metadata": {},
   "outputs": [
    {
     "name": "stdout",
     "output_type": "stream",
     "text": [
      "Mean Count per Non-Holiday = 190.428580\n",
      "Mean Count per Holiday = 156.870000\n"
     ]
    }
   ],
   "source": [
    "xs = pd.unique(df['holiday'])\n",
    "ys = []\n",
    "for i in range(len(xs)):\n",
    "    n = df.loc[df['holiday'] == xs[i], 'cnt'].sum()\n",
    "    d = df.loc[df['holiday'] == xs[i], 'holiday'].count()\n",
    "    \n",
    "    ys.append(float(n)/float(d))\n",
    "    \n",
    "for i in range(len(xs)):\n",
    "    if(xs[i]==1):\n",
    "        print('Mean Count per Holiday = %f' %(ys[i]))\n",
    "    else:\n",
    "        print('Mean Count per Non-Holiday = %f' %(ys[i]))"
   ]
  },
  {
   "cell_type": "code",
   "execution_count": 9,
   "metadata": {},
   "outputs": [
    {
     "name": "stdout",
     "output_type": "stream",
     "text": [
      "Mean Count per Non-Working day = 181.405332\n",
      "Mean Count per Working day = 193.207754\n"
     ]
    }
   ],
   "source": [
    "xs = pd.unique(df['workingday'])\n",
    "ys = []\n",
    "for i in range(len(xs)):\n",
    "    n = df.loc[df['workingday'] == xs[i], 'cnt'].sum()\n",
    "    d = df.loc[df['workingday'] == xs[i], 'workingday'].count()\n",
    "    \n",
    "    ys.append(float(n)/float(d))\n",
    "    \n",
    "for i in range(len(xs)):\n",
    "    if(xs[i]==1):\n",
    "        print('Mean Count per Working day = %f' %(ys[i]))\n",
    "    else:\n",
    "        print('Mean Count per Non-Working day = %f' %(ys[i]))"
   ]
  },
  {
   "cell_type": "markdown",
   "metadata": {},
   "source": [
    "### PLOTS"
   ]
  },
  {
   "cell_type": "code",
   "execution_count": 10,
   "metadata": {},
   "outputs": [
    {
     "data": {
      "image/png": "[encoded data removed]",
      "text/plain": [
       "<matplotlib.figure.Figure at 0x7f18aec77910>"
      ]
     },
     "metadata": {
      "needs_background": "light"
     },
     "output_type": "display_data"
    }
   ],
   "source": [
    "xs = pd.unique(df['season'])\n",
    "ys = []\n",
    "for i in range(len(xs)):\n",
    "    v = df.loc[df['season'] == xs[i], 'cnt'].sum()\n",
    "    ys.append(v)\n",
    "\n",
    "#labels = ['1','2','3','4']\n",
    "fig, ax = plt.subplots(figsize = (6,6))\n",
    "ax.bar(xs, ys, width = 0.5)\n",
    "ax.set_xticks(xs)\n",
    "ax.set_xticklabels(xs)\n",
    "ax.set_title(\"Count vs Season\")\n",
    "ax.set_xlabel(\"Season\")\n",
    "ax.set_ylabel(\"Total Count\")\n",
    "\n",
    "plt.show()"
   ]
  },
  {
   "cell_type": "code",
   "execution_count": 11,
   "metadata": {},
   "outputs": [
    {
     "data": {
      "image/png": "[encoded data removed]",
      "text/plain": [
       "<matplotlib.figure.Figure at 0x7f18aca57450>"
      ]
     },
     "metadata": {
      "needs_background": "light"
     },
     "output_type": "display_data"
    }
   ],
   "source": [
    "xs = pd.unique(df['mnth'])\n",
    "ys = []\n",
    "for i in range(len(xs)):\n",
    "    v = df.loc[df['mnth'] == xs[i], 'cnt'].sum()\n",
    "    ys.append(v)\n",
    "\n",
    "#labels = ['1','2','3','4']\n",
    "fig, ax = plt.subplots(figsize = (8,8))\n",
    "ax.bar(xs, ys, width = 0.5)\n",
    "ax.set_xticks(xs)\n",
    "ax.set_xticklabels(xs)\n",
    "ax.set_title(\"Count vs Month\")\n",
    "ax.set_xlabel(\"Month\")\n",
    "ax.set_ylabel(\"Total Count\")\n",
    "\n",
    "plt.show()"
   ]
  },
  {
   "cell_type": "code",
   "execution_count": 12,
   "metadata": {},
   "outputs": [
    {
     "data": {
      "image/png": "[encoded data removed]",
      "text/plain": [
       "<matplotlib.figure.Figure at 0x7f18aeaa1f50>"
      ]
     },
     "metadata": {
      "needs_background": "light"
     },
     "output_type": "display_data"
    }
   ],
   "source": [
    "xs = pd.unique(df['workingday'])\n",
    "ys = []\n",
    "for i in range(len(xs)):\n",
    "    v = df.loc[df['workingday'] == xs[i], 'cnt'].sum()\n",
    "    ys.append(v)\n",
    "\n",
    "#labels = ['1','2','3','4']\n",
    "fig, ax = plt.subplots(figsize = (6,6))\n",
    "ax.bar(xs, ys, width = 0.3)\n",
    "ax.set_xticks(xs)\n",
    "ax.set_xticklabels(xs)\n",
    "ax.set_title(\"Count vs Working day\")\n",
    "ax.set_xlabel(\"Working day\")\n",
    "ax.set_ylabel(\"Total Count\")\n",
    "\n",
    "plt.show()"
   ]
  },
  {
   "cell_type": "code",
   "execution_count": 13,
   "metadata": {},
   "outputs": [
    {
     "data": {
      "image/png": "[encoded data removed]",
      "text/plain": [
       "<matplotlib.figure.Figure at 0x7f18aca31c10>"
      ]
     },
     "metadata": {
      "needs_background": "light"
     },
     "output_type": "display_data"
    }
   ],
   "source": [
    "xs = pd.unique(df['hr'])\n",
    "ys = []\n",
    "for i in range(len(xs)):\n",
    "    v = df.loc[df['hr'] == xs[i], 'cnt'].sum()\n",
    "    ys.append(v)\n",
    "\n",
    "#labels = ['1','2','3','4']\n",
    "fig, ax = plt.subplots(figsize = (12,6))\n",
    "ax.bar(xs, ys, width = 0.5)\n",
    "ax.set_xticks(xs)\n",
    "ax.set_xticklabels(xs)\n",
    "ax.set_title(\"Count vs  Hours\")\n",
    "ax.set_xlabel(\"Hours\")\n",
    "ax.set_ylabel(\"Total Count\")\n",
    "\n",
    "plt.show()"
   ]
  },
  {
   "cell_type": "code",
   "execution_count": 14,
   "metadata": {},
   "outputs": [
    {
     "data": {
      "image/png": "[encoded data removed]",
      "text/plain": [
       "<matplotlib.figure.Figure at 0x7f18aec9be10>"
      ]
     },
     "metadata": {
      "needs_background": "light"
     },
     "output_type": "display_data"
    }
   ],
   "source": [
    "xs = pd.unique(df['weathersit'])\n",
    "ys = []\n",
    "for i in range(len(xs)):\n",
    "    v = df.loc[df['weathersit'] == xs[i], 'cnt'].sum()\n",
    "    ys.append(v)\n",
    "\n",
    "#labels = ['1','2','3','4']\n",
    "fig, ax = plt.subplots(figsize = (6,6))\n",
    "ax.bar(xs, ys, width = 0.5)\n",
    "ax.set_xticks(xs)\n",
    "ax.set_xticklabels(xs)\n",
    "ax.set_title(\"Count vs Weather Situation\")\n",
    "ax.set_xlabel(\"Weather Situation\")\n",
    "ax.set_ylabel(\"Total Count\")\n",
    "\n",
    "plt.show()"
   ]
  },
  {
   "cell_type": "code",
   "execution_count": 15,
   "metadata": {},
   "outputs": [
    {
     "data": {
      "image/png": "[encoded data removed]",
      "text/plain": [
       "<matplotlib.figure.Figure at 0x7f18ac82cf50>"
      ]
     },
     "metadata": {
      "needs_background": "light"
     },
     "output_type": "display_data"
    }
   ],
   "source": [
    "#temp = df['temp']\n",
    "\n",
    "plt.figure(figsize=((12,8)))\n",
    "plt.scatter(df['temp'], df['cnt'], s=3)\n",
    "plt.title(\"Temperature vs count\")\n",
    "plt.xlabel(\"Temperature\")\n",
    "plt.ylabel(\"Count\")\n",
    "plt.legend()\n",
    "plt.show()"
   ]
  },
  {
   "cell_type": "code",
   "execution_count": 16,
   "metadata": {},
   "outputs": [
    {
     "data": {
      "image/png": "[encoded data removed]",
      "text/plain": [
       "<matplotlib.figure.Figure at 0x7f18ac7a84d0>"
      ]
     },
     "metadata": {
      "needs_background": "light"
     },
     "output_type": "display_data"
    }
   ],
   "source": [
    "#temp = df['temp']\n",
    "\n",
    "plt.figure(figsize=((12,8)))\n",
    "plt.scatter(df['hum'], df['cnt'], s=3)\n",
    "plt.title(\"Humidity vs count\")\n",
    "plt.xlabel(\"Humidity\")\n",
    "plt.ylabel(\"Count\")\n",
    "plt.legend()\n",
    "plt.show()"
   ]
  },
  {
   "cell_type": "code",
   "execution_count": 17,
   "metadata": {},
   "outputs": [
    {
     "data": {
      "text/html": [
       "<div>\n",
       "<style scoped>\n",
       "    .dataframe tbody tr th:only-of-type {\n",
       "        vertical-align: middle;\n",
       "    }\n",
       "\n",
       "    .dataframe tbody tr th {\n",
       "        vertical-align: top;\n",
       "    }\n",
       "\n",
       "    .dataframe thead th {\n",
       "        text-align: right;\n",
       "    }\n",
       "</style>\n",
       "<table border=\"1\" class=\"dataframe\">\n",
       "  <thead>\n",
       "    <tr style=\"text-align: right;\">\n",
       "      <th></th>\n",
       "      <th>dteday</th>\n",
       "      <th>yr</th>\n",
       "      <th>holiday</th>\n",
       "      <th>workingday</th>\n",
       "      <th>temp</th>\n",
       "      <th>atemp</th>\n",
       "      <th>hum</th>\n",
       "      <th>windspeed</th>\n",
       "      <th>cnt</th>\n",
       "      <th>season_1</th>\n",
       "      <th>...</th>\n",
       "      <th>weekday_1</th>\n",
       "      <th>weekday_2</th>\n",
       "      <th>weekday_3</th>\n",
       "      <th>weekday_4</th>\n",
       "      <th>weekday_5</th>\n",
       "      <th>weekday_6</th>\n",
       "      <th>weather_1</th>\n",
       "      <th>weather_2</th>\n",
       "      <th>weather_3</th>\n",
       "      <th>weather_4</th>\n",
       "    </tr>\n",
       "  </thead>\n",
       "  <tbody>\n",
       "    <tr>\n",
       "      <th>0</th>\n",
       "      <td>2011-01-01</td>\n",
       "      <td>0</td>\n",
       "      <td>0</td>\n",
       "      <td>0</td>\n",
       "      <td>0.24</td>\n",
       "      <td>0.2879</td>\n",
       "      <td>0.81</td>\n",
       "      <td>0.0</td>\n",
       "      <td>16</td>\n",
       "      <td>1</td>\n",
       "      <td>...</td>\n",
       "      <td>0</td>\n",
       "      <td>0</td>\n",
       "      <td>0</td>\n",
       "      <td>0</td>\n",
       "      <td>0</td>\n",
       "      <td>1</td>\n",
       "      <td>1</td>\n",
       "      <td>0</td>\n",
       "      <td>0</td>\n",
       "      <td>0</td>\n",
       "    </tr>\n",
       "    <tr>\n",
       "      <th>1</th>\n",
       "      <td>2011-01-01</td>\n",
       "      <td>0</td>\n",
       "      <td>0</td>\n",
       "      <td>0</td>\n",
       "      <td>0.22</td>\n",
       "      <td>0.2727</td>\n",
       "      <td>0.80</td>\n",
       "      <td>0.0</td>\n",
       "      <td>40</td>\n",
       "      <td>1</td>\n",
       "      <td>...</td>\n",
       "      <td>0</td>\n",
       "      <td>0</td>\n",
       "      <td>0</td>\n",
       "      <td>0</td>\n",
       "      <td>0</td>\n",
       "      <td>1</td>\n",
       "      <td>1</td>\n",
       "      <td>0</td>\n",
       "      <td>0</td>\n",
       "      <td>0</td>\n",
       "    </tr>\n",
       "    <tr>\n",
       "      <th>2</th>\n",
       "      <td>2011-01-01</td>\n",
       "      <td>0</td>\n",
       "      <td>0</td>\n",
       "      <td>0</td>\n",
       "      <td>0.22</td>\n",
       "      <td>0.2727</td>\n",
       "      <td>0.80</td>\n",
       "      <td>0.0</td>\n",
       "      <td>32</td>\n",
       "      <td>1</td>\n",
       "      <td>...</td>\n",
       "      <td>0</td>\n",
       "      <td>0</td>\n",
       "      <td>0</td>\n",
       "      <td>0</td>\n",
       "      <td>0</td>\n",
       "      <td>1</td>\n",
       "      <td>1</td>\n",
       "      <td>0</td>\n",
       "      <td>0</td>\n",
       "      <td>0</td>\n",
       "    </tr>\n",
       "    <tr>\n",
       "      <th>3</th>\n",
       "      <td>2011-01-01</td>\n",
       "      <td>0</td>\n",
       "      <td>0</td>\n",
       "      <td>0</td>\n",
       "      <td>0.24</td>\n",
       "      <td>0.2879</td>\n",
       "      <td>0.75</td>\n",
       "      <td>0.0</td>\n",
       "      <td>13</td>\n",
       "      <td>1</td>\n",
       "      <td>...</td>\n",
       "      <td>0</td>\n",
       "      <td>0</td>\n",
       "      <td>0</td>\n",
       "      <td>0</td>\n",
       "      <td>0</td>\n",
       "      <td>1</td>\n",
       "      <td>1</td>\n",
       "      <td>0</td>\n",
       "      <td>0</td>\n",
       "      <td>0</td>\n",
       "    </tr>\n",
       "    <tr>\n",
       "      <th>4</th>\n",
       "      <td>2011-01-01</td>\n",
       "      <td>0</td>\n",
       "      <td>0</td>\n",
       "      <td>0</td>\n",
       "      <td>0.24</td>\n",
       "      <td>0.2879</td>\n",
       "      <td>0.75</td>\n",
       "      <td>0.0</td>\n",
       "      <td>1</td>\n",
       "      <td>1</td>\n",
       "      <td>...</td>\n",
       "      <td>0</td>\n",
       "      <td>0</td>\n",
       "      <td>0</td>\n",
       "      <td>0</td>\n",
       "      <td>0</td>\n",
       "      <td>1</td>\n",
       "      <td>1</td>\n",
       "      <td>0</td>\n",
       "      <td>0</td>\n",
       "      <td>0</td>\n",
       "    </tr>\n",
       "  </tbody>\n",
       "</table>\n",
       "<p>5 rows × 60 columns</p>\n",
       "</div>"
      ],
      "text/plain": [
       "       dteday  yr  holiday  workingday  temp   atemp   hum  windspeed  cnt  \\\n",
       "0  2011-01-01   0        0           0  0.24  0.2879  0.81        0.0   16   \n",
       "1  2011-01-01   0        0           0  0.22  0.2727  0.80        0.0   40   \n",
       "2  2011-01-01   0        0           0  0.22  0.2727  0.80        0.0   32   \n",
       "3  2011-01-01   0        0           0  0.24  0.2879  0.75        0.0   13   \n",
       "4  2011-01-01   0        0           0  0.24  0.2879  0.75        0.0    1   \n",
       "\n",
       "   season_1    ...      weekday_1  weekday_2  weekday_3  weekday_4  weekday_5  \\\n",
       "0         1    ...              0          0          0          0          0   \n",
       "1         1    ...              0          0          0          0          0   \n",
       "2         1    ...              0          0          0          0          0   \n",
       "3         1    ...              0          0          0          0          0   \n",
       "4         1    ...              0          0          0          0          0   \n",
       "\n",
       "   weekday_6  weather_1  weather_2  weather_3  weather_4  \n",
       "0          1          1          0          0          0  \n",
       "1          1          1          0          0          0  \n",
       "2          1          1          0          0          0  \n",
       "3          1          1          0          0          0  \n",
       "4          1          1          0          0          0  \n",
       "\n",
       "[5 rows x 60 columns]"
      ]
     },
     "execution_count": 17,
     "metadata": {},
     "output_type": "execute_result"
    }
   ],
   "source": [
    "#Converting all the categorical features\n",
    "s = pd.get_dummies(df['season'], prefix = \"season\")\n",
    "df = pd.concat([df, s], axis = 1)\n",
    "m = pd.get_dummies(df['mnth'], prefix = \"month\")\n",
    "df = pd.concat([df, m], axis = 1)\n",
    "h = pd.get_dummies(df['hr'], prefix = \"hour\")\n",
    "df = pd.concat([df, h], axis = 1)\n",
    "wd = pd.get_dummies(df['weekday'], prefix = \"weekday\")\n",
    "df = pd.concat([df, wd], axis = 1)\n",
    "w = pd.get_dummies(df['weathersit'], prefix = \"weather\")\n",
    "df = pd.concat([df, w], axis = 1)\n",
    "\n",
    "\n",
    "df.drop(columns = ['season', 'mnth', 'hr', 'weekday', 'weathersit'], inplace = True)\n",
    "\n",
    "df.head()"
   ]
  },
  {
   "cell_type": "code",
   "execution_count": 18,
   "metadata": {},
   "outputs": [
    {
     "data": {
      "text/html": [
       "<div>\n",
       "<style scoped>\n",
       "    .dataframe tbody tr th:only-of-type {\n",
       "        vertical-align: middle;\n",
       "    }\n",
       "\n",
       "    .dataframe tbody tr th {\n",
       "        vertical-align: top;\n",
       "    }\n",
       "\n",
       "    .dataframe thead th {\n",
       "        text-align: right;\n",
       "    }\n",
       "</style>\n",
       "<table border=\"1\" class=\"dataframe\">\n",
       "  <thead>\n",
       "    <tr style=\"text-align: right;\">\n",
       "      <th></th>\n",
       "      <th>dteday</th>\n",
       "      <th>yr</th>\n",
       "      <th>holiday</th>\n",
       "      <th>workingday</th>\n",
       "      <th>temp</th>\n",
       "      <th>atemp</th>\n",
       "      <th>hum</th>\n",
       "      <th>windspeed</th>\n",
       "      <th>season_1</th>\n",
       "      <th>season_2</th>\n",
       "      <th>...</th>\n",
       "      <th>weekday_2</th>\n",
       "      <th>weekday_3</th>\n",
       "      <th>weekday_4</th>\n",
       "      <th>weekday_5</th>\n",
       "      <th>weekday_6</th>\n",
       "      <th>weather_1</th>\n",
       "      <th>weather_2</th>\n",
       "      <th>weather_3</th>\n",
       "      <th>weather_4</th>\n",
       "      <th>cnt</th>\n",
       "    </tr>\n",
       "  </thead>\n",
       "  <tbody>\n",
       "    <tr>\n",
       "      <th>0</th>\n",
       "      <td>2011-01-01</td>\n",
       "      <td>0</td>\n",
       "      <td>0</td>\n",
       "      <td>0</td>\n",
       "      <td>0.24</td>\n",
       "      <td>0.2879</td>\n",
       "      <td>0.81</td>\n",
       "      <td>0.0</td>\n",
       "      <td>1</td>\n",
       "      <td>0</td>\n",
       "      <td>...</td>\n",
       "      <td>0</td>\n",
       "      <td>0</td>\n",
       "      <td>0</td>\n",
       "      <td>0</td>\n",
       "      <td>1</td>\n",
       "      <td>1</td>\n",
       "      <td>0</td>\n",
       "      <td>0</td>\n",
       "      <td>0</td>\n",
       "      <td>16</td>\n",
       "    </tr>\n",
       "    <tr>\n",
       "      <th>1</th>\n",
       "      <td>2011-01-01</td>\n",
       "      <td>0</td>\n",
       "      <td>0</td>\n",
       "      <td>0</td>\n",
       "      <td>0.22</td>\n",
       "      <td>0.2727</td>\n",
       "      <td>0.80</td>\n",
       "      <td>0.0</td>\n",
       "      <td>1</td>\n",
       "      <td>0</td>\n",
       "      <td>...</td>\n",
       "      <td>0</td>\n",
       "      <td>0</td>\n",
       "      <td>0</td>\n",
       "      <td>0</td>\n",
       "      <td>1</td>\n",
       "      <td>1</td>\n",
       "      <td>0</td>\n",
       "      <td>0</td>\n",
       "      <td>0</td>\n",
       "      <td>40</td>\n",
       "    </tr>\n",
       "    <tr>\n",
       "      <th>2</th>\n",
       "      <td>2011-01-01</td>\n",
       "      <td>0</td>\n",
       "      <td>0</td>\n",
       "      <td>0</td>\n",
       "      <td>0.22</td>\n",
       "      <td>0.2727</td>\n",
       "      <td>0.80</td>\n",
       "      <td>0.0</td>\n",
       "      <td>1</td>\n",
       "      <td>0</td>\n",
       "      <td>...</td>\n",
       "      <td>0</td>\n",
       "      <td>0</td>\n",
       "      <td>0</td>\n",
       "      <td>0</td>\n",
       "      <td>1</td>\n",
       "      <td>1</td>\n",
       "      <td>0</td>\n",
       "      <td>0</td>\n",
       "      <td>0</td>\n",
       "      <td>32</td>\n",
       "    </tr>\n",
       "    <tr>\n",
       "      <th>3</th>\n",
       "      <td>2011-01-01</td>\n",
       "      <td>0</td>\n",
       "      <td>0</td>\n",
       "      <td>0</td>\n",
       "      <td>0.24</td>\n",
       "      <td>0.2879</td>\n",
       "      <td>0.75</td>\n",
       "      <td>0.0</td>\n",
       "      <td>1</td>\n",
       "      <td>0</td>\n",
       "      <td>...</td>\n",
       "      <td>0</td>\n",
       "      <td>0</td>\n",
       "      <td>0</td>\n",
       "      <td>0</td>\n",
       "      <td>1</td>\n",
       "      <td>1</td>\n",
       "      <td>0</td>\n",
       "      <td>0</td>\n",
       "      <td>0</td>\n",
       "      <td>13</td>\n",
       "    </tr>\n",
       "    <tr>\n",
       "      <th>4</th>\n",
       "      <td>2011-01-01</td>\n",
       "      <td>0</td>\n",
       "      <td>0</td>\n",
       "      <td>0</td>\n",
       "      <td>0.24</td>\n",
       "      <td>0.2879</td>\n",
       "      <td>0.75</td>\n",
       "      <td>0.0</td>\n",
       "      <td>1</td>\n",
       "      <td>0</td>\n",
       "      <td>...</td>\n",
       "      <td>0</td>\n",
       "      <td>0</td>\n",
       "      <td>0</td>\n",
       "      <td>0</td>\n",
       "      <td>1</td>\n",
       "      <td>1</td>\n",
       "      <td>0</td>\n",
       "      <td>0</td>\n",
       "      <td>0</td>\n",
       "      <td>1</td>\n",
       "    </tr>\n",
       "  </tbody>\n",
       "</table>\n",
       "<p>5 rows × 60 columns</p>\n",
       "</div>"
      ],
      "text/plain": [
       "       dteday  yr  holiday  workingday  temp   atemp   hum  windspeed  \\\n",
       "0  2011-01-01   0        0           0  0.24  0.2879  0.81        0.0   \n",
       "1  2011-01-01   0        0           0  0.22  0.2727  0.80        0.0   \n",
       "2  2011-01-01   0        0           0  0.22  0.2727  0.80        0.0   \n",
       "3  2011-01-01   0        0           0  0.24  0.2879  0.75        0.0   \n",
       "4  2011-01-01   0        0           0  0.24  0.2879  0.75        0.0   \n",
       "\n",
       "   season_1  season_2 ...   weekday_2  weekday_3  weekday_4  weekday_5  \\\n",
       "0         1         0 ...           0          0          0          0   \n",
       "1         1         0 ...           0          0          0          0   \n",
       "2         1         0 ...           0          0          0          0   \n",
       "3         1         0 ...           0          0          0          0   \n",
       "4         1         0 ...           0          0          0          0   \n",
       "\n",
       "   weekday_6  weather_1  weather_2  weather_3  weather_4  cnt  \n",
       "0          1          1          0          0          0   16  \n",
       "1          1          1          0          0          0   40  \n",
       "2          1          1          0          0          0   32  \n",
       "3          1          1          0          0          0   13  \n",
       "4          1          1          0          0          0    1  \n",
       "\n",
       "[5 rows x 60 columns]"
      ]
     },
     "execution_count": 18,
     "metadata": {},
     "output_type": "execute_result"
    }
   ],
   "source": [
    "cnt = df['cnt']\n",
    "df.drop(columns = ['cnt'], inplace = True)\n",
    "df = pd.concat([df, cnt], axis = 1)\n",
    "\n",
    "df.head()"
   ]
  },
  {
   "cell_type": "code",
   "execution_count": 19,
   "metadata": {},
   "outputs": [],
   "source": [
    "#Extracting and Converting date to int \n",
    "df['dteday'] = df['dteday'].map( lambda d: (d[8:]))\n",
    "df['dteday'] = df['dteday'].astype('int')\n",
    "\n",
    "#Dividing the dataset into training and testing set\n",
    "#First 19 days of a month are taken into training set\n",
    "#From day 20 to end of a month are taken into testing set\n",
    "df_train = df[(df['dteday'] < 20)]\n",
    "df_test = df[(df['dteday'] >= 20)]"
   ]
  },
  {
   "cell_type": "code",
   "execution_count": 20,
   "metadata": {},
   "outputs": [],
   "source": [
    "test_set = df_test.values\n",
    "t_set = df_train.values\n",
    "\n",
    "#Training set is shuffled and splitted 80:20 into train and validation set\n",
    "l = int(0.8*(t_set.shape[0]))\n",
    "np.random.shuffle(t_set)\n",
    "train_set = t_set[:l, :]\n",
    "valid_set = t_set[l:, :]\n",
    "\n",
    "\n",
    "#x is features and y are output(count) of complete training set(Train+Validation set)\n",
    "y = t_set[:,-1]\n",
    "y.shape = (t_set.shape[0],1)\n",
    "x = t_set[:, 1:-1]\n",
    "one = np.ones((x.shape[0], 1))\n",
    "x = np.append(one, x, axis = 1)\n",
    "\n",
    "\n",
    "#Storing the output(count) in y and features matrix in x for all the sets(Train, Validation, Test)\n",
    "y_train = train_set[:,-1]\n",
    "y_train.shape = (train_set.shape[0],1)\n",
    "x_train = train_set[:, 1:-1]\n",
    "one = np.ones((x_train.shape[0], 1))\n",
    "x_train = np.append(one, x_train, axis = 1)\n",
    "\n",
    "y_valid = valid_set[:,-1]\n",
    "y_valid.shape = (valid_set.shape[0],1)\n",
    "x_valid = valid_set[:, 1:-1]\n",
    "one = np.ones((x_valid.shape[0], 1))\n",
    "x_valid = np.append(one, x_valid, axis = 1)\n",
    "\n",
    "y_test = test_set[:,-1]\n",
    "y_test.shape = (test_set.shape[0],1)\n",
    "x_test = test_set[:,1:-1]\n",
    "one = np.ones((x_test.shape[0], 1))\n",
    "x_test = np.append(one, x_test, axis = 1)"
   ]
  },
  {
   "cell_type": "code",
   "execution_count": 21,
   "metadata": {},
   "outputs": [],
   "source": [
    "def prediction(X, beta):\n",
    "    #Function to calucuate the lambda(output)\n",
    "    lamda = np.exp(np.matmul(X, beta))\n",
    "    \n",
    "    return lamda\n",
    "\n",
    "def rmse(y, y_cap):\n",
    "    #Function to calculate the Root mean square error\n",
    "    err = np.sqrt(np.sum((y_cap-y)**2)/float(y.shape[0]))\n",
    "    \n",
    "    return err"
   ]
  },
  {
   "cell_type": "markdown",
   "metadata": {},
   "source": [
    "### Gradient Descent without regularization"
   ]
  },
  {
   "cell_type": "code",
   "execution_count": 22,
   "metadata": {},
   "outputs": [],
   "source": [
    "#Without regularization\n",
    "def gradient(x, y, beta):\n",
    "    #Finding the gradient of loss function.\n",
    "    g = (np.exp(np.matmul(x, beta)) - y)*x\n",
    "    res = np.sum(g, axis = 0)\n",
    "    \n",
    "    return res\n",
    "\n",
    "\n",
    "def gd(x, y, alpha, iterations):\n",
    "    #Gradient descent function without regularization\n",
    "    \n",
    "    #Initializing the weights\n",
    "    beta = np.random.normal(scale = 1.0/x.shape[1], size = (x.shape[1], 1))  \n",
    "    \n",
    "    #Calculating loss function\n",
    "    #m = np.matmul(x, beta)\n",
    "    #loss = np.sum((np.exp(m) - y*m))\n",
    "    \n",
    "    #Calculating the error\n",
    "    error = rmse(y, prediction(x, beta))\n",
    "    \n",
    "    itr = 0\n",
    "    \n",
    "    training_process = []                    #list to store the training errors \n",
    "    while(itr < iterations):\n",
    "        #Updating the weights using gradient\n",
    "        beta = beta - alpha*gradient(x, y, beta).reshape(beta.shape)\n",
    "        \n",
    "        error = rmse(y, prediction(x, beta))\n",
    "        training_process.append((itr, error))\n",
    "        \n",
    "        #if(itr == 0 or itr%1000 == 0):\n",
    "            #print(\"Iteration : %d  Error = %f\" %(itr, error))\n",
    "        itr = itr+1\n",
    "    \n",
    "    error = rmse(y, prediction(x, beta))\n",
    "    \n",
    "    return beta, error, training_process"
   ]
  },
  {
   "cell_type": "markdown",
   "metadata": {},
   "source": [
    "### Gradient Descent with L1 regularization"
   ]
  },
  {
   "cell_type": "code",
   "execution_count": 23,
   "metadata": {},
   "outputs": [],
   "source": [
    "#L1 regularization\n",
    "def L1_gradient(x, y, gamma, beta):\n",
    "    #Finding the gradient of loss function(with R1 regularization).\n",
    "    g = (np.exp(np.matmul(x, beta)) - y)*x\n",
    "    res = np.sum(g, axis = 0)\n",
    "    res = res + np.sum(0.5*gamma*np.sign(beta))\n",
    "    \n",
    "    return res\n",
    "\n",
    "\n",
    "def L1_training(x, y, alpha, gamma, iterations):\n",
    "    #Gradient descent function without regularization\n",
    "    \n",
    "    #Initializing the weights\n",
    "    beta = np.random.normal(scale = 1.0/x.shape[1], size = (x.shape[1], 1))  #initialize\n",
    "    \n",
    "    #Calculating loss function\n",
    "    #m = np.matmul(x, beta)\n",
    "    #loss = np.sum(np.exp(m) - y*m) + np.sum(0.5*gamma*np.abs(beta))\n",
    "\n",
    "    #Calculating the error\n",
    "    error = rmse(y, prediction(x, beta))\n",
    "    \n",
    "    itr = 0\n",
    "    \n",
    "    training_process = []                      #list to store the training errors\n",
    "    while(itr < iterations):\n",
    "        #Updating the weights using gradient with L1 regularization\n",
    "        beta = beta - alpha*L1_gradient(x, y, gamma, beta).reshape(beta.shape)\n",
    "        \n",
    "        error = rmse(y, prediction(x, beta))\n",
    "        training_process.append((itr, error))\n",
    "        \n",
    "        #if(itr == 0 or itr%1000 == 0):\n",
    "            #print(\"Iteration : %d  Error = %f\" %(itr, error))\n",
    "        itr = itr+1\n",
    "    \n",
    "    error = rmse(y, prediction(x, beta))\n",
    "    \n",
    "    return beta, error, training_process"
   ]
  },
  {
   "cell_type": "markdown",
   "metadata": {},
   "source": [
    "### Gradient Descent with L2 regularization"
   ]
  },
  {
   "cell_type": "code",
   "execution_count": 24,
   "metadata": {},
   "outputs": [],
   "source": [
    "#L2 regularization\n",
    "def L2_gradient(x, y, gamma, beta):\n",
    "    #Finding the gradient of loss function(with R2 regularization).\n",
    "    g = (np.exp(np.matmul(x, beta)) - y)*x\n",
    "    res = np.sum(g, axis = 0)\n",
    "    res = res + gamma*beta.T\n",
    "    \n",
    "    return res\n",
    "\n",
    "\n",
    "def L2_training(x, y, alpha, gamma, iterations):\n",
    "    #Gradient descent function without regularization\n",
    "    \n",
    "    #Initializing the weights\n",
    "    beta = np.random.normal(scale = 1.0/x.shape[1], size = (x.shape[1], 1))  #initialize\n",
    "    \n",
    "    #Calculating loss function\n",
    "    #m = np.matmul(x, beta)\n",
    "    #loss = np.sum(np.exp(m) - y*m) + 0.5*gamma*np.matmul(beta.T, beta)\n",
    "\n",
    "    #Calculating the error\n",
    "    error = rmse(y, prediction(x, beta))\n",
    "    \n",
    "    itr = 0\n",
    "    #print(error)\n",
    "    \n",
    "    training_process = []                         #list to store the training errors\n",
    "    while(itr < iterations):\n",
    "        #Updating the weights using gradient with L2 regularization\n",
    "        beta = beta - alpha*L2_gradient(x, y, gamma, beta).reshape(beta.shape)\n",
    "        \n",
    "        error = rmse(y, prediction(x, beta))\n",
    "        training_process.append((itr, error))\n",
    "        \n",
    "        #if(itr == 0 or itr%1000 == 0):\n",
    "           # print(\"Iteration : %d  Error = %f\" %(itr, error))\n",
    "        itr = itr+1\n",
    "    \n",
    "    error = rmse(y, prediction(x, beta))\n",
    "    \n",
    "    return beta, error, training_process"
   ]
  },
  {
   "cell_type": "markdown",
   "metadata": {},
   "source": [
    "### Validation"
   ]
  },
  {
   "cell_type": "code",
   "execution_count": 25,
   "metadata": {
    "scrolled": true
   },
   "outputs": [
    {
     "name": "stdout",
     "output_type": "stream",
     "text": [
      "Validation : 0 completed\n",
      "Validation : 1 completed\n",
      "Validation : 2 completed\n",
      "Validation : 3 completed\n",
      "Validation : 4 completed\n",
      "Validation : 5 completed\n",
      "Validation : 6 completed\n",
      "Validation : 7 completed\n",
      "Validation : 8 completed\n",
      "Validation : 9 completed\n",
      "Validation : 10 completed\n",
      "Validation : 11 completed\n",
      "Validation : 12 completed\n",
      "Validation : 13 completed\n",
      "Validation : 14 completed\n",
      "Validation : 15 completed\n",
      "Validation : 16 completed\n",
      "Validation : 17 completed\n",
      "Validation : 18 completed\n",
      "Validation : 19 completed\n",
      "Validation : 20 completed\n",
      "Validation : 21 completed\n",
      "Validation : 22 completed\n",
      "Validation : 23 completed\n",
      "Validation : 24 completed\n",
      "Validation : 25 completed\n",
      "Validation : 26 completed\n",
      "Validation : 27 completed\n",
      "Validation : 28 completed\n",
      "Validation : 29 completed\n",
      "Validation : 30 completed\n",
      "Validation : 31 completed\n",
      "Validation : 32 completed\n",
      "Validation : 33 completed\n",
      "Validation : 34 completed\n",
      "Validation : 35 completed\n",
      "Validation : 36 completed\n",
      "Validation : 37 completed\n",
      "Validation : 38 completed\n",
      "Validation : 39 completed\n",
      "Validation : 40 completed\n",
      "Validation : 41 completed\n",
      "Validation : 42 completed\n",
      "Validation : 43 completed\n",
      "Validation : 44 completed\n",
      "Validation : 45 completed\n",
      "Validation : 46 completed\n",
      "Validation : 47 completed\n",
      "Validation : 48 completed\n",
      "Validation : 49 completed\n",
      "Validation : 50 completed\n",
      "Validation : 51 completed\n",
      "Validation : 52 completed\n",
      "Validation : 53 completed\n",
      "Validation : 54 completed\n",
      "Validation : 55 completed\n",
      "Validation : 56 completed\n",
      "Validation : 57 completed\n",
      "Validation : 58 completed\n",
      "Validation : 59 completed\n",
      "Validation : 60 completed\n",
      "Validation : 61 completed\n",
      "Validation : 62 completed\n",
      "Validation : 63 completed\n",
      "Validation : 64 completed\n",
      "Validation : 65 completed\n",
      "Validation : 66 completed\n",
      "Validation : 67 completed\n",
      "Validation : 68 completed\n",
      "Validation : 69 completed\n",
      "Validation : 70 completed\n",
      "Validation : 71 completed\n",
      "Validation : 72 completed\n",
      "Validation : 73 completed\n",
      "Validation : 74 completed\n",
      "Validation : 75 completed\n",
      "Validation : 76 completed\n",
      "Validation : 77 completed\n",
      "Validation : 78 completed\n",
      "Validation : 79 completed\n",
      "Validation : 80 completed\n",
      "Validation : 81 completed\n",
      "Validation : 82 completed\n",
      "Validation : 83 completed\n",
      "Validation : 84 completed\n",
      "Validation : 85 completed\n",
      "Validation : 86 completed\n",
      "Validation : 87 completed\n",
      "Validation : 88 completed\n",
      "Validation : 89 completed\n",
      "Validation : 90 completed\n",
      "Validation : 91 completed\n",
      "Validation : 92 completed\n",
      "Validation : 93 completed\n",
      "Validation : 94 completed\n",
      "Validation : 95 completed\n",
      "Validation : 96 completed\n",
      "Validation : 97 completed\n",
      "Validation : 98 completed\n",
      "Validation : 99 completed\n",
      "Validation : 100 completed\n",
      "Validation : 101 completed\n",
      "Validation : 102 completed\n",
      "Validation : 103 completed\n",
      "Validation : 104 completed\n",
      "Validation : 105 completed\n",
      "Validation : 106 completed\n",
      "Validation : 107 completed\n",
      "Validation : 108 completed\n",
      "Validation : 109 completed\n",
      "Validation : 110 completed\n",
      "Validation : 111 completed\n",
      "Validation : 112 completed\n",
      "Validation : 113 completed\n",
      "Validation : 114 completed\n",
      "Validation : 115 completed\n",
      "Validation : 116 completed\n",
      "Validation : 117 completed\n",
      "Validation : 118 completed\n",
      "Validation : 119 completed\n",
      "Validation : 120 completed\n",
      "Validation Completed\n",
      "[ 0  0 67 76 66]\n"
     ]
    }
   ],
   "source": [
    "a = np.linspace(1e-8, 1e-7, 6)\n",
    "ALPHA = np.append(a[:-1], np.linspace(1e-7, 1e-6, 6)) \n",
    "a = np.linspace(1e-4, 1e-3, 6)\n",
    "GAMMA = np.append(a[:-1], np.linspace(1e-3 ,1e-2, 6))\n",
    "\n",
    "Validation = np.zeros((ALPHA.shape[0]*GAMMA.shape[0], 5))\n",
    "\n",
    "\n",
    "iterations = 1000\n",
    "i = 0\n",
    "\n",
    "#Training for various values of alpha and beta and storing the error in Validation matrix\n",
    "for alpha in ALPHA:\n",
    "    for gamma in GAMMA:\n",
    "        \n",
    "        beta, err, tr_err = gd(x_train, y_train, alpha, iterations)\n",
    "        e1 = rmse(y_valid, prediction(x_valid, beta))   #Validation error for Gradient descent without regularization\n",
    "        beta1, err, tr_err = L1_training(x_train, y_train, alpha, gamma, iterations)\n",
    "        e2 = rmse(y_valid, prediction(x_valid, beta1))   #Validation error for Gradient descent with L1 regularization\n",
    "        beta2, err, tr_err = L2_training(x_train, y_train, alpha, gamma, iterations)\n",
    "        e3 = rmse(y_valid, prediction(x_valid, beta2))   #Validation error for Gradient descent with L2 regularization\n",
    "\n",
    "        Validation[i][0] = alpha\n",
    "        Validation[i][1] = gamma\n",
    "        Validation[i][2] = e1\n",
    "        Validation[i][3] = e2\n",
    "        Validation[i][4] = e3\n",
    "\n",
    "        print(\"Validation : %d completed\" %(i))\n",
    "        i = i + 1\n",
    "\n",
    "print(\"Validation Completed\")\n",
    "\n",
    "#Finding the minimum errors in all the trainings \n",
    "best = np.argmin(Validation, axis = 0)\n",
    "print(best)"
   ]
  },
  {
   "cell_type": "code",
   "execution_count": 26,
   "metadata": {},
   "outputs": [
    {
     "name": "stdout",
     "output_type": "stream",
     "text": [
      "Best found hyperparameters using validation are:\n",
      "('Gradient descent without regularization, Alpha = ', 2.7999999999999997e-07)\n",
      "('Gradient descent with L1 regularization, Aplha = ', 2.7999999999999997e-07, 'Gamma = ', 0.01)\n",
      "('Gradient descent with L2 regularization, Aplha = ', 2.7999999999999997e-07, 'Gamma = ', 0.0001)\n"
     ]
    }
   ],
   "source": [
    "print(\"Best found hyperparameters using validation are:\")\n",
    "print(\"Gradient descent without regularization, Alpha = \", Validation[best[2], 0])\n",
    "print(\"Gradient descent with L1 regularization, Aplha = \", Validation[best[3], 0], \"Gamma = \", Validation[best[3], 1])\n",
    "print(\"Gradient descent with L2 regularization, Aplha = \", Validation[best[4], 0], \"Gamma = \", Validation[best[4], 1])"
   ]
  },
  {
   "cell_type": "code",
   "execution_count": 27,
   "metadata": {},
   "outputs": [
    {
     "name": "stdout",
     "output_type": "stream",
     "text": [
      "('Training error = ', 88.44580275334232)\n",
      "('Testing error = ', 94.18112012394509)\n"
     ]
    },
    {
     "data": {
      "image/png": "[encoded data removed]",
      "text/plain": [
       "<matplotlib.figure.Figure at 0x7f18ac5ca290>"
      ]
     },
     "metadata": {
      "needs_background": "light"
     },
     "output_type": "display_data"
    }
   ],
   "source": [
    "#After validation\n",
    "\n",
    "#Training on the dataset with best found hyperparameters\n",
    "iterations = 1000\n",
    "\n",
    "#best found alpha for gradient descent without regularization \n",
    "alpha = Validation[best[2], 0]\n",
    "\n",
    "beta, error, tr_err = gd(x_train, y_train, alpha, iterations)\n",
    "\n",
    "print(\"Training error = \", error)\n",
    "print(\"Testing error = \", rmse(y_test, prediction(x_test, beta)))\n",
    "\n",
    "#Plotting the trainig error graph\n",
    "x1 = [i for i, j in tr_err]\n",
    "y1 = [j for i, j in tr_err]\n",
    "plt.figure(figsize=((16,4)))\n",
    "plt.scatter(x1, y1, s=0.5, label = 'train')\n",
    "plt.xlabel(\"Iterations\")\n",
    "plt.ylabel(\"Error\")\n",
    "plt.legend()\n",
    "plt.show()\n",
    "\n",
    "#print(beta)"
   ]
  },
  {
   "cell_type": "code",
   "execution_count": 28,
   "metadata": {},
   "outputs": [
    {
     "name": "stdout",
     "output_type": "stream",
     "text": [
      "('Training error = ', 88.44318783110333)\n",
      "('Testing error = ', 94.14364593344172)\n"
     ]
    },
    {
     "data": {
      "image/png": "[encoded data removed]",
      "text/plain": [
       "<matplotlib.figure.Figure at 0x7f18ac5ca090>"
      ]
     },
     "metadata": {
      "needs_background": "light"
     },
     "output_type": "display_data"
    }
   ],
   "source": [
    "#After validation\n",
    "\n",
    "#Training on the dataset with best found hyperparameters\n",
    "iterations = 1000\n",
    "\n",
    "#best found alphaand gamma for gradient descent with L1 regularization \n",
    "alpha = Validation[best[3], 0]\n",
    "gamma = Validation[best[3], 1]\n",
    "\n",
    "beta1, error, tr_err = L1_training(x_train, y_train, alpha, gamma, iterations)\n",
    "\n",
    "print(\"Training error = \", error)\n",
    "print(\"Testing error = \", rmse(y_test, prediction(x_test, beta1)))\n",
    "\n",
    "#Plotting the trainig error graph\n",
    "x1 = [i for i, j in tr_err]\n",
    "y1 = [j for i, j in tr_err]\n",
    "plt.figure(figsize=((16,4)))\n",
    "plt.scatter(x1, y1, s=0.5, label = 'train')\n",
    "plt.xlabel(\"Iterations\")\n",
    "plt.ylabel(\"Error\")\n",
    "plt.legend()\n",
    "plt.show()\n",
    "\n",
    "#print(beta)"
   ]
  },
  {
   "cell_type": "code",
   "execution_count": 29,
   "metadata": {},
   "outputs": [
    {
     "name": "stdout",
     "output_type": "stream",
     "text": [
      "('Training error = ', 88.44504422708434)\n",
      "('Testing error = ', 94.14545494625773)\n"
     ]
    },
    {
     "data": {
      "image/png": "[encoded data removed]",
      "text/plain": [
       "<matplotlib.figure.Figure at 0x7f18ac517090>"
      ]
     },
     "metadata": {
      "needs_background": "light"
     },
     "output_type": "display_data"
    }
   ],
   "source": [
    "#After validation\n",
    "\n",
    "#Training on the dataset with best found hyperparameters\n",
    "iterations = 1000\n",
    "\n",
    "#best found alpha and gamma for gradient descent with L2 regularization \n",
    "alpha = Validation[best[4], 0]\n",
    "gamma = Validation[best[4], 1]\n",
    "\n",
    "beta2, error, tr_err = L2_training(x_train, y_train, alpha, gamma, iterations)\n",
    "\n",
    "print(\"Training error = \", error)\n",
    "print(\"Testing error = \", rmse(y_test, prediction(x_test, beta2)))\n",
    "\n",
    "#Plotting the trainig error graph\n",
    "x1 = [i for i, j in tr_err]\n",
    "y1 = [j for i, j in tr_err]\n",
    "plt.figure(figsize=((16,4)))\n",
    "plt.scatter(x1, y1, s=0.5, label = 'train')\n",
    "plt.xlabel(\"Iterations\")\n",
    "plt.ylabel(\"Error\")\n",
    "plt.legend()\n",
    "plt.show()\n",
    "\n",
    "#print(beta)"
   ]
  },
  {
   "cell_type": "markdown",
   "metadata": {},
   "source": [
    "### Most Important Features"
   ]
  },
  {
   "cell_type": "code",
   "execution_count": 30,
   "metadata": {},
   "outputs": [
    {
     "data": {
      "text/plain": [
       "array([38, 39, 11, 33, 36, 37, 31, 56, 55, 40, 43, 32, 42, 41,  0])"
      ]
     },
     "execution_count": 30,
     "metadata": {},
     "output_type": "execute_result"
    }
   ],
   "source": [
    "#L1 is used for feature extraction\n",
    "#Using the weight learnt from L1 regularization to determine the top features\n",
    "l = len(beta1)\n",
    "features = np.argsort(beta1.flatten())[l-15:]\n",
    "features"
   ]
  },
  {
   "cell_type": "code",
   "execution_count": 32,
   "metadata": {},
   "outputs": [
    {
     "data": {
      "text/plain": [
       "Index([u'hour_14', u'hour_15', u'season_4', u'hour_9', u'hour_12', u'hour_13',\n",
       "       u'hour_7', u'weather_2', u'weather_1', u'hour_16', u'hour_19',\n",
       "       u'hour_8', u'hour_18', u'hour_17'],\n",
       "      dtype='object')"
      ]
     },
     "execution_count": 32,
     "metadata": {},
     "output_type": "execute_result"
    }
   ],
   "source": [
    "#col stores the names of corresponding features.\n",
    "#We take the best feature names from the col\n",
    "col = df.columns       \n",
    "col[features[:-1]]   #index zero is excluded, since it is for bias "
   ]
  },
  {
   "cell_type": "markdown",
   "metadata": {},
   "source": [
    "##### From these we get to know that the top 3 importanat regressor variables are \"hour\", \"weather\" and \"season\"  "
   ]
  },
  {
   "cell_type": "code",
   "execution_count": null,
   "metadata": {},
   "outputs": [],
   "source": []
  }
 ],
 "metadata": {
  "kernelspec": {
   "display_name": "Python 3",
   "language": "python",
   "name": "python3"
  },
  "language_info": {
   "codemirror_mode": {
    "name": "ipython",
    "version": 2
   },
   "file_extension": ".py",
   "mimetype": "text/x-python",
   "name": "python",
   "nbconvert_exporter": "python",
   "pygments_lexer": "ipython2",
   "version": "2.7.17"
  }
 },
 "nbformat": 4,
 "nbformat_minor": 2
}
