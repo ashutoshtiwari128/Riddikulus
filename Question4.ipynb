{
 "cells": [
  {
   "cell_type": "code",
   "execution_count": 2,
   "metadata": {},
   "outputs": [],
   "source": [
    "import numpy as np\n",
    "import matplotlib.pyplot as plt\n",
    "import pandas as pd"
   ]
  },
  {
   "cell_type": "code",
   "execution_count": 3,
   "metadata": {
    "scrolled": true
   },
   "outputs": [
    {
     "data": {
      "text/html": [
       "<div>\n",
       "<style scoped>\n",
       "    .dataframe tbody tr th:only-of-type {\n",
       "        vertical-align: middle;\n",
       "    }\n",
       "\n",
       "    .dataframe tbody tr th {\n",
       "        vertical-align: top;\n",
       "    }\n",
       "\n",
       "    .dataframe thead th {\n",
       "        text-align: right;\n",
       "    }\n",
       "</style>\n",
       "<table border=\"1\" class=\"dataframe\">\n",
       "  <thead>\n",
       "    <tr style=\"text-align: right;\">\n",
       "      <th></th>\n",
       "      <th>instant</th>\n",
       "      <th>dteday</th>\n",
       "      <th>season</th>\n",
       "      <th>yr</th>\n",
       "      <th>mnth</th>\n",
       "      <th>hr</th>\n",
       "      <th>holiday</th>\n",
       "      <th>weekday</th>\n",
       "      <th>workingday</th>\n",
       "      <th>weathersit</th>\n",
       "      <th>temp</th>\n",
       "      <th>atemp</th>\n",
       "      <th>hum</th>\n",
       "      <th>windspeed</th>\n",
       "      <th>casual</th>\n",
       "      <th>registered</th>\n",
       "      <th>cnt</th>\n",
       "    </tr>\n",
       "  </thead>\n",
       "  <tbody>\n",
       "    <tr>\n",
       "      <th>0</th>\n",
       "      <td>1</td>\n",
       "      <td>2011-01-01</td>\n",
       "      <td>1</td>\n",
       "      <td>0</td>\n",
       "      <td>1</td>\n",
       "      <td>0</td>\n",
       "      <td>0</td>\n",
       "      <td>6</td>\n",
       "      <td>0</td>\n",
       "      <td>1</td>\n",
       "      <td>0.24</td>\n",
       "      <td>0.2879</td>\n",
       "      <td>0.81</td>\n",
       "      <td>0.0</td>\n",
       "      <td>3</td>\n",
       "      <td>13</td>\n",
       "      <td>16</td>\n",
       "    </tr>\n",
       "    <tr>\n",
       "      <th>1</th>\n",
       "      <td>2</td>\n",
       "      <td>2011-01-01</td>\n",
       "      <td>1</td>\n",
       "      <td>0</td>\n",
       "      <td>1</td>\n",
       "      <td>1</td>\n",
       "      <td>0</td>\n",
       "      <td>6</td>\n",
       "      <td>0</td>\n",
       "      <td>1</td>\n",
       "      <td>0.22</td>\n",
       "      <td>0.2727</td>\n",
       "      <td>0.80</td>\n",
       "      <td>0.0</td>\n",
       "      <td>8</td>\n",
       "      <td>32</td>\n",
       "      <td>40</td>\n",
       "    </tr>\n",
       "    <tr>\n",
       "      <th>2</th>\n",
       "      <td>3</td>\n",
       "      <td>2011-01-01</td>\n",
       "      <td>1</td>\n",
       "      <td>0</td>\n",
       "      <td>1</td>\n",
       "      <td>2</td>\n",
       "      <td>0</td>\n",
       "      <td>6</td>\n",
       "      <td>0</td>\n",
       "      <td>1</td>\n",
       "      <td>0.22</td>\n",
       "      <td>0.2727</td>\n",
       "      <td>0.80</td>\n",
       "      <td>0.0</td>\n",
       "      <td>5</td>\n",
       "      <td>27</td>\n",
       "      <td>32</td>\n",
       "    </tr>\n",
       "    <tr>\n",
       "      <th>3</th>\n",
       "      <td>4</td>\n",
       "      <td>2011-01-01</td>\n",
       "      <td>1</td>\n",
       "      <td>0</td>\n",
       "      <td>1</td>\n",
       "      <td>3</td>\n",
       "      <td>0</td>\n",
       "      <td>6</td>\n",
       "      <td>0</td>\n",
       "      <td>1</td>\n",
       "      <td>0.24</td>\n",
       "      <td>0.2879</td>\n",
       "      <td>0.75</td>\n",
       "      <td>0.0</td>\n",
       "      <td>3</td>\n",
       "      <td>10</td>\n",
       "      <td>13</td>\n",
       "    </tr>\n",
       "    <tr>\n",
       "      <th>4</th>\n",
       "      <td>5</td>\n",
       "      <td>2011-01-01</td>\n",
       "      <td>1</td>\n",
       "      <td>0</td>\n",
       "      <td>1</td>\n",
       "      <td>4</td>\n",
       "      <td>0</td>\n",
       "      <td>6</td>\n",
       "      <td>0</td>\n",
       "      <td>1</td>\n",
       "      <td>0.24</td>\n",
       "      <td>0.2879</td>\n",
       "      <td>0.75</td>\n",
       "      <td>0.0</td>\n",
       "      <td>0</td>\n",
       "      <td>1</td>\n",
       "      <td>1</td>\n",
       "    </tr>\n",
       "  </tbody>\n",
       "</table>\n",
       "</div>"
      ],
      "text/plain": [
       "   instant      dteday  season  yr  mnth  hr  holiday  weekday  workingday  \\\n",
       "0        1  2011-01-01       1   0     1   0        0        6           0   \n",
       "1        2  2011-01-01       1   0     1   1        0        6           0   \n",
       "2        3  2011-01-01       1   0     1   2        0        6           0   \n",
       "3        4  2011-01-01       1   0     1   3        0        6           0   \n",
       "4        5  2011-01-01       1   0     1   4        0        6           0   \n",
       "\n",
       "   weathersit  temp   atemp   hum  windspeed  casual  registered  cnt  \n",
       "0           1  0.24  0.2879  0.81        0.0       3          13   16  \n",
       "1           1  0.22  0.2727  0.80        0.0       8          32   40  \n",
       "2           1  0.22  0.2727  0.80        0.0       5          27   32  \n",
       "3           1  0.24  0.2879  0.75        0.0       3          10   13  \n",
       "4           1  0.24  0.2879  0.75        0.0       0           1    1  "
      ]
     },
     "execution_count": 3,
     "metadata": {},
     "output_type": "execute_result"
    }
   ],
   "source": [
    "#Loading the dataset\n",
    "df = pd.read_csv('hour.csv')\n",
    "df.shape\n",
    "df.head()"
   ]
  },
  {
   "cell_type": "code",
   "execution_count": 4,
   "metadata": {},
   "outputs": [
    {
     "data": {
      "text/html": [
       "<div>\n",
       "<style scoped>\n",
       "    .dataframe tbody tr th:only-of-type {\n",
       "        vertical-align: middle;\n",
       "    }\n",
       "\n",
       "    .dataframe tbody tr th {\n",
       "        vertical-align: top;\n",
       "    }\n",
       "\n",
       "    .dataframe thead th {\n",
       "        text-align: right;\n",
       "    }\n",
       "</style>\n",
       "<table border=\"1\" class=\"dataframe\">\n",
       "  <thead>\n",
       "    <tr style=\"text-align: right;\">\n",
       "      <th></th>\n",
       "      <th>dteday</th>\n",
       "      <th>season</th>\n",
       "      <th>yr</th>\n",
       "      <th>mnth</th>\n",
       "      <th>hr</th>\n",
       "      <th>holiday</th>\n",
       "      <th>weekday</th>\n",
       "      <th>workingday</th>\n",
       "      <th>weathersit</th>\n",
       "      <th>temp</th>\n",
       "      <th>atemp</th>\n",
       "      <th>hum</th>\n",
       "      <th>windspeed</th>\n",
       "      <th>cnt</th>\n",
       "    </tr>\n",
       "  </thead>\n",
       "  <tbody>\n",
       "    <tr>\n",
       "      <th>0</th>\n",
       "      <td>2011-01-01</td>\n",
       "      <td>1</td>\n",
       "      <td>0</td>\n",
       "      <td>1</td>\n",
       "      <td>0</td>\n",
       "      <td>0</td>\n",
       "      <td>6</td>\n",
       "      <td>0</td>\n",
       "      <td>1</td>\n",
       "      <td>0.24</td>\n",
       "      <td>0.2879</td>\n",
       "      <td>0.81</td>\n",
       "      <td>0.0</td>\n",
       "      <td>16</td>\n",
       "    </tr>\n",
       "    <tr>\n",
       "      <th>1</th>\n",
       "      <td>2011-01-01</td>\n",
       "      <td>1</td>\n",
       "      <td>0</td>\n",
       "      <td>1</td>\n",
       "      <td>1</td>\n",
       "      <td>0</td>\n",
       "      <td>6</td>\n",
       "      <td>0</td>\n",
       "      <td>1</td>\n",
       "      <td>0.22</td>\n",
       "      <td>0.2727</td>\n",
       "      <td>0.80</td>\n",
       "      <td>0.0</td>\n",
       "      <td>40</td>\n",
       "    </tr>\n",
       "    <tr>\n",
       "      <th>2</th>\n",
       "      <td>2011-01-01</td>\n",
       "      <td>1</td>\n",
       "      <td>0</td>\n",
       "      <td>1</td>\n",
       "      <td>2</td>\n",
       "      <td>0</td>\n",
       "      <td>6</td>\n",
       "      <td>0</td>\n",
       "      <td>1</td>\n",
       "      <td>0.22</td>\n",
       "      <td>0.2727</td>\n",
       "      <td>0.80</td>\n",
       "      <td>0.0</td>\n",
       "      <td>32</td>\n",
       "    </tr>\n",
       "    <tr>\n",
       "      <th>3</th>\n",
       "      <td>2011-01-01</td>\n",
       "      <td>1</td>\n",
       "      <td>0</td>\n",
       "      <td>1</td>\n",
       "      <td>3</td>\n",
       "      <td>0</td>\n",
       "      <td>6</td>\n",
       "      <td>0</td>\n",
       "      <td>1</td>\n",
       "      <td>0.24</td>\n",
       "      <td>0.2879</td>\n",
       "      <td>0.75</td>\n",
       "      <td>0.0</td>\n",
       "      <td>13</td>\n",
       "    </tr>\n",
       "    <tr>\n",
       "      <th>4</th>\n",
       "      <td>2011-01-01</td>\n",
       "      <td>1</td>\n",
       "      <td>0</td>\n",
       "      <td>1</td>\n",
       "      <td>4</td>\n",
       "      <td>0</td>\n",
       "      <td>6</td>\n",
       "      <td>0</td>\n",
       "      <td>1</td>\n",
       "      <td>0.24</td>\n",
       "      <td>0.2879</td>\n",
       "      <td>0.75</td>\n",
       "      <td>0.0</td>\n",
       "      <td>1</td>\n",
       "    </tr>\n",
       "  </tbody>\n",
       "</table>\n",
       "</div>"
      ],
      "text/plain": [
       "       dteday  season  yr  mnth  hr  holiday  weekday  workingday  weathersit  \\\n",
       "0  2011-01-01       1   0     1   0        0        6           0           1   \n",
       "1  2011-01-01       1   0     1   1        0        6           0           1   \n",
       "2  2011-01-01       1   0     1   2        0        6           0           1   \n",
       "3  2011-01-01       1   0     1   3        0        6           0           1   \n",
       "4  2011-01-01       1   0     1   4        0        6           0           1   \n",
       "\n",
       "   temp   atemp   hum  windspeed  cnt  \n",
       "0  0.24  0.2879  0.81        0.0   16  \n",
       "1  0.22  0.2727  0.80        0.0   40  \n",
       "2  0.22  0.2727  0.80        0.0   32  \n",
       "3  0.24  0.2879  0.75        0.0   13  \n",
       "4  0.24  0.2879  0.75        0.0    1  "
      ]
     },
     "execution_count": 4,
     "metadata": {},
     "output_type": "execute_result"
    }
   ],
   "source": [
    "#Dropping features with are not necessary\n",
    "df.drop(columns = ['instant', 'casual', 'registered'], inplace = True)\n",
    "df.head()"
   ]
  },
  {
   "cell_type": "code",
   "execution_count": 12,
   "metadata": {},
   "outputs": [
    {
     "data": {
      "text/plain": [
       "17379"
      ]
     },
     "execution_count": 12,
     "metadata": {},
     "output_type": "execute_result"
    }
   ],
   "source": [
    "df['season'].count()"
   ]
  },
  {
   "cell_type": "code",
   "execution_count": 18,
   "metadata": {},
   "outputs": [
    {
     "name": "stdout",
     "output_type": "stream",
     "text": [
      "Mean for season1 = 111.114569\n",
      "Mean for season2 = 208.344069\n",
      "Mean for season3 = 236.016237\n",
      "Mean for season4 = 198.868856\n"
     ]
    }
   ],
   "source": [
    "xs = pd.unique(df['season'])\n",
    "ys = []\n",
    "for i in range(len(xs)):\n",
    "    n = df.loc[df['season'] == xs[i], 'cnt'].sum()\n",
    "    d = df.loc[df['season'] == xs[i], 'season'].sum()/float((i+1))\n",
    "    \n",
    "    ys.append(float(n)/float(d))\n",
    "    \n",
    "for i in range(len(xs)):\n",
    "    print('Mean for season%d = %f' %(i+1, ys[i]))"
   ]
  },
  {
   "cell_type": "code",
   "execution_count": null,
   "metadata": {},
   "outputs": [],
   "source": [
    "xs = pd.unique(df['season'])\n",
    "ys = []\n",
    "for i in range(len(xs)):\n",
    "    n = df.loc[df['season'] == xs[i], 'cnt'].sum()\n",
    "    d = df.loc[df['season'] == xs[i], 'season'].sum()\n",
    "    \n",
    "    ys.append(n/d)\n",
    "    \n",
    "for i in range(len(xs)):\n",
    "    print('Mean for season%d = %d' %(i+1, ys[i]))"
   ]
  },
  {
   "cell_type": "markdown",
   "metadata": {},
   "source": [
    "### PLOTS"
   ]
  },
  {
   "cell_type": "code",
   "execution_count": 9,
   "metadata": {},
   "outputs": [
    {
     "data": {
      "image/png": "[encoded data removed]",
      "text/plain": [
       "<matplotlib.figure.Figure at 0x7f5a68d68350>"
      ]
     },
     "metadata": {
      "needs_background": "light"
     },
     "output_type": "display_data"
    },
    {
     "name": "stdout",
     "output_type": "stream",
     "text": [
      "[471348, 918589, 1061129, 841613]\n"
     ]
    }
   ],
   "source": [
    "xs = pd.unique(df['season'])\n",
    "ys = []\n",
    "for i in range(len(xs)):\n",
    "    v = df.loc[df['season'] == xs[i], 'cnt'].sum()\n",
    "    ys.append(v)\n",
    "\n",
    "#labels = ['1','2','3','4']\n",
    "fig, ax = plt.subplots(figsize = (8,8))\n",
    "ax.bar(xs, ys, width = 0.5)\n",
    "ax.set_xticks(xs)\n",
    "ax.set_xticklabels(xs)\n",
    "ax.set_title(\"Count vs Season\")\n",
    "ax.set_xlabel(\"Season\")\n",
    "ax.set_ylabel(\"Total Count\")\n",
    "\n",
    "plt.show()\n",
    "\n",
    "print(ys)"
   ]
  },
  {
   "cell_type": "code",
   "execution_count": 51,
   "metadata": {},
   "outputs": [
    {
     "data": {
      "image/png": "[encoded data removed]",
      "text/plain": [
       "<matplotlib.figure.Figure at 0x7f68d6c9bbd0>"
      ]
     },
     "metadata": {
      "needs_background": "light"
     },
     "output_type": "display_data"
    }
   ],
   "source": [
    "xs = pd.unique(df['weekday'])\n",
    "ys = []\n",
    "for i in range(len(xs)):\n",
    "    v = df.loc[df['weekday'] == xs[i], 'cnt'].sum()\n",
    "    ys.append(v)\n",
    "\n",
    "#labels = ['1','2','3','4']\n",
    "fig, ax = plt.subplots(figsize = (10,8))\n",
    "ax.bar(xs, ys, width = 0.5)\n",
    "ax.set_xticks(xs)\n",
    "ax.set_xticklabels(xs)\n",
    "ax.set_title(\"Count vs Weekday\")\n",
    "ax.set_xlabel(\"Weekday\")\n",
    "ax.set_ylabel(\"Total Count\")\n",
    "\n",
    "plt.show()"
   ]
  },
  {
   "cell_type": "code",
   "execution_count": 54,
   "metadata": {},
   "outputs": [
    {
     "data": {
      "image/png": "[encoded data removed]",
      "text/plain": [
       "<matplotlib.figure.Figure at 0x7f68d8ece750>"
      ]
     },
     "metadata": {
      "needs_background": "light"
     },
     "output_type": "display_data"
    }
   ],
   "source": [
    "xs = pd.unique(df['mnth'])\n",
    "ys = []\n",
    "for i in range(len(xs)):\n",
    "    v = df.loc[df['mnth'] == xs[i], 'cnt'].sum()\n",
    "    ys.append(v)\n",
    "\n",
    "#labels = ['1','2','3','4']\n",
    "fig, ax = plt.subplots(figsize = (10,8))\n",
    "ax.bar(xs, ys, width = 0.5)\n",
    "ax.set_xticks(xs)\n",
    "ax.set_xticklabels(xs)\n",
    "ax.set_title(\"Count vs Month\")\n",
    "ax.set_xlabel(\"Month\")\n",
    "ax.set_ylabel(\"Total Count\")\n",
    "\n",
    "plt.show()"
   ]
  },
  {
   "cell_type": "code",
   "execution_count": 58,
   "metadata": {},
   "outputs": [
    {
     "data": {
      "image/png": "[encoded data removed]",
      "text/plain": [
       "<matplotlib.figure.Figure at 0x7f68d6a75350>"
      ]
     },
     "metadata": {
      "needs_background": "light"
     },
     "output_type": "display_data"
    }
   ],
   "source": [
    "xs = pd.unique(df['workingday'])\n",
    "ys = []\n",
    "for i in range(len(xs)):\n",
    "    v = df.loc[df['workingday'] == xs[i], 'cnt'].sum()\n",
    "    ys.append(v)\n",
    "\n",
    "#labels = ['1','2','3','4']\n",
    "fig, ax = plt.subplots(figsize = (10,8))\n",
    "ax.bar(xs, ys, width = 0.3)\n",
    "ax.set_xticks(xs)\n",
    "ax.set_xticklabels(xs)\n",
    "ax.set_title(\"Count vs Working day\")\n",
    "ax.set_xlabel(\"Working day\")\n",
    "ax.set_ylabel(\"Total Count\")\n",
    "\n",
    "plt.show()"
   ]
  },
  {
   "cell_type": "code",
   "execution_count": 59,
   "metadata": {},
   "outputs": [
    {
     "data": {
      "image/png": "[encoded data removed]",
      "text/plain": [
       "<matplotlib.figure.Figure at 0x7f68d6d82dd0>"
      ]
     },
     "metadata": {
      "needs_background": "light"
     },
     "output_type": "display_data"
    }
   ],
   "source": [
    "xs = pd.unique(df['weathersit'])\n",
    "ys = []\n",
    "for i in range(len(xs)):\n",
    "    v = df.loc[df['weathersit'] == xs[i], 'cnt'].sum()\n",
    "    ys.append(v)\n",
    "\n",
    "#labels = ['1','2','3','4']\n",
    "fig, ax = plt.subplots(figsize = (10,8))\n",
    "ax.bar(xs, ys, width = 0.5)\n",
    "ax.set_xticks(xs)\n",
    "ax.set_xticklabels(xs)\n",
    "ax.set_title(\"Count vs Weather Situation\")\n",
    "ax.set_xlabel(\"Weather Situation\")\n",
    "ax.set_ylabel(\"Total Count\")\n",
    "\n",
    "plt.show()"
   ]
  },
  {
   "cell_type": "code",
   "execution_count": 28,
   "metadata": {},
   "outputs": [
    {
     "data": {
      "image/png": "[encoded data removed]",
      "text/plain": [
       "<matplotlib.figure.Figure at 0x7f68d6bb9750>"
      ]
     },
     "metadata": {
      "needs_background": "light"
     },
     "output_type": "display_data"
    }
   ],
   "source": [
    "#temp = df['temp']\n",
    "\n",
    "plt.figure(figsize=((12,8)))\n",
    "plt.scatter(df['temp'], df['cnt'], s=3)\n",
    "plt.title(\"Temperature vs count\")\n",
    "plt.xlabel(\"Temperature\")\n",
    "plt.ylabel(\"Count\")\n",
    "plt.legend()\n",
    "plt.show()"
   ]
  },
  {
   "cell_type": "code",
   "execution_count": 29,
   "metadata": {},
   "outputs": [
    {
     "data": {
      "image/png": "[encoded data removed]",
      "text/plain": [
       "<matplotlib.figure.Figure at 0x7f68d906e650>"
      ]
     },
     "metadata": {
      "needs_background": "light"
     },
     "output_type": "display_data"
    }
   ],
   "source": [
    "#temp = df['temp']\n",
    "\n",
    "plt.figure(figsize=((12,8)))\n",
    "plt.scatter(df['hum'], df['cnt'], s=3)\n",
    "plt.title(\"Humidity vs count\")\n",
    "plt.xlabel(\"Humidity\")\n",
    "plt.ylabel(\"Count\")\n",
    "plt.legend()\n",
    "plt.show()"
   ]
  },
  {
   "cell_type": "code",
   "execution_count": 4,
   "metadata": {},
   "outputs": [
    {
     "data": {
      "text/html": [
       "<div>\n",
       "<style scoped>\n",
       "    .dataframe tbody tr th:only-of-type {\n",
       "        vertical-align: middle;\n",
       "    }\n",
       "\n",
       "    .dataframe tbody tr th {\n",
       "        vertical-align: top;\n",
       "    }\n",
       "\n",
       "    .dataframe thead th {\n",
       "        text-align: right;\n",
       "    }\n",
       "</style>\n",
       "<table border=\"1\" class=\"dataframe\">\n",
       "  <thead>\n",
       "    <tr style=\"text-align: right;\">\n",
       "      <th></th>\n",
       "      <th>dteday</th>\n",
       "      <th>yr</th>\n",
       "      <th>holiday</th>\n",
       "      <th>workingday</th>\n",
       "      <th>temp</th>\n",
       "      <th>atemp</th>\n",
       "      <th>hum</th>\n",
       "      <th>windspeed</th>\n",
       "      <th>cnt</th>\n",
       "      <th>season_1</th>\n",
       "      <th>...</th>\n",
       "      <th>weekday_1</th>\n",
       "      <th>weekday_2</th>\n",
       "      <th>weekday_3</th>\n",
       "      <th>weekday_4</th>\n",
       "      <th>weekday_5</th>\n",
       "      <th>weekday_6</th>\n",
       "      <th>weather_1</th>\n",
       "      <th>weather_2</th>\n",
       "      <th>weather_3</th>\n",
       "      <th>weather_4</th>\n",
       "    </tr>\n",
       "  </thead>\n",
       "  <tbody>\n",
       "    <tr>\n",
       "      <th>0</th>\n",
       "      <td>2011-01-01</td>\n",
       "      <td>0</td>\n",
       "      <td>0</td>\n",
       "      <td>0</td>\n",
       "      <td>0.24</td>\n",
       "      <td>0.2879</td>\n",
       "      <td>0.81</td>\n",
       "      <td>0.0</td>\n",
       "      <td>16</td>\n",
       "      <td>1</td>\n",
       "      <td>...</td>\n",
       "      <td>0</td>\n",
       "      <td>0</td>\n",
       "      <td>0</td>\n",
       "      <td>0</td>\n",
       "      <td>0</td>\n",
       "      <td>1</td>\n",
       "      <td>1</td>\n",
       "      <td>0</td>\n",
       "      <td>0</td>\n",
       "      <td>0</td>\n",
       "    </tr>\n",
       "    <tr>\n",
       "      <th>1</th>\n",
       "      <td>2011-01-01</td>\n",
       "      <td>0</td>\n",
       "      <td>0</td>\n",
       "      <td>0</td>\n",
       "      <td>0.22</td>\n",
       "      <td>0.2727</td>\n",
       "      <td>0.80</td>\n",
       "      <td>0.0</td>\n",
       "      <td>40</td>\n",
       "      <td>1</td>\n",
       "      <td>...</td>\n",
       "      <td>0</td>\n",
       "      <td>0</td>\n",
       "      <td>0</td>\n",
       "      <td>0</td>\n",
       "      <td>0</td>\n",
       "      <td>1</td>\n",
       "      <td>1</td>\n",
       "      <td>0</td>\n",
       "      <td>0</td>\n",
       "      <td>0</td>\n",
       "    </tr>\n",
       "    <tr>\n",
       "      <th>2</th>\n",
       "      <td>2011-01-01</td>\n",
       "      <td>0</td>\n",
       "      <td>0</td>\n",
       "      <td>0</td>\n",
       "      <td>0.22</td>\n",
       "      <td>0.2727</td>\n",
       "      <td>0.80</td>\n",
       "      <td>0.0</td>\n",
       "      <td>32</td>\n",
       "      <td>1</td>\n",
       "      <td>...</td>\n",
       "      <td>0</td>\n",
       "      <td>0</td>\n",
       "      <td>0</td>\n",
       "      <td>0</td>\n",
       "      <td>0</td>\n",
       "      <td>1</td>\n",
       "      <td>1</td>\n",
       "      <td>0</td>\n",
       "      <td>0</td>\n",
       "      <td>0</td>\n",
       "    </tr>\n",
       "    <tr>\n",
       "      <th>3</th>\n",
       "      <td>2011-01-01</td>\n",
       "      <td>0</td>\n",
       "      <td>0</td>\n",
       "      <td>0</td>\n",
       "      <td>0.24</td>\n",
       "      <td>0.2879</td>\n",
       "      <td>0.75</td>\n",
       "      <td>0.0</td>\n",
       "      <td>13</td>\n",
       "      <td>1</td>\n",
       "      <td>...</td>\n",
       "      <td>0</td>\n",
       "      <td>0</td>\n",
       "      <td>0</td>\n",
       "      <td>0</td>\n",
       "      <td>0</td>\n",
       "      <td>1</td>\n",
       "      <td>1</td>\n",
       "      <td>0</td>\n",
       "      <td>0</td>\n",
       "      <td>0</td>\n",
       "    </tr>\n",
       "    <tr>\n",
       "      <th>4</th>\n",
       "      <td>2011-01-01</td>\n",
       "      <td>0</td>\n",
       "      <td>0</td>\n",
       "      <td>0</td>\n",
       "      <td>0.24</td>\n",
       "      <td>0.2879</td>\n",
       "      <td>0.75</td>\n",
       "      <td>0.0</td>\n",
       "      <td>1</td>\n",
       "      <td>1</td>\n",
       "      <td>...</td>\n",
       "      <td>0</td>\n",
       "      <td>0</td>\n",
       "      <td>0</td>\n",
       "      <td>0</td>\n",
       "      <td>0</td>\n",
       "      <td>1</td>\n",
       "      <td>1</td>\n",
       "      <td>0</td>\n",
       "      <td>0</td>\n",
       "      <td>0</td>\n",
       "    </tr>\n",
       "  </tbody>\n",
       "</table>\n",
       "<p>5 rows × 60 columns</p>\n",
       "</div>"
      ],
      "text/plain": [
       "       dteday  yr  holiday  workingday  temp   atemp   hum  windspeed  cnt  \\\n",
       "0  2011-01-01   0        0           0  0.24  0.2879  0.81        0.0   16   \n",
       "1  2011-01-01   0        0           0  0.22  0.2727  0.80        0.0   40   \n",
       "2  2011-01-01   0        0           0  0.22  0.2727  0.80        0.0   32   \n",
       "3  2011-01-01   0        0           0  0.24  0.2879  0.75        0.0   13   \n",
       "4  2011-01-01   0        0           0  0.24  0.2879  0.75        0.0    1   \n",
       "\n",
       "   season_1    ...      weekday_1  weekday_2  weekday_3  weekday_4  weekday_5  \\\n",
       "0         1    ...              0          0          0          0          0   \n",
       "1         1    ...              0          0          0          0          0   \n",
       "2         1    ...              0          0          0          0          0   \n",
       "3         1    ...              0          0          0          0          0   \n",
       "4         1    ...              0          0          0          0          0   \n",
       "\n",
       "   weekday_6  weather_1  weather_2  weather_3  weather_4  \n",
       "0          1          1          0          0          0  \n",
       "1          1          1          0          0          0  \n",
       "2          1          1          0          0          0  \n",
       "3          1          1          0          0          0  \n",
       "4          1          1          0          0          0  \n",
       "\n",
       "[5 rows x 60 columns]"
      ]
     },
     "execution_count": 4,
     "metadata": {},
     "output_type": "execute_result"
    }
   ],
   "source": [
    "#Converting all the categorical features\n",
    "s = pd.get_dummies(df['season'], prefix = \"season\")\n",
    "df = pd.concat([df, s], axis = 1)\n",
    "m = pd.get_dummies(df['mnth'], prefix = \"month\")\n",
    "df = pd.concat([df, m], axis = 1)\n",
    "h = pd.get_dummies(df['hr'], prefix = \"hour\")\n",
    "df = pd.concat([df, h], axis = 1)\n",
    "wd = pd.get_dummies(df['weekday'], prefix = \"weekday\")\n",
    "df = pd.concat([df, wd], axis = 1)\n",
    "w = pd.get_dummies(df['weathersit'], prefix = \"weather\")\n",
    "df = pd.concat([df, w], axis = 1)\n",
    "\n",
    "\n",
    "df.drop(columns = ['season', 'mnth', 'hr', 'weekday', 'weathersit'], inplace = True)\n",
    "\n",
    "df.head()"
   ]
  },
  {
   "cell_type": "code",
   "execution_count": 5,
   "metadata": {},
   "outputs": [
    {
     "data": {
      "text/html": [
       "<div>\n",
       "<style scoped>\n",
       "    .dataframe tbody tr th:only-of-type {\n",
       "        vertical-align: middle;\n",
       "    }\n",
       "\n",
       "    .dataframe tbody tr th {\n",
       "        vertical-align: top;\n",
       "    }\n",
       "\n",
       "    .dataframe thead th {\n",
       "        text-align: right;\n",
       "    }\n",
       "</style>\n",
       "<table border=\"1\" class=\"dataframe\">\n",
       "  <thead>\n",
       "    <tr style=\"text-align: right;\">\n",
       "      <th></th>\n",
       "      <th>dteday</th>\n",
       "      <th>yr</th>\n",
       "      <th>holiday</th>\n",
       "      <th>workingday</th>\n",
       "      <th>temp</th>\n",
       "      <th>atemp</th>\n",
       "      <th>hum</th>\n",
       "      <th>windspeed</th>\n",
       "      <th>season_1</th>\n",
       "      <th>season_2</th>\n",
       "      <th>...</th>\n",
       "      <th>weekday_2</th>\n",
       "      <th>weekday_3</th>\n",
       "      <th>weekday_4</th>\n",
       "      <th>weekday_5</th>\n",
       "      <th>weekday_6</th>\n",
       "      <th>weather_1</th>\n",
       "      <th>weather_2</th>\n",
       "      <th>weather_3</th>\n",
       "      <th>weather_4</th>\n",
       "      <th>cnt</th>\n",
       "    </tr>\n",
       "  </thead>\n",
       "  <tbody>\n",
       "    <tr>\n",
       "      <th>0</th>\n",
       "      <td>2011-01-01</td>\n",
       "      <td>0</td>\n",
       "      <td>0</td>\n",
       "      <td>0</td>\n",
       "      <td>0.24</td>\n",
       "      <td>0.2879</td>\n",
       "      <td>0.81</td>\n",
       "      <td>0.0</td>\n",
       "      <td>1</td>\n",
       "      <td>0</td>\n",
       "      <td>...</td>\n",
       "      <td>0</td>\n",
       "      <td>0</td>\n",
       "      <td>0</td>\n",
       "      <td>0</td>\n",
       "      <td>1</td>\n",
       "      <td>1</td>\n",
       "      <td>0</td>\n",
       "      <td>0</td>\n",
       "      <td>0</td>\n",
       "      <td>16</td>\n",
       "    </tr>\n",
       "    <tr>\n",
       "      <th>1</th>\n",
       "      <td>2011-01-01</td>\n",
       "      <td>0</td>\n",
       "      <td>0</td>\n",
       "      <td>0</td>\n",
       "      <td>0.22</td>\n",
       "      <td>0.2727</td>\n",
       "      <td>0.80</td>\n",
       "      <td>0.0</td>\n",
       "      <td>1</td>\n",
       "      <td>0</td>\n",
       "      <td>...</td>\n",
       "      <td>0</td>\n",
       "      <td>0</td>\n",
       "      <td>0</td>\n",
       "      <td>0</td>\n",
       "      <td>1</td>\n",
       "      <td>1</td>\n",
       "      <td>0</td>\n",
       "      <td>0</td>\n",
       "      <td>0</td>\n",
       "      <td>40</td>\n",
       "    </tr>\n",
       "    <tr>\n",
       "      <th>2</th>\n",
       "      <td>2011-01-01</td>\n",
       "      <td>0</td>\n",
       "      <td>0</td>\n",
       "      <td>0</td>\n",
       "      <td>0.22</td>\n",
       "      <td>0.2727</td>\n",
       "      <td>0.80</td>\n",
       "      <td>0.0</td>\n",
       "      <td>1</td>\n",
       "      <td>0</td>\n",
       "      <td>...</td>\n",
       "      <td>0</td>\n",
       "      <td>0</td>\n",
       "      <td>0</td>\n",
       "      <td>0</td>\n",
       "      <td>1</td>\n",
       "      <td>1</td>\n",
       "      <td>0</td>\n",
       "      <td>0</td>\n",
       "      <td>0</td>\n",
       "      <td>32</td>\n",
       "    </tr>\n",
       "    <tr>\n",
       "      <th>3</th>\n",
       "      <td>2011-01-01</td>\n",
       "      <td>0</td>\n",
       "      <td>0</td>\n",
       "      <td>0</td>\n",
       "      <td>0.24</td>\n",
       "      <td>0.2879</td>\n",
       "      <td>0.75</td>\n",
       "      <td>0.0</td>\n",
       "      <td>1</td>\n",
       "      <td>0</td>\n",
       "      <td>...</td>\n",
       "      <td>0</td>\n",
       "      <td>0</td>\n",
       "      <td>0</td>\n",
       "      <td>0</td>\n",
       "      <td>1</td>\n",
       "      <td>1</td>\n",
       "      <td>0</td>\n",
       "      <td>0</td>\n",
       "      <td>0</td>\n",
       "      <td>13</td>\n",
       "    </tr>\n",
       "    <tr>\n",
       "      <th>4</th>\n",
       "      <td>2011-01-01</td>\n",
       "      <td>0</td>\n",
       "      <td>0</td>\n",
       "      <td>0</td>\n",
       "      <td>0.24</td>\n",
       "      <td>0.2879</td>\n",
       "      <td>0.75</td>\n",
       "      <td>0.0</td>\n",
       "      <td>1</td>\n",
       "      <td>0</td>\n",
       "      <td>...</td>\n",
       "      <td>0</td>\n",
       "      <td>0</td>\n",
       "      <td>0</td>\n",
       "      <td>0</td>\n",
       "      <td>1</td>\n",
       "      <td>1</td>\n",
       "      <td>0</td>\n",
       "      <td>0</td>\n",
       "      <td>0</td>\n",
       "      <td>1</td>\n",
       "    </tr>\n",
       "  </tbody>\n",
       "</table>\n",
       "<p>5 rows × 60 columns</p>\n",
       "</div>"
      ],
      "text/plain": [
       "       dteday  yr  holiday  workingday  temp   atemp   hum  windspeed  \\\n",
       "0  2011-01-01   0        0           0  0.24  0.2879  0.81        0.0   \n",
       "1  2011-01-01   0        0           0  0.22  0.2727  0.80        0.0   \n",
       "2  2011-01-01   0        0           0  0.22  0.2727  0.80        0.0   \n",
       "3  2011-01-01   0        0           0  0.24  0.2879  0.75        0.0   \n",
       "4  2011-01-01   0        0           0  0.24  0.2879  0.75        0.0   \n",
       "\n",
       "   season_1  season_2 ...   weekday_2  weekday_3  weekday_4  weekday_5  \\\n",
       "0         1         0 ...           0          0          0          0   \n",
       "1         1         0 ...           0          0          0          0   \n",
       "2         1         0 ...           0          0          0          0   \n",
       "3         1         0 ...           0          0          0          0   \n",
       "4         1         0 ...           0          0          0          0   \n",
       "\n",
       "   weekday_6  weather_1  weather_2  weather_3  weather_4  cnt  \n",
       "0          1          1          0          0          0   16  \n",
       "1          1          1          0          0          0   40  \n",
       "2          1          1          0          0          0   32  \n",
       "3          1          1          0          0          0   13  \n",
       "4          1          1          0          0          0    1  \n",
       "\n",
       "[5 rows x 60 columns]"
      ]
     },
     "execution_count": 5,
     "metadata": {},
     "output_type": "execute_result"
    }
   ],
   "source": [
    "cnt = df['cnt']\n",
    "df.drop(columns = ['cnt'], inplace = True)\n",
    "df = pd.concat([df, cnt], axis = 1)\n",
    "\n",
    "df.head()"
   ]
  },
  {
   "cell_type": "code",
   "execution_count": 6,
   "metadata": {},
   "outputs": [],
   "source": [
    "#Extracting and Converting date to int \n",
    "df['dteday'] = df['dteday'].map( lambda d: (d[8:]))\n",
    "df['dteday'] = df['dteday'].astype('int')\n",
    "\n",
    "#Dividing the dataset into training and testing set\n",
    "#First 19 days of a month are taken into training set\n",
    "#From day 20 to end of a month are taken into testing set\n",
    "df_train = df[(df['dteday'] < 20)]\n",
    "df_test = df[(df['dteday'] >= 20)]"
   ]
  },
  {
   "cell_type": "code",
   "execution_count": 18,
   "metadata": {},
   "outputs": [],
   "source": [
    "test_set = df_test.values\n",
    "t_set = df_train.values\n",
    "\n",
    "#Training set is shuffled and splitted 80:20 into train and validation set\n",
    "l = int(0.8*(t_set.shape[0]))\n",
    "np.random.shuffle(t_set)\n",
    "train_set = t_set[:l, :]\n",
    "valid_set = t_set[l:, :]\n",
    "\n",
    "\n",
    "#x is features and y are output(count) of complete training set(Train+Validation set)\n",
    "y = t_set[:,-1]\n",
    "y.shape = (t_set.shape[0],1)\n",
    "x = t_set[:, 1:-1]\n",
    "one = np.ones((x.shape[0], 1))\n",
    "x = np.append(one, x, axis = 1)\n",
    "\n",
    "\n",
    "#Storing the output(count) in y and features matrix in x for all the sets(Train, Validation, Test)\n",
    "y_train = train_set[:,-1]\n",
    "y_train.shape = (train_set.shape[0],1)\n",
    "x_train = train_set[:, 1:-1]\n",
    "one = np.ones((x_train.shape[0], 1))\n",
    "x_train = np.append(one, x_train, axis = 1)\n",
    "\n",
    "y_valid = valid_set[:,-1]\n",
    "y_valid.shape = (valid_set.shape[0],1)\n",
    "x_valid = valid_set[:, 1:-1]\n",
    "one = np.ones((x_valid.shape[0], 1))\n",
    "x_valid = np.append(one, x_valid, axis = 1)\n",
    "\n",
    "y_test = test_set[:,-1]\n",
    "y_test.shape = (test_set.shape[0],1)\n",
    "x_test = test_set[:,1:-1]\n",
    "one = np.ones((x_test.shape[0], 1))\n",
    "x_test = np.append(one, x_test, axis = 1)"
   ]
  },
  {
   "cell_type": "code",
   "execution_count": 8,
   "metadata": {},
   "outputs": [],
   "source": [
    "def prediction(X, beta):\n",
    "    #Function to calucuate the lambda(output)\n",
    "    lamda = np.exp(np.matmul(X, beta))\n",
    "    \n",
    "    return lamda\n",
    "\n",
    "def rmse(y, y_cap):\n",
    "    #Function to calculate the Root mean square error\n",
    "    err = np.sqrt(np.sum((y_cap-y)**2)/float(y.shape[0]))\n",
    "    \n",
    "    return err"
   ]
  },
  {
   "cell_type": "markdown",
   "metadata": {},
   "source": [
    "### Gradient Descent without regularization"
   ]
  },
  {
   "cell_type": "code",
   "execution_count": 9,
   "metadata": {},
   "outputs": [],
   "source": [
    "#Without regularization\n",
    "def gradient(x, y, beta):\n",
    "    #Finding the gradient of loss function.\n",
    "    g = (np.exp(np.matmul(x, beta)) - y)*x\n",
    "    res = np.sum(g, axis = 0)\n",
    "    \n",
    "    return res\n",
    "\n",
    "\n",
    "def gd(x, y, alpha, iterations):\n",
    "    #Gradient descent function without regularization\n",
    "    \n",
    "    #Initializing the weights\n",
    "    beta = np.random.normal(scale = 1.0/x.shape[1], size = (x.shape[1], 1))  \n",
    "    \n",
    "    #Calculating loss function\n",
    "    #m = np.matmul(x, beta)\n",
    "    #loss = np.sum((np.exp(m) - y*m))\n",
    "    \n",
    "    #Calculating the error\n",
    "    error = rmse(y, prediction(x, beta))\n",
    "    \n",
    "    itr = 0\n",
    "    \n",
    "    training_process = []                    #list to store the training errors \n",
    "    while(itr < iterations):\n",
    "        #Updating the weights using gradient\n",
    "        beta = beta - alpha*gradient(x, y, beta).reshape(beta.shape)\n",
    "        \n",
    "        error = rmse(y, prediction(x, beta))\n",
    "        training_process.append((itr, error))\n",
    "        \n",
    "        #if(itr == 0 or itr%1000 == 0):\n",
    "            #print(\"Iteration : %d  Error = %f\" %(itr, error))\n",
    "        itr = itr+1\n",
    "    \n",
    "    error = rmse(y, prediction(x, beta))\n",
    "    \n",
    "    return beta, error, training_process"
   ]
  },
  {
   "cell_type": "markdown",
   "metadata": {},
   "source": [
    "### Gradient Descent with L1 regularization"
   ]
  },
  {
   "cell_type": "code",
   "execution_count": 10,
   "metadata": {},
   "outputs": [],
   "source": [
    "#L1 regularization\n",
    "def L1_gradient(x, y, gamma, beta):\n",
    "    #Finding the gradient of loss function(with R1 regularization).\n",
    "    g = (np.exp(np.matmul(x, beta)) - y)*x\n",
    "    res = np.sum(g, axis = 0)\n",
    "    res = res + np.sum(0.5*gamma*np.sign(beta))\n",
    "    \n",
    "    return res\n",
    "\n",
    "\n",
    "def L1_training(x, y, alpha, gamma, iterations):\n",
    "    #Gradient descent function without regularization\n",
    "    \n",
    "    #Initializing the weights\n",
    "    beta = np.random.normal(scale = 1.0/x.shape[1], size = (x.shape[1], 1))  #initialize\n",
    "    \n",
    "    #Calculating loss function\n",
    "    #m = np.matmul(x, beta)\n",
    "    #loss = np.sum(np.exp(m) - y*m) + np.sum(0.5*gamma*np.abs(beta))\n",
    "\n",
    "    #Calculating the error\n",
    "    error = rmse(y, prediction(x, beta))\n",
    "    \n",
    "    itr = 0\n",
    "    \n",
    "    training_process = []                      #list to store the training errors\n",
    "    while(itr < iterations):\n",
    "        #Updating the weights using gradient with L1 regularization\n",
    "        beta = beta - alpha*L1_gradient(x, y, gamma, beta).reshape(beta.shape)\n",
    "        \n",
    "        error = rmse(y, prediction(x, beta))\n",
    "        training_process.append((itr, error))\n",
    "        \n",
    "        #if(itr == 0 or itr%1000 == 0):\n",
    "            #print(\"Iteration : %d  Error = %f\" %(itr, error))\n",
    "        itr = itr+1\n",
    "    \n",
    "    error = rmse(y, prediction(x, beta))\n",
    "    \n",
    "    return beta, error, training_process"
   ]
  },
  {
   "cell_type": "markdown",
   "metadata": {},
   "source": [
    "### Gradient Descent with L2 regularization"
   ]
  },
  {
   "cell_type": "code",
   "execution_count": 11,
   "metadata": {},
   "outputs": [],
   "source": [
    "#L2 regularization\n",
    "def L2_gradient(x, y, gamma, beta):\n",
    "    #Finding the gradient of loss function(with R2 regularization).\n",
    "    g = (np.exp(np.matmul(x, beta)) - y)*x\n",
    "    res = np.sum(g, axis = 0)\n",
    "    res = res + gamma*beta.T\n",
    "    \n",
    "    return res\n",
    "\n",
    "\n",
    "def L2_training(x, y, alpha, gamma, iterations):\n",
    "    #Gradient descent function without regularization\n",
    "    \n",
    "    #Initializing the weights\n",
    "    beta = np.random.normal(scale = 1.0/x.shape[1], size = (x.shape[1], 1))  #initialize\n",
    "    \n",
    "    #Calculating loss function\n",
    "    #m = np.matmul(x, beta)\n",
    "    #loss = np.sum(np.exp(m) - y*m) + 0.5*gamma*np.matmul(beta.T, beta)\n",
    "\n",
    "    #Calculating the error\n",
    "    error = rmse(y, prediction(x, beta))\n",
    "    \n",
    "    itr = 0\n",
    "    #print(error)\n",
    "    \n",
    "    training_process = []                         #list to store the training errors\n",
    "    while(itr < iterations):\n",
    "        #Updating the weights using gradient with L2 regularization\n",
    "        beta = beta - alpha*L2_gradient(x, y, gamma, beta).reshape(beta.shape)\n",
    "        \n",
    "        error = rmse(y, prediction(x, beta))\n",
    "        training_process.append((itr, error))\n",
    "        \n",
    "        #if(itr == 0 or itr%1000 == 0):\n",
    "           # print(\"Iteration : %d  Error = %f\" %(itr, error))\n",
    "        itr = itr+1\n",
    "    \n",
    "    error = rmse(y, prediction(x, beta))\n",
    "    \n",
    "    return beta, error, training_process"
   ]
  },
  {
   "cell_type": "markdown",
   "metadata": {},
   "source": [
    "### Validation"
   ]
  },
  {
   "cell_type": "code",
   "execution_count": 17,
   "metadata": {},
   "outputs": [
    {
     "name": "stdout",
     "output_type": "stream",
     "text": [
      "Validation : 0 completed\n",
      "Validation : 1 completed\n",
      "Validation : 2 completed\n",
      "Validation : 3 completed\n",
      "Validation : 4 completed\n",
      "Validation : 5 completed\n",
      "Validation : 6 completed\n",
      "Validation : 7 completed\n",
      "Validation : 8 completed\n",
      "Validation : 9 completed\n",
      "Validation : 10 completed\n",
      "Validation : 11 completed\n",
      "Validation : 12 completed\n",
      "Validation : 13 completed\n",
      "Validation : 14 completed\n",
      "Validation : 15 completed\n",
      "Validation : 16 completed\n",
      "Validation : 17 completed\n",
      "Validation : 18 completed\n",
      "Validation : 19 completed\n",
      "Validation : 20 completed\n",
      "Validation : 21 completed\n",
      "Validation : 22 completed\n",
      "Validation : 23 completed\n",
      "Validation : 24 completed\n",
      "Validation : 25 completed\n",
      "Validation : 26 completed\n",
      "Validation : 27 completed\n",
      "Validation : 28 completed\n",
      "Validation : 29 completed\n",
      "Validation : 30 completed\n",
      "Validation : 31 completed\n",
      "Validation : 32 completed\n",
      "Validation : 33 completed\n",
      "Validation : 34 completed\n",
      "Validation : 35 completed\n",
      "Validation : 36 completed\n",
      "Validation : 37 completed\n",
      "Validation : 38 completed\n",
      "Validation : 39 completed\n",
      "Validation : 40 completed\n",
      "Validation : 41 completed\n",
      "Validation : 42 completed\n",
      "Validation : 43 completed\n",
      "Validation : 44 completed\n",
      "Validation : 45 completed\n",
      "Validation : 46 completed\n",
      "Validation : 47 completed\n",
      "Validation : 48 completed\n",
      "Validation : 49 completed\n",
      "Validation : 50 completed\n",
      "Validation : 51 completed\n",
      "Validation : 52 completed\n",
      "Validation : 53 completed\n",
      "Validation : 54 completed\n",
      "Validation : 55 completed\n",
      "Validation : 56 completed\n",
      "Validation : 57 completed\n",
      "Validation : 58 completed\n",
      "Validation : 59 completed\n",
      "Validation : 60 completed\n",
      "Validation : 61 completed\n",
      "Validation : 62 completed\n",
      "Validation : 63 completed\n",
      "Validation : 64 completed\n",
      "Validation : 65 completed\n",
      "Validation : 66 completed\n",
      "Validation : 67 completed\n",
      "Validation : 68 completed\n",
      "Validation : 69 completed\n",
      "Validation : 70 completed\n",
      "Validation : 71 completed\n",
      "Validation : 72 completed\n",
      "Validation : 73 completed\n",
      "Validation : 74 completed\n",
      "Validation : 75 completed\n",
      "Validation : 76 completed\n",
      "Validation : 77 completed\n",
      "Validation : 78 completed\n",
      "Validation : 79 completed\n",
      "Validation : 80 completed\n",
      "Validation : 81 completed\n",
      "Validation : 82 completed\n",
      "Validation : 83 completed\n",
      "Validation : 84 completed\n",
      "Validation : 85 completed\n",
      "Validation : 86 completed\n",
      "Validation : 87 completed\n",
      "Validation : 88 completed\n",
      "Validation : 89 completed\n",
      "Validation : 90 completed\n",
      "Validation : 91 completed\n",
      "Validation : 92 completed\n",
      "Validation : 93 completed\n",
      "Validation : 94 completed\n",
      "Validation : 95 completed\n",
      "Validation : 96 completed\n",
      "Validation : 97 completed\n",
      "Validation : 98 completed\n",
      "Validation : 99 completed\n",
      "Validation : 100 completed\n",
      "Validation : 101 completed\n",
      "Validation : 102 completed\n",
      "Validation : 103 completed\n",
      "Validation : 104 completed\n",
      "Validation : 105 completed\n",
      "Validation : 106 completed\n",
      "Validation : 107 completed\n",
      "Validation : 108 completed\n",
      "Validation : 109 completed\n",
      "Validation : 110 completed\n",
      "Validation : 111 completed\n",
      "Validation : 112 completed\n",
      "Validation : 113 completed\n",
      "Validation : 114 completed\n",
      "Validation : 115 completed\n",
      "Validation : 116 completed\n",
      "Validation : 117 completed\n",
      "Validation : 118 completed\n",
      "Validation : 119 completed\n",
      "Validation : 120 completed\n",
      "Validation Completed\n",
      "[ 0  0 70 69 75]\n"
     ]
    }
   ],
   "source": [
    "a = np.linspace(1e-8, 1e-7, 6)\n",
    "ALPHA = np.append(a[:-1], np.linspace(1e-7, 1e-6, 6)) \n",
    "a = np.linspace(1e-4, 1e-3, 6)\n",
    "GAMMA = np.append(a[:-1], np.linspace(1e-3 ,1e-2, 6))\n",
    "\n",
    "Validation = np.zeros((ALPHA.shape[0]*GAMMA.shape[0], 5))\n",
    "\n",
    "\n",
    "iterations = 1000\n",
    "i = 0\n",
    "\n",
    "#Training for various values of alpha and beta and storing the error in Validation matrix\n",
    "for alpha in ALPHA:\n",
    "    for gamma in GAMMA:\n",
    "        \n",
    "        beta, err, tr_err = gd(x_train, y_train, alpha, iterations)\n",
    "        e1 = rmse(y_valid, prediction(x_valid, beta1))   #Validation error for Gradient descent without regularization\n",
    "        beta1, err, tr_err = L1_training(x_train, y_train, alpha, gamma, iterations)\n",
    "        e2 = rmse(y_valid, prediction(x_valid, beta2))   #Validation error for Gradient descent with L1 regularization\n",
    "        beta2, err, tr_err = L2_training(x_train, y_train, alpha, gamma, iterations)\n",
    "        e3 = rmse(y_valid, prediction(x_valid, beta3))   #Validation error for Gradient descent with L2 regularization\n",
    "\n",
    "        Validation[i][0] = alpha\n",
    "        Validation[i][1] = gamma\n",
    "        Validation[i][2] = e1\n",
    "        Validation[i][3] = e2\n",
    "        Validation[i][4] = e3\n",
    "\n",
    "        print(\"Validation : %d completed\" %(i))\n",
    "        i = i + 1\n",
    "\n",
    "print(\"Validation Completed\")\n",
    "\n",
    "#Finding the minimum errors in all the trainings \n",
    "best = np.argmin(Validation, axis = 0)\n",
    "print(best)"
   ]
  },
  {
   "cell_type": "code",
   "execution_count": 21,
   "metadata": {},
   "outputs": [
    {
     "name": "stdout",
     "output_type": "stream",
     "text": [
      "('Best possible error for sgd = ', 93.32631700566319, 'Alpha = ', 2.7999999999999997e-07)\n",
      "('Best possible error for L1 = ', 93.32680883587919, 'Alpha = ', 2.7999999999999997e-07, 'Gamma = ', 0.0006399999999999999)\n",
      "('Best possible error for L2 = ', 93.32659210313695, 'Alpha = ', 2.7999999999999997e-07, 'Gamma = ', 0.0082)\n"
     ]
    }
   ],
   "source": [
    "print(\"Best possible error for sgd = \", Validation[best[2], 2], \"Alpha = \", Validation[best[2], 0])\n",
    "print(\"Best possible error for L1 = \", Validation[best[3], 3], \"Alpha = \", Validation[best[3], 0], \"Gamma = \", Validation[best[3], 1])\n",
    "print(\"Best possible error for L2 = \",Validation[best[4], 4], \"Alpha = \", Validation[best[4], 0], \"Gamma = \", Validation[best[4],1])"
   ]
  },
  {
   "cell_type": "code",
   "execution_count": 12,
   "metadata": {},
   "outputs": [
    {
     "name": "stdout",
     "output_type": "stream",
     "text": [
      "('Training error = ', 200.22205529907205)\n"
     ]
    },
    {
     "data": {
      "image/png": "[encoded data removed]",
      "text/plain": [
       "<matplotlib.figure.Figure at 0x7f431c653250>"
      ]
     },
     "metadata": {
      "needs_background": "light"
     },
     "output_type": "display_data"
    }
   ],
   "source": [
    "#After validation\n",
    "\n",
    "#Training on the complete dataset (Train + Validation set)\n",
    "iterations = 2000\n",
    "\n",
    "#best found alpha for gradient descent without regularization \n",
    "alpha = 2.7999999999999997e-07 #Validation[best[2], 0]\n",
    "\n",
    "beta, error, tr_err = gd(x, y, alpha, iterations)\n",
    "print(\"Training error = \", error)\n",
    "\n",
    "\n",
    "#Plotting the trainig error graph\n",
    "x1 = [i for i, j in tr_err]\n",
    "y1 = [j for i, j in tr_err]\n",
    "plt.figure(figsize=((16,4)))\n",
    "plt.scatter(x1, y1, s=s, label = 'train')\n",
    "plt.xlabel(\"Iterations\")\n",
    "plt.ylabel(\"Error\")\n",
    "plt.legend()\n",
    "plt.show()\n",
    "\n",
    "#print(y)\n",
    "#print(beta)"
   ]
  },
  {
   "cell_type": "code",
   "execution_count": 19,
   "metadata": {},
   "outputs": [
    {
     "name": "stdout",
     "output_type": "stream",
     "text": [
      "('Training error = ', 178.4221406196698)\n"
     ]
    },
    {
     "data": {
      "image/png": "[encoded data removed]",
      "text/plain": [
       "<matplotlib.figure.Figure at 0x7f4318c70110>"
      ]
     },
     "metadata": {
      "needs_background": "light"
     },
     "output_type": "display_data"
    }
   ],
   "source": [
    "#After validation\n",
    "\n",
    "#Training on the complete dataset (Train + Validation set)\n",
    "iterations = 2000\n",
    "\n",
    "#best found alphaand gamma for gradient descent with L1 regularization \n",
    "alpha = 2.7999999999999997e-07 #Validation[best[3], 0]\n",
    "gamma = 0.00063999999 #Validation[best[3], 1]\n",
    "\n",
    "beta1, error, tr_err = L1_training(x, y, alpha, gamma, iterations)\n",
    "print(\"Training error = \", error)\n",
    "\n",
    "\n",
    "#Plotting the trainig error graph\n",
    "x1 = [i for i, j in tr_err]\n",
    "y1 = [j for i, j in tr_err]\n",
    "plt.figure(figsize=((16,4)))\n",
    "plt.scatter(x1, y1, s=s, label = 'train')\n",
    "plt.xlabel(\"Iterations\")\n",
    "plt.ylabel(\"Error\")\n",
    "plt.legend()\n",
    "plt.show()\n",
    "\n",
    "#print(y)\n",
    "#print(beta)"
   ]
  },
  {
   "cell_type": "code",
   "execution_count": 17,
   "metadata": {},
   "outputs": [
    {
     "name": "stdout",
     "output_type": "stream",
     "text": [
      "('Training error = ', 88.09690648294314)\n"
     ]
    },
    {
     "data": {
      "image/png": "[encoded data removed]",
      "text/plain": [
       "<matplotlib.figure.Figure at 0x7f4318ccc190>"
      ]
     },
     "metadata": {
      "needs_background": "light"
     },
     "output_type": "display_data"
    }
   ],
   "source": [
    "#After validation\n",
    "\n",
    "#Training on the complete dataset (Train + Validation set)\n",
    "iterations = 2000\n",
    "\n",
    "#best found alpha and gamma for gradient descent with L2 regularization \n",
    "alpha = 1e-07 #Validation[best[4], 0]\n",
    "gamma = 0.0082 #Validation[best[4], 1]\n",
    "\n",
    "beta2, error, tr_err = L2_training(x_train, y_train, alpha, gamma, iterations)\n",
    "print(\"Training error = \", error)\n",
    "\n",
    "#Plotting the trainig error graph\n",
    "x1 = [i for i, j in tr_err]\n",
    "y1 = [j for i, j in tr_err]\n",
    "plt.figure(figsize=((16,4)))\n",
    "plt.scatter(x1, y1, s=s, label = 'train')\n",
    "plt.xlabel(\"Iterations\")\n",
    "plt.ylabel(\"Error\")\n",
    "plt.legend()\n",
    "plt.show()\n",
    "\n",
    "#print(y)\n",
    "#print(beta)"
   ]
  },
  {
   "cell_type": "code",
   "execution_count": 15,
   "metadata": {},
   "outputs": [
    {
     "name": "stdout",
     "output_type": "stream",
     "text": [
      "200.22205529907205\n",
      "201.70675751599325\n",
      "200.2219611566709\n",
      "201.6554537959182\n",
      "200.2220200855078\n",
      "201.54569747230587\n"
     ]
    }
   ],
   "source": [
    "print(rmse(y, prediction(x, beta)))\n",
    "print(rmse(y_test, prediction(x_test, beta)))\n",
    "\n",
    "print(rmse(y, prediction(x, beta1)))\n",
    "print(rmse(y_test, prediction(x_test, beta1)))\n",
    "\n",
    "print(rmse(y, prediction(x, beta2)))\n",
    "print(rmse(y_test, prediction(x_test, beta2)))"
   ]
  },
  {
   "cell_type": "code",
   "execution_count": null,
   "metadata": {},
   "outputs": [],
   "source": []
  },
  {
   "cell_type": "code",
   "execution_count": null,
   "metadata": {},
   "outputs": [],
   "source": []
  },
  {
   "cell_type": "code",
   "execution_count": null,
   "metadata": {},
   "outputs": [],
   "source": []
  },
  {
   "cell_type": "code",
   "execution_count": null,
   "metadata": {},
   "outputs": [],
   "source": []
  },
  {
   "cell_type": "code",
   "execution_count": null,
   "metadata": {},
   "outputs": [],
   "source": []
  },
  {
   "cell_type": "code",
   "execution_count": 25,
   "metadata": {},
   "outputs": [
    {
     "data": {
      "text/plain": [
       "94.18679723268451"
      ]
     },
     "execution_count": 25,
     "metadata": {},
     "output_type": "execute_result"
    }
   ],
   "source": [
    "rmse(y, prediction(x, beta))\n",
    "rmse(y_test, prediction(x_test, beta))"
   ]
  },
  {
   "cell_type": "code",
   "execution_count": null,
   "metadata": {},
   "outputs": [],
   "source": []
  },
  {
   "cell_type": "code",
   "execution_count": 15,
   "metadata": {},
   "outputs": [
    {
     "name": "stdout",
     "output_type": "stream",
     "text": [
      "('Best possible error for sgd = ', 83.69654110153888, 'Alpha = ', 2.7999999999999997e-07)\n",
      "('Best possible error for L1 = ', 83.6973510013524, 'Alpha = ', 2.7999999999999997e-07, 'Gamma = ', 0.00082)\n",
      "('Best possible error for L2 = ', 83.69663375167053, 'Alpha = ', 2.7999999999999997e-07, 'Gamma = ', 0.00082)\n"
     ]
    }
   ],
   "source": [
    "#4/11 first run\n",
    "print(\"Best possible error for sgd = \", Validation[best[2], 2], \"Alpha = \", Validation[best[2], 0])\n",
    "print(\"Best possible error for L1 = \", Validation[best[3], 3], \"Alpha = \", Validation[best[3], 0], \"Gamma = \", Validation[best[3], 1])\n",
    "print(\"Best possible error for L2 = \",Validation[best[4], 4], \"Alpha = \", Validation[best[4], 0], \"Gamma = \", Validation[best[4],1])"
   ]
  },
  {
   "cell_type": "code",
   "execution_count": 48,
   "metadata": {},
   "outputs": [
    {
     "name": "stdout",
     "output_type": "stream",
     "text": [
      "('Best possible error for sgd = ', 92.48489631679547, 'Alpha = ', 1e-07)\n",
      "('Best possible error for L1 = ', 92.47971110697455, 'Alpha = ', 1e-07, 'Gamma = ', 0.01)\n",
      "('Best possible error for L2 = ', 92.5117865993319, 'Alpha = ', 1e-07, 'Gamma = ', 0.0064)\n"
     ]
    }
   ],
   "source": [
    "#Previoussss\n",
    "print(\"Best possible error for sgd = \", Validation[best[2], 2], \"Alpha = \", Validation[best[2], 0])\n",
    "print(\"Best possible error for L1 = \", Validation[best[3], 3], \"Alpha = \", Validation[best[3], 0], \"Gamma = \", Validation[best[3], 1])\n",
    "print(\"Best possible error for L2 = \",Validation[best[4], 4], \"Alpha = \", Validation[best[4], 0], \"Gamma = \", Validation[best[4],1])"
   ]
  },
  {
   "cell_type": "code",
   "execution_count": 12,
   "metadata": {
    "scrolled": false
   },
   "outputs": [
    {
     "name": "stdout",
     "output_type": "stream",
     "text": [
      "Iteration : 0  Error = 262.035691\n",
      "Iteration : 1000  Error = 89.409506\n",
      "Iteration : 2000  Error = 88.618160\n",
      "Iteration : 3000  Error = 88.496206\n",
      "Iteration : 4000  Error = 88.465788\n"
     ]
    },
    {
     "data": {
      "image/png": "[encoded data removed]",
      "text/plain": [
       "<matplotlib.figure.Figure at 0x7f09cfdbd450>"
      ]
     },
     "metadata": {
      "needs_background": "light"
     },
     "output_type": "display_data"
    }
   ],
   "source": [
    "#Incresed features\n",
    "beta, tr_set = sgd(x, y, 1e-7, 5000)\n",
    "\n",
    "\n",
    "x1 = [i for i, j in tr_set]\n",
    "y1 = [j for i, j in tr_set]\n",
    "plt.figure(figsize=((16,4)))\n",
    "plt.scatter(x1, y1, s=s, label = 'train')\n",
    "\n",
    "plt.legend()\n",
    "plt.show()\n",
    "\n",
    "#print(y)\n",
    "#print(beta)"
   ]
  },
  {
   "cell_type": "code",
   "execution_count": 13,
   "metadata": {},
   "outputs": [
    {
     "name": "stdout",
     "output_type": "stream",
     "text": [
      "(10886, 1)\n",
      "(10886, 1)\n",
      "262.9042879353587\n",
      "262.9042879353587\n",
      "Iteration : 0  Error = 262.840752\n",
      "Iteration : 1000  Error = 106.698237\n",
      "Iteration : 2000  Error = 96.464922\n",
      "Iteration : 3000  Error = 93.660051\n",
      "Iteration : 4000  Error = 92.281786\n",
      "Iteration : 5000  Error = 91.401675\n",
      "Iteration : 6000  Error = 90.772330\n",
      "Iteration : 7000  Error = 90.298972\n",
      "Iteration : 8000  Error = 89.934280\n",
      "Iteration : 9000  Error = 89.649643\n",
      "Iterations completed. Error = 89.425815\n"
     ]
    },
    {
     "data": {
      "image/png": "[encoded data removed]",
      "text/plain": [
       "<matplotlib.figure.Figure at 0x7f16d0985890>"
      ]
     },
     "metadata": {
      "needs_background": "light"
     },
     "output_type": "display_data"
    }
   ],
   "source": [
    "#Incresed features\n",
    "beta, tr_set = sgd(x, y, 1e-8, 10000)\n",
    "\n",
    "\n",
    "x1 = [i for i, j in tr_set]\n",
    "y1 = [j for i, j in tr_set]\n",
    "plt.figure(figsize=((16,4)))\n",
    "plt.scatter(x1, y1, s=s, label = 'train')\n",
    "\n",
    "plt.legend()\n",
    "plt.show()\n",
    "\n",
    "#print(y)\n",
    "#print(beta)"
   ]
  },
  {
   "cell_type": "code",
   "execution_count": 14,
   "metadata": {},
   "outputs": [
    {
     "name": "stdout",
     "output_type": "stream",
     "text": [
      "(10886, 1)\n",
      "(10886, 1)\n",
      "262.9583542423925\n",
      "262.9583542423925\n",
      "Iteration : 0  Error = 262.607621\n",
      "Iteration : 1000  Error = 91.288157\n",
      "Iteration : 2000  Error = 89.391534\n",
      "Iteration : 3000  Error = 88.817241\n",
      "Iteration : 4000  Error = 88.613175\n",
      "Iterations completed. Error = 88.530735\n"
     ]
    },
    {
     "data": {
      "image/png": "[encoded data removed]",
      "text/plain": [
       "<matplotlib.figure.Figure at 0x7f16cd400350>"
      ]
     },
     "metadata": {
      "needs_background": "light"
     },
     "output_type": "display_data"
    }
   ],
   "source": [
    "#Incresed features\n",
    "beta, tr_set = sgd(x, y, 5*1e-8, 5000)\n",
    "\n",
    "\n",
    "x1 = [i for i, j in tr_set]\n",
    "y1 = [j for i, j in tr_set]\n",
    "plt.figure(figsize=((16,4)))\n",
    "plt.scatter(x1, y1, s=s, label = 'train')\n",
    "\n",
    "plt.legend()\n",
    "plt.show()\n",
    "\n",
    "#print(y)\n",
    "#print(beta)"
   ]
  },
  {
   "cell_type": "code",
   "execution_count": 15,
   "metadata": {},
   "outputs": [
    {
     "name": "stdout",
     "output_type": "stream",
     "text": [
      "(10886, 1)\n",
      "(10886, 1)\n",
      "262.91757765162214\n",
      "262.91757765162214\n",
      "Iteration : 0  Error = 261.982816\n",
      "Iteration : 1000  Error = 89.397894\n",
      "Iteration : 2000  Error = 88.616616\n",
      "Iteration : 3000  Error = 88.495849\n",
      "Iteration : 4000  Error = 88.465626\n",
      "Iterations completed. Error = 88.454464\n"
     ]
    },
    {
     "data": {
      "image/png": "[encoded data removed]",
      "text/plain": [
       "<matplotlib.figure.Figure at 0x7f16cd3e6f10>"
      ]
     },
     "metadata": {
      "needs_background": "light"
     },
     "output_type": "display_data"
    }
   ],
   "source": [
    "#Incresed features\n",
    "beta, tr_set = sgd(x, y, 1e-7, 5000)\n",
    "\n",
    "\n",
    "x1 = [i for i, j in tr_set]\n",
    "y1 = [j for i, j in tr_set]\n",
    "plt.figure(figsize=((16,4)))\n",
    "plt.scatter(x1, y1, s=s, label = 'train')\n",
    "\n",
    "plt.legend()\n",
    "plt.show()\n",
    "\n",
    "#print(y)\n",
    "#print(beta)"
   ]
  },
  {
   "cell_type": "code",
   "execution_count": 17,
   "metadata": {},
   "outputs": [
    {
     "name": "stdout",
     "output_type": "stream",
     "text": [
      "(10886, 1)\n",
      "(10886, 1)\n",
      "262.9325389256282\n",
      "262.9325389256282\n",
      "Iteration : 0  Error = 262.018716\n",
      "Iteration : 1000  Error = 89.417681\n",
      "Iteration : 2000  Error = 88.615847\n",
      "Iteration : 3000  Error = 88.493414\n",
      "Iteration : 4000  Error = 88.463400\n",
      "Iterations completed. Error = 88.452615\n"
     ]
    },
    {
     "data": {
      "image/png": "[encoded data removed]",
      "text/plain": [
       "<matplotlib.figure.Figure at 0x7f16d09a0410>"
      ]
     },
     "metadata": {
      "needs_background": "light"
     },
     "output_type": "display_data"
    }
   ],
   "source": [
    "#Incresed features\n",
    "beta, tr_set = sgd(x, y, 1e-7, 5000)\n",
    "\n",
    "\n",
    "x1 = [i for i, j in tr_set]\n",
    "y1 = [j for i, j in tr_set]\n",
    "plt.figure(figsize=((16,4)))\n",
    "plt.scatter(x1, y1, s=s, label = 'train')\n",
    "\n",
    "plt.legend()\n",
    "plt.show()\n",
    "\n",
    "#print(y)\n",
    "#print(beta)"
   ]
  },
  {
   "cell_type": "code",
   "execution_count": 37,
   "metadata": {},
   "outputs": [
    {
     "name": "stdout",
     "output_type": "stream",
     "text": [
      "262.8886711112983\n",
      "262.8886711112983\n",
      "Iteration : 0  Error = 261.913659\n",
      "Iteration : 1000  Error = 89.396574\n",
      "Iteration : 2000  Error = 88.616044\n",
      "Iteration : 3000  Error = 88.495450\n",
      "Iteration : 4000  Error = 88.465351\n",
      "Iterations completed. Error = 88.454287\n"
     ]
    },
    {
     "data": {
      "image/png": "[encoded data removed]",
      "text/plain": [
       "<matplotlib.figure.Figure at 0x7f16cd0935d0>"
      ]
     },
     "metadata": {
      "needs_background": "light"
     },
     "output_type": "display_data"
    },
    {
     "name": "stdout",
     "output_type": "stream",
     "text": [
      "94.3492220470793\n"
     ]
    }
   ],
   "source": [
    "#Incresed features\n",
    "beta, tr_set = L2_training(x, y, 1e-7, 1e-6, 5000)\n",
    "\n",
    "\n",
    "x1 = [i for i, j in tr_set]\n",
    "y1 = [j for i, j in tr_set]\n",
    "plt.figure(figsize=((16,4)))\n",
    "plt.scatter(x1, y1, s=s, label = 'train')\n",
    "\n",
    "plt.legend()\n",
    "plt.show()\n",
    "\n",
    "#print(y)\n",
    "#print(beta)\n",
    "\n",
    "y_pred = prediction(x_test, beta)\n",
    "\n",
    "test_error = rmse(y_pred, y_test)\n",
    "print(test_error)"
   ]
  },
  {
   "cell_type": "code",
   "execution_count": 38,
   "metadata": {},
   "outputs": [
    {
     "name": "stdout",
     "output_type": "stream",
     "text": [
      "262.93200754537474\n",
      "262.93200754537474\n",
      "Iteration : 0  Error = 262.015822\n",
      "Iteration : 1000  Error = 89.414401\n",
      "Iteration : 2000  Error = 88.615134\n",
      "Iteration : 3000  Error = 88.493149\n",
      "Iteration : 4000  Error = 88.463225\n",
      "Iterations completed. Error = 88.452485\n"
     ]
    },
    {
     "data": {
      "image/png": "[encoded data removed]",
      "text/plain": [
       "<matplotlib.figure.Figure at 0x7f16cd647990>"
      ]
     },
     "metadata": {
      "needs_background": "light"
     },
     "output_type": "display_data"
    },
    {
     "name": "stdout",
     "output_type": "stream",
     "text": [
      "94.35578188824633\n"
     ]
    }
   ],
   "source": [
    "#Incresed features\n",
    "beta, tr_set = L2_training(x, y, 1e-7, 1e-5, 5000)\n",
    "\n",
    "\n",
    "x1 = [i for i, j in tr_set]\n",
    "y1 = [j for i, j in tr_set]\n",
    "plt.figure(figsize=((16,4)))\n",
    "plt.scatter(x1, y1, s=s, label = 'train')\n",
    "\n",
    "plt.legend()\n",
    "plt.show()\n",
    "\n",
    "#print(y)\n",
    "#print(beta)\n",
    "\n",
    "y_pred = prediction(x_test, beta)\n",
    "\n",
    "test_error = rmse(y_pred, y_test)\n",
    "print(test_error)"
   ]
  },
  {
   "cell_type": "code",
   "execution_count": 39,
   "metadata": {},
   "outputs": [
    {
     "name": "stdout",
     "output_type": "stream",
     "text": [
      "262.96994433514163\n",
      "262.96994433514163\n",
      "Iteration : 0  Error = 262.103998\n",
      "Iteration : 1000  Error = 89.400708\n",
      "Iteration : 2000  Error = 88.615458\n",
      "Iteration : 3000  Error = 88.494526\n",
      "Iteration : 4000  Error = 88.464512\n",
      "Iterations completed. Error = 88.453560\n"
     ]
    },
    {
     "data": {
      "image/png": "[encoded data removed]",
      "text/plain": [
       "<matplotlib.figure.Figure at 0x7f16cd453450>"
      ]
     },
     "metadata": {
      "needs_background": "light"
     },
     "output_type": "display_data"
    },
    {
     "name": "stdout",
     "output_type": "stream",
     "text": [
      "94.1506652861551\n"
     ]
    }
   ],
   "source": [
    "#Incresed features\n",
    "beta, tr_set = L2_training(x, y, 1e-7, 1e-4, 5000)\n",
    "\n",
    "\n",
    "x1 = [i for i, j in tr_set]\n",
    "y1 = [j for i, j in tr_set]\n",
    "plt.figure(figsize=((16,4)))\n",
    "plt.scatter(x1, y1, s=s, label = 'train')\n",
    "\n",
    "plt.legend()\n",
    "plt.show()\n",
    "\n",
    "#print(y)\n",
    "#print(beta)\n",
    "\n",
    "y_pred = prediction(x_test, beta)\n",
    "\n",
    "test_error = rmse(y_pred, y_test)\n",
    "print(test_error)"
   ]
  },
  {
   "cell_type": "code",
   "execution_count": 40,
   "metadata": {},
   "outputs": [
    {
     "name": "stdout",
     "output_type": "stream",
     "text": [
      "262.92909645889637\n",
      "262.92909645889637\n",
      "Iteration : 0  Error = 262.010479\n",
      "Iteration : 1000  Error = 89.409201\n",
      "Iteration : 2000  Error = 88.615796\n",
      "Iteration : 3000  Error = 88.494077\n",
      "Iteration : 4000  Error = 88.464056\n",
      "Iterations completed. Error = 88.453189\n"
     ]
    },
    {
     "data": {
      "image/png": "[encoded data removed]",
      "text/plain": [
       "<matplotlib.figure.Figure at 0x7f16cd688890>"
      ]
     },
     "metadata": {
      "needs_background": "light"
     },
     "output_type": "display_data"
    },
    {
     "name": "stdout",
     "output_type": "stream",
     "text": [
      "93.96127084128125\n"
     ]
    }
   ],
   "source": [
    "#Incresed features\n",
    "beta, tr_set = L2_training(x, y, 1e-7, 1e-3, 5000)\n",
    "\n",
    "\n",
    "x1 = [i for i, j in tr_set]\n",
    "y1 = [j for i, j in tr_set]\n",
    "plt.figure(figsize=((16,4)))\n",
    "plt.scatter(x1, y1, s=s, label = 'train')\n",
    "\n",
    "plt.legend()\n",
    "plt.show()\n",
    "\n",
    "#print(y)\n",
    "#print(beta)\n",
    "\n",
    "y_pred = prediction(x_test, beta)\n",
    "\n",
    "test_error = rmse(y_pred, y_test)\n",
    "print(test_error)"
   ]
  },
  {
   "cell_type": "code",
   "execution_count": 41,
   "metadata": {},
   "outputs": [
    {
     "name": "stdout",
     "output_type": "stream",
     "text": [
      "262.90455349092946\n",
      "262.90455349092946\n",
      "Iteration : 0  Error = 261.954609\n",
      "Iteration : 1000  Error = 89.404639\n",
      "Iteration : 2000  Error = 88.615510\n",
      "Iteration : 3000  Error = 88.494236\n",
      "Iteration : 4000  Error = 88.464227\n",
      "Iterations completed. Error = 88.453315\n"
     ]
    },
    {
     "data": {
      "image/png": "[encoded data removed]",
      "text/plain": [
       "<matplotlib.figure.Figure at 0x7f16cd55c450>"
      ]
     },
     "metadata": {
      "needs_background": "light"
     },
     "output_type": "display_data"
    },
    {
     "name": "stdout",
     "output_type": "stream",
     "text": [
      "94.25612896015161\n"
     ]
    }
   ],
   "source": [
    "#Incresed features\n",
    "beta, tr_set = L2_training(x, y, 1e-7, 5*1e-2, 5000)\n",
    "\n",
    "\n",
    "x1 = [i for i, j in tr_set]\n",
    "y1 = [j for i, j in tr_set]\n",
    "plt.figure(figsize=((16,4)))\n",
    "plt.scatter(x1, y1, s=s, label = 'train')\n",
    "\n",
    "plt.legend()\n",
    "plt.show()\n",
    "\n",
    "#print(y)\n",
    "#print(beta)\n",
    "\n",
    "y_pred = prediction(x_test, beta)\n",
    "\n",
    "test_error = rmse(y_pred, y_test)\n",
    "print(test_error)"
   ]
  },
  {
   "cell_type": "code",
   "execution_count": 42,
   "metadata": {},
   "outputs": [
    {
     "name": "stdout",
     "output_type": "stream",
     "text": [
      "262.91813864923824\n",
      "262.91813864923824\n",
      "Iteration : 0  Error = 261.983914\n",
      "Iteration : 1000  Error = 89.389916\n",
      "Iteration : 2000  Error = 88.617214\n",
      "Iteration : 3000  Error = 88.497000\n",
      "Iteration : 4000  Error = 88.466654\n",
      "Iterations completed. Error = 88.455313\n"
     ]
    },
    {
     "data": {
      "image/png": "[encoded data removed]",
      "text/plain": [
       "<matplotlib.figure.Figure at 0x7f16cd437d90>"
      ]
     },
     "metadata": {
      "needs_background": "light"
     },
     "output_type": "display_data"
    },
    {
     "name": "stdout",
     "output_type": "stream",
     "text": [
      "94.18199310071134\n"
     ]
    }
   ],
   "source": [
    "#Incresed features\n",
    "beta, tr_set = L2_training(x, y, 1e-7, 8*1e-2, 5000)\n",
    "\n",
    "\n",
    "x1 = [i for i, j in tr_set]\n",
    "y1 = [j for i, j in tr_set]\n",
    "plt.figure(figsize=((16,4)))\n",
    "plt.scatter(x1, y1, s=s, label = 'train')\n",
    "\n",
    "plt.legend()\n",
    "plt.show()\n",
    "\n",
    "#print(y)\n",
    "#print(beta)\n",
    "\n",
    "y_pred = prediction(x_test, beta)\n",
    "\n",
    "test_error = rmse(y_pred, y_test)\n",
    "print(test_error)"
   ]
  },
  {
   "cell_type": "code",
   "execution_count": 43,
   "metadata": {},
   "outputs": [
    {
     "name": "stdout",
     "output_type": "stream",
     "text": [
      "262.93547312494894\n",
      "262.93547312494894\n",
      "Iteration : 0  Error = 262.025779\n",
      "Iteration : 1000  Error = 89.394865\n",
      "Iteration : 2000  Error = 88.613318\n",
      "Iteration : 3000  Error = 88.493024\n",
      "Iteration : 4000  Error = 88.463332\n",
      "Iterations completed. Error = 88.452608\n"
     ]
    },
    {
     "data": {
      "image/png": "[encoded data removed]",
      "text/plain": [
       "<matplotlib.figure.Figure at 0x7f16cd6a6990>"
      ]
     },
     "metadata": {
      "needs_background": "light"
     },
     "output_type": "display_data"
    },
    {
     "name": "stdout",
     "output_type": "stream",
     "text": [
      "94.31607614178374\n"
     ]
    }
   ],
   "source": [
    "#Incresed features\n",
    "beta, tr_set = L2_training(x, y, 1e-7, 3*1e-3, 5000)\n",
    "\n",
    "\n",
    "x1 = [i for i, j in tr_set]\n",
    "y1 = [j for i, j in tr_set]\n",
    "plt.figure(figsize=((16,4)))\n",
    "plt.scatter(x1, y1, s=s, label = 'train')\n",
    "\n",
    "plt.legend()\n",
    "plt.show()\n",
    "\n",
    "#print(y)\n",
    "#print(beta)\n",
    "\n",
    "y_pred = prediction(x_test, beta)\n",
    "\n",
    "test_error = rmse(y_pred, y_test)\n",
    "print(test_error)"
   ]
  },
  {
   "cell_type": "code",
   "execution_count": 46,
   "metadata": {},
   "outputs": [
    {
     "name": "stdout",
     "output_type": "stream",
     "text": [
      "262.99579079361354\n",
      "262.99579079361354\n",
      "Iteration : 0  Error = 262.161746\n",
      "Iteration : 1000  Error = 89.418689\n",
      "Iteration : 2000  Error = 88.619173\n",
      "Iteration : 3000  Error = 88.496372\n",
      "Iteration : 4000  Error = 88.465827\n",
      "Iterations completed. Error = 88.454596\n"
     ]
    },
    {
     "data": {
      "image/png": "[encoded data removed]",
      "text/plain": [
       "<matplotlib.figure.Figure at 0x7f16cd57cf90>"
      ]
     },
     "metadata": {
      "needs_background": "light"
     },
     "output_type": "display_data"
    },
    {
     "name": "stdout",
     "output_type": "stream",
     "text": [
      "94.1096666877689\n"
     ]
    }
   ],
   "source": [
    "#Incresed features\n",
    "beta, tr_set = L2_training(x, y, 1e-7, 1, 5000)\n",
    "\n",
    "\n",
    "x1 = [i for i, j in tr_set]\n",
    "y1 = [j for i, j in tr_set]\n",
    "plt.figure(figsize=((16,4)))\n",
    "plt.scatter(x1, y1, s=s, label = 'train')\n",
    "\n",
    "plt.legend()\n",
    "plt.show()\n",
    "\n",
    "#print(y)\n",
    "#print(beta)\n",
    "\n",
    "y_pred = prediction(x_test, beta)\n",
    "\n",
    "test_error = rmse(y_pred, y_test)\n",
    "print(test_error)"
   ]
  },
  {
   "cell_type": "code",
   "execution_count": null,
   "metadata": {},
   "outputs": [],
   "source": []
  },
  {
   "cell_type": "code",
   "execution_count": 50,
   "metadata": {},
   "outputs": [
    {
     "name": "stdout",
     "output_type": "stream",
     "text": [
      "262.92469280983704\n",
      "262.92469280983704\n",
      "Iteration : 0  Error = 261.998377\n",
      "Iteration : 1000  Error = 89.407373\n",
      "Iteration : 2000  Error = 88.614805\n",
      "Iteration : 3000  Error = 88.493370\n",
      "Iteration : 4000  Error = 88.463474\n",
      "Iterations completed. Error = 88.452689\n"
     ]
    },
    {
     "data": {
      "image/png": "[encoded data removed]",
      "text/plain": [
       "<matplotlib.figure.Figure at 0x7f16cd57c7d0>"
      ]
     },
     "metadata": {
      "needs_background": "light"
     },
     "output_type": "display_data"
    },
    {
     "name": "stdout",
     "output_type": "stream",
     "text": [
      "93.97862999981724\n"
     ]
    }
   ],
   "source": [
    "#Incresed features\n",
    "beta, tr_set = L1_training(x, y, 1e-7, 1e-3, 5000)\n",
    "\n",
    "\n",
    "x1 = [i for i, j in tr_set]\n",
    "y1 = [j for i, j in tr_set]\n",
    "plt.figure(figsize=((16,4)))\n",
    "plt.scatter(x1, y1, s=s, label = 'train')\n",
    "\n",
    "plt.legend()\n",
    "plt.show()\n",
    "\n",
    "#print(y)\n",
    "#print(beta)\n",
    "\n",
    "y_pred = prediction(x_test, beta)\n",
    "\n",
    "test_error = rmse(y_pred, y_test)\n",
    "print(test_error)"
   ]
  },
  {
   "cell_type": "code",
   "execution_count": 51,
   "metadata": {},
   "outputs": [
    {
     "name": "stdout",
     "output_type": "stream",
     "text": [
      "262.91845824101046\n",
      "262.91845824101046\n",
      "Iteration : 0  Error = 261.985837\n",
      "Iteration : 1000  Error = 89.405374\n",
      "Iteration : 2000  Error = 88.614812\n",
      "Iteration : 3000  Error = 88.493606\n",
      "Iteration : 4000  Error = 88.463714\n",
      "Iterations completed. Error = 88.452905\n"
     ]
    },
    {
     "data": {
      "image/png": "[encoded data removed]",
      "text/plain": [
       "<matplotlib.figure.Figure at 0x7f16ccff0f10>"
      ]
     },
     "metadata": {
      "needs_background": "light"
     },
     "output_type": "display_data"
    },
    {
     "name": "stdout",
     "output_type": "stream",
     "text": [
      "94.18355178335558\n"
     ]
    }
   ],
   "source": [
    "#Incresed features\n",
    "beta, tr_set = L1_training(x, y, 1e-7, 1e-4, 5000)\n",
    "\n",
    "\n",
    "x1 = [i for i, j in tr_set]\n",
    "y1 = [j for i, j in tr_set]\n",
    "plt.figure(figsize=((16,4)))\n",
    "plt.scatter(x1, y1, s=s, label = 'train')\n",
    "\n",
    "plt.legend()\n",
    "plt.show()\n",
    "\n",
    "#print(y)\n",
    "#print(beta)\n",
    "\n",
    "y_pred = prediction(x_test, beta)\n",
    "\n",
    "test_error = rmse(y_pred, y_test)\n",
    "print(test_error)"
   ]
  },
  {
   "cell_type": "code",
   "execution_count": 64,
   "metadata": {},
   "outputs": [
    {
     "name": "stdout",
     "output_type": "stream",
     "text": [
      "262.93619221065103\n",
      "262.93619221065103\n",
      "Iteration : 0  Error = 262.024995\n",
      "Iteration : 1000  Error = 89.395104\n",
      "Iteration : 2000  Error = 88.613391\n",
      "Iteration : 3000  Error = 88.493101\n",
      "Iteration : 4000  Error = 88.463384\n",
      "Iterations completed. Error = 88.452640\n"
     ]
    },
    {
     "data": {
      "image/png": "[encoded data removed]",
      "text/plain": [
       "<matplotlib.figure.Figure at 0x7f16ccfa6ad0>"
      ]
     },
     "metadata": {
      "needs_background": "light"
     },
     "output_type": "display_data"
    },
    {
     "name": "stdout",
     "output_type": "stream",
     "text": [
      "94.09994865306159\n"
     ]
    }
   ],
   "source": [
    "#Incresed features\n",
    "beta, tr_set = L1_training(x, y, 1e-7, 1e-2, 5000)\n",
    "\n",
    "\n",
    "x1 = [i for i, j in tr_set]\n",
    "y1 = [j for i, j in tr_set]\n",
    "plt.figure(figsize=((16,4)))\n",
    "plt.scatter(x1, y1, s=s, label = 'train')\n",
    "\n",
    "plt.legend()\n",
    "plt.show()\n",
    "\n",
    "#print(y)\n",
    "#print(beta)\n",
    "\n",
    "y_pred = prediction(x_test, beta)\n",
    "\n",
    "test_error = rmse(y_pred, y_test)\n",
    "print(test_error)"
   ]
  },
  {
   "cell_type": "code",
   "execution_count": 15,
   "metadata": {},
   "outputs": [
    {
     "ename": "NameError",
     "evalue": "name 'L1_training' is not defined",
     "output_type": "error",
     "traceback": [
      "\u001b[0;31m---------------------------------------------------------------------------\u001b[0m",
      "\u001b[0;31mNameError\u001b[0m                                 Traceback (most recent call last)",
      "\u001b[0;32m<ipython-input-15-81a1bd859d38>\u001b[0m in \u001b[0;36m<module>\u001b[0;34m()\u001b[0m\n\u001b[1;32m      1\u001b[0m \u001b[0;31m#Incresed features\u001b[0m\u001b[0;34m\u001b[0m\u001b[0;34m\u001b[0m\u001b[0m\n\u001b[0;32m----> 2\u001b[0;31m \u001b[0mbeta\u001b[0m\u001b[0;34m,\u001b[0m \u001b[0mtr_set\u001b[0m \u001b[0;34m=\u001b[0m \u001b[0mL1_training\u001b[0m\u001b[0;34m(\u001b[0m\u001b[0mx\u001b[0m\u001b[0;34m,\u001b[0m \u001b[0my\u001b[0m\u001b[0;34m,\u001b[0m \u001b[0;36m1e-7\u001b[0m\u001b[0;34m,\u001b[0m \u001b[0;36m1e-3\u001b[0m\u001b[0;34m,\u001b[0m \u001b[0;36m5000\u001b[0m\u001b[0;34m)\u001b[0m\u001b[0;34m\u001b[0m\u001b[0m\n\u001b[0m\u001b[1;32m      3\u001b[0m \u001b[0;34m\u001b[0m\u001b[0m\n\u001b[1;32m      4\u001b[0m \u001b[0;34m\u001b[0m\u001b[0m\n\u001b[1;32m      5\u001b[0m \u001b[0mx1\u001b[0m \u001b[0;34m=\u001b[0m \u001b[0;34m[\u001b[0m\u001b[0mi\u001b[0m \u001b[0;32mfor\u001b[0m \u001b[0mi\u001b[0m\u001b[0;34m,\u001b[0m \u001b[0mj\u001b[0m \u001b[0;32min\u001b[0m \u001b[0mtr_set\u001b[0m\u001b[0;34m]\u001b[0m\u001b[0;34m\u001b[0m\u001b[0m\n",
      "\u001b[0;31mNameError\u001b[0m: name 'L1_training' is not defined"
     ]
    }
   ],
   "source": [
    "#Incresed features\n",
    "beta, tr_set = L1_training(x, y, 1e-7, 1e-3, 5000)\n",
    "\n",
    "\n",
    "x1 = [i for i, j in tr_set]\n",
    "y1 = [j for i, j in tr_set]\n",
    "plt.figure(figsize=((16,4)))\n",
    "plt.scatter(x1, y1, s=s, label = 'train')\n",
    "\n",
    "plt.legend()\n",
    "plt.show()\n",
    "\n",
    "#print(y)\n",
    "#print(beta)\n",
    "\n",
    "y_pred = prediction(x_test, beta)\n",
    "\n",
    "test_error = rmse(y_pred, y_test)\n",
    "print(test_error)"
   ]
  },
  {
   "cell_type": "code",
   "execution_count": 12,
   "metadata": {},
   "outputs": [
    {
     "name": "stdout",
     "output_type": "stream",
     "text": [
      "Iteration : 0  Error = 262.000133\n"
     ]
    },
    {
     "data": {
      "image/png": "[encoded data removed]",
      "text/plain": [
       "<matplotlib.figure.Figure at 0x7fece7166490>"
      ]
     },
     "metadata": {
      "needs_background": "light"
     },
     "output_type": "display_data"
    },
    {
     "name": "stdout",
     "output_type": "stream",
     "text": [
      "95.13539600501403\n"
     ]
    }
   ],
   "source": [
    "#Incresed features\n",
    "beta, tr_set = sgd(x, y, 1e-7, 1000)\n",
    "\n",
    "\n",
    "x1 = [i for i, j in tr_set]\n",
    "y1 = [j for i, j in tr_set]\n",
    "plt.figure(figsize=((16,4)))\n",
    "plt.scatter(x1, y1, s=s, label = 'train')\n",
    "\n",
    "plt.legend()\n",
    "plt.show()\n",
    "\n",
    "#print(y)\n",
    "#print(beta)\n",
    "\n",
    "y_pred = prediction(x_test, beta)\n",
    "\n",
    "test_error = rmse(y_pred, y_test)\n",
    "print(test_error)"
   ]
  },
  {
   "cell_type": "code",
   "execution_count": 12,
   "metadata": {},
   "outputs": [
    {
     "name": "stdout",
     "output_type": "stream",
     "text": [
      "(10886, 59)\n",
      "(10886, 59)\n",
      "Iteration : 0  Error = 262.033503\n",
      "Iteration : 1000  Error = 180.902832\n",
      "Iteration : 2000  Error = 180.766601\n",
      "Iteration : 3000  Error = 180.759379\n",
      "Iteration : 4000  Error = 180.758583\n"
     ]
    },
    {
     "data": {
      "image/png": "[encoded data removed]",
      "text/plain": [
       "<matplotlib.figure.Figure at 0x7f981907e3d0>"
      ]
     },
     "metadata": {
      "needs_background": "light"
     },
     "output_type": "display_data"
    },
    {
     "name": "stdout",
     "output_type": "stream",
     "text": [
      "182.70924792407354\n"
     ]
    }
   ],
   "source": [
    "print(x.shape)\n",
    "np.random.shuffle(x)\n",
    "print(x.shape)\n",
    "\n",
    "#Incresed features\n",
    "beta, tr_set = sgd(x, y, 1e-7, 5000)\n",
    "\n",
    "\n",
    "x1 = [i for i, j in tr_set]\n",
    "y1 = [j for i, j in tr_set]\n",
    "plt.figure(figsize=((16,4)))\n",
    "plt.scatter(x1, y1, s=s, label = 'train')\n",
    "\n",
    "plt.legend()\n",
    "plt.show()\n",
    "\n",
    "#print(y)\n",
    "#print(beta)\n",
    "\n",
    "y_pred = prediction(x_test, beta)\n",
    "\n",
    "test_error = rmse(y_pred, y_test)\n",
    "print(test_error)"
   ]
  },
  {
   "cell_type": "code",
   "execution_count": 21,
   "metadata": {},
   "outputs": [
    {
     "name": "stdout",
     "output_type": "stream",
     "text": [
      "('Shape x ', (10886, 59))\n",
      "Iteration : 0  Error = 262.817207\n",
      "Iteration : 1000  Error = 183.773065\n"
     ]
    },
    {
     "data": {
      "image/png": "[encoded data removed]",
      "text/plain": [
       "<matplotlib.figure.Figure at 0x7f060d4056d0>"
      ]
     },
     "metadata": {
      "needs_background": "light"
     },
     "output_type": "display_data"
    },
    {
     "name": "stdout",
     "output_type": "stream",
     "text": [
      "186.28400911735136\n"
     ]
    }
   ],
   "source": [
    "temp = np.random.permutation(x.shape[0])\n",
    "x2 = x[temp, :]\n",
    "\n",
    "#Incresed features\n",
    "beta, tr_set = sgd(x2, y, 1e-7, 1001)\n",
    "\n",
    "x1 = [i for i, j in tr_set]\n",
    "y1 = [j for i, j in tr_set]\n",
    "plt.figure(figsize=((16,4)))\n",
    "plt.scatter(x1, y1, s=s, label = 'train')\n",
    "\n",
    "plt.legend()\n",
    "plt.show()\n",
    "\n",
    "#print(y)\n",
    "#print(beta)\n",
    "\n",
    "y_pred = prediction(x_test, beta)\n",
    "\n",
    "test_error = rmse(y_pred, y_test)\n",
    "print(test_error)"
   ]
  },
  {
   "cell_type": "code",
   "execution_count": 50,
   "metadata": {},
   "outputs": [
    {
     "name": "stdout",
     "output_type": "stream",
     "text": [
      "('Shape x ', (10886, 59))\n",
      "Iteration : 0  Error = 261.969959\n",
      "Iteration : 1000  Error = 89.406677\n"
     ]
    },
    {
     "data": {
      "image/png": "[encoded data removed]",
      "text/plain": [
       "<matplotlib.figure.Figure at 0x7f060d2c3e90>"
      ]
     },
     "metadata": {
      "needs_background": "light"
     },
     "output_type": "display_data"
    },
    {
     "name": "stdout",
     "output_type": "stream",
     "text": [
      "95.21121568182566\n"
     ]
    }
   ],
   "source": [
    "temp = np.random.permutation(x.shape[0])\n",
    "x2 = x[temp, :]\n",
    "\n",
    "#Incresed features\n",
    "beta, tr_set = sgd(x, y, 1e-7, 1001)\n",
    "\n",
    "\n",
    "x1 = [i for i, j in tr_set]\n",
    "y1 = [j for i, j in tr_set]\n",
    "plt.figure(figsize=((16,4)))\n",
    "plt.scatter(x1, y1, s=s, label = 'train')\n",
    "\n",
    "plt.legend()\n",
    "plt.show()\n",
    "\n",
    "#print(y)\n",
    "#print(beta)\n",
    "\n",
    "y_pred = prediction(x_test, beta)\n",
    "\n",
    "test_error = rmse(y_pred, y_test)\n",
    "print(test_error)"
   ]
  },
  {
   "cell_type": "code",
   "execution_count": 13,
   "metadata": {},
   "outputs": [
    {
     "data": {
      "text/plain": [
       "array([1.0e-08, 2.8e-08, 4.6e-08, 6.4e-08, 8.2e-08, 1.0e-07, 2.8e-07,\n",
       "       4.6e-07, 6.4e-07, 8.2e-07, 1.0e-06])"
      ]
     },
     "execution_count": 13,
     "metadata": {},
     "output_type": "execute_result"
    }
   ],
   "source": [
    "a = np.linspace(1e-8, 1e-7, 6)\n",
    "ALPHA = np.append(a[:-1], np.linspace(1e-7, 1e-6, 6))\n",
    "ALPHA"
   ]
  },
  {
   "cell_type": "code",
   "execution_count": 16,
   "metadata": {},
   "outputs": [
    {
     "data": {
      "text/plain": [
       "array([0.0001 , 0.00028, 0.00046, 0.00064, 0.00082, 0.001  , 0.0028 ,\n",
       "       0.0046 , 0.0064 , 0.0082 , 0.01   ])"
      ]
     },
     "execution_count": 16,
     "metadata": {},
     "output_type": "execute_result"
    }
   ],
   "source": [
    "GAMMA"
   ]
  },
  {
   "cell_type": "code",
   "execution_count": null,
   "metadata": {},
   "outputs": [],
   "source": []
  }
 ],
 "metadata": {
  "kernelspec": {
   "display_name": "Python 3",
   "language": "python",
   "name": "python3"
  }
 },
 "nbformat": 4,
 "nbformat_minor": 2
}
